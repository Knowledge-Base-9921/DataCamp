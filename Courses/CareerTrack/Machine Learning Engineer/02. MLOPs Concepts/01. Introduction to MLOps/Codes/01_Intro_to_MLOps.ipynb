{
 "cells": [
  {
   "cell_type": "markdown",
   "id": "aeff15be",
   "metadata": {},
   "source": [
    "# 1. Introduction to MLOps\n",
    "\n",
    "First, you’ll learn about the core features of MLOps. You’ll explore the machine learning lifecycle, its phases, and the roles associated with MLOps processes."
   ]
  },
  {
   "cell_type": "markdown",
   "id": "d8b32936",
   "metadata": {},
   "source": [
    "## Libraries"
   ]
  },
  {
   "cell_type": "code",
   "execution_count": 3,
   "id": "c9788142",
   "metadata": {},
   "outputs": [],
   "source": [
    "# No requirements for libraries and modules"
   ]
  },
  {
   "cell_type": "markdown",
   "id": "e2f85c88",
   "metadata": {},
   "source": [
    "## User Variables"
   ]
  },
  {
   "cell_type": "code",
   "execution_count": 2,
   "id": "adddb378",
   "metadata": {},
   "outputs": [],
   "source": [
    "# No requirements for user variables"
   ]
  },
  {
   "cell_type": "markdown",
   "id": "0d0737ee",
   "metadata": {},
   "source": [
    "# Exercises"
   ]
  },
  {
   "cell_type": "markdown",
   "id": "8c0addbe",
   "metadata": {},
   "source": [
    "## 1. Quiz: Explaining MLOps\n",
    "\n",
    "### Description\n",
    "\n",
    "Imagine you are at a party with a friend who is new to data science and wants to know what MLOps is. You use an analogy to explain it in a way that's relatable and easy to understand.\n",
    "\n",
    "### Instructions\n",
    "\n",
    "Which of the following analogies would best help your friend understand the nature of MLOps?\n",
    "\n",
    "### Answer\n",
    "\n",
    "MLOps is like a factory assembly line where different components are added and tested at each stage to ensure the final product is of high quality.This analogy best captures the systematic, iterative, and quality-focused nature of MLOps, where different stages of the machine learning lifecycle are managed and monitored continuously to ensure efficient and reliable deployment of models in production.\n"
   ]
  },
  {
   "cell_type": "markdown",
   "id": "f32eeb9c",
   "metadata": {},
   "source": [
    "## 2. MLOps principles\n",
    "\n",
    "### Description\n",
    "\n",
    "As your team recognizes your growing expertise in MLOps, a senior colleague decides to challenge your knowledge. They present you with a mix of statements, some that align with MLOps principles and others that do not. Eager to demonstrate your understanding, you take on the challenge of categorizing these statements into those that are in line with MLOps and those that are not.\n",
    "\n",
    "In this exercise, you will categorize statements into two buckets: one for statements that align with MLOps principles and another for statements that do not.\n",
    "\n",
    "### Instructions\n",
    "\n",
    "* Classify which action is in line with MLOps principles and which one is not."
   ]
  },
  {
   "cell_type": "markdown",
   "id": "c4051ba2",
   "metadata": {},
   "source": [
    "### Answer\n",
    "\n",
    "* Actions in line with MLOps principles\n",
    "    * Set up automated testing and validation pipelines for models before they reach production.\n",
    "    * Establish a system for continuous monitoring of model performance in production.\n",
    "    * Implement version control for both data and model code to ensure reproducibility and traceability.\n",
    "* Actions not in line with MLOps principles\n",
    "    * Conduct a lengthy manual review process for every model update before deployment.\n",
    "    * Rely on manual deployment processes for all model changes to maintain control.\n",
    "    * Keep the data science and operations teams completely separate to avoid confusion."
   ]
  },
  {
   "cell_type": "markdown",
   "id": "6649016f",
   "metadata": {},
   "source": [
    "Well done! You've accurately identified key MLOps principles, showcasing your grasp of effective machine learning operations. Remember, MLOps streamlines the ML lifecycle, enhances team collaboration, and ensures reliable model deployment in production."
   ]
  },
  {
   "cell_type": "markdown",
   "id": "91362862",
   "metadata": {},
   "source": [
    "## 3. Quiz: The ML lifecycle\n",
    "\n",
    "### Description\n",
    "\n",
    "The machine learning lifecycle is a key concept within MLOps. There are three distinct phases in the machine learning lifecycle: design, development, and deployment. Following these phases can greatly help in structuring your machine learning project.\n",
    "\n",
    "### Instructions\n",
    "\n",
    "What is true about the machine learning lifecycle?\n",
    "\n",
    "### Answer\n",
    "\n",
    "The machine learning lifecycle is an iterative and cyclical process where it is not uncommon to go back and forth between phases. Indeed! The machine learning lifecycle is an iterative and cyclical process. It is important to constantly evaluate with different stakeholders to make sure that you are on the right track."
   ]
  },
  {
   "cell_type": "markdown",
   "id": "00514060",
   "metadata": {},
   "source": [
    "## 4. Tasks per phase\n",
    "\n",
    "### Description\n",
    "\n",
    "In each phase, we can distinguish different tasks. Identifying the different tasks can help to see who is involved in that task, and what practices or tools we can apply to that task.\n",
    "\n",
    "In this exercise, you will classify which tasks are part of which phase.\n",
    "\n",
    "### Instructions\n",
    "\n",
    "* Classify which task belongs to which phase."
   ]
  },
  {
   "cell_type": "markdown",
   "id": "8333e8bf",
   "metadata": {},
   "source": [
    "### Answer\n",
    "\n",
    "* Design\n",
    "    * Make an overview of the potential data sources that you need.\n",
    "    * Talk to the business manager to find out how accurate your machine learning model should be.\n",
    "* Development\n",
    "    * Do an experiment comparing two algorithms.\n",
    "    * Use a combination of two features, for instance, the average per day, as input for your machine learning model.\n",
    "* Deployment\n",
    "    * Do a weekly check of the machine learning model predictions.\n",
    "    * Implement the machine learning model in the business process."
   ]
  },
  {
   "cell_type": "markdown",
   "id": "296ef24c",
   "metadata": {},
   "source": [
    "Congratulations! Did you know that 85% of machine learning models never make it to production? Having a structured process, for instance, by using these phases, can greatly help in tackling this problem!"
   ]
  },
  {
   "cell_type": "markdown",
   "id": "eac6c2c5",
   "metadata": {},
   "source": [
    "## 5. Quiz: Your MLOps team\n",
    "\n",
    "### Description\n",
    "\n",
    "You just learned about the potential roles that are involved in MLOps processes. Even though the precise names of roles can differ for different projects or companies, there are core responsibilities to each role that are required in every project. Having clearly defined roles allows every role to focus on its own set of responsibilities which streamlines MLOps processes.\n",
    "\n",
    "### Instructions\n",
    "\n",
    "Imagine you are a data scientist, and you work in a team where you are training a machine learning model to use in your business. You have hired someone to collect, process, and store data for you, but you need someone to deploy the model once it is finished. For which role should you create a vacancy?\n",
    "\n",
    "### Answer\n",
    "\n",
    "Machine Learning Engineer.\n",
    "\n",
    "The machine learning engineer is responsible for deploying the model. Having clear roles and responsibilities leaves no confusion as to who does what, which can greatly speed up the lifecycle."
   ]
  },
  {
   "cell_type": "markdown",
   "id": "968c7cad",
   "metadata": {},
   "source": [
    "## 6. Core roles in MLOps processes\n",
    "\n",
    "### Description\n",
    "\n",
    "You now know about the wide variety of roles that are involved in the machine learning lifecycle. Each role has its own responsibilities and, thus, relevance within the MLOps processes.\n",
    "\n",
    "In this exercise, you will look at the three core roles involved. Let's see if you can distinguish who is responsible for which task.\n",
    "\n",
    "### Instructions\n",
    "\n",
    "* Decide which task belongs to which role."
   ]
  },
  {
   "cell_type": "markdown",
   "id": "a6a6bcca",
   "metadata": {},
   "source": [
    "### Answer\n",
    "\n",
    "* Data Engineer\n",
    "    * Make sure that incoming data is validated according to data quality requirements.\n",
    "    * Extract raw data from different sources and store in a centralized place.\n",
    "    * Design and maintain data pipelines to ensure efficient data flow and accesssibility for analysis.\n",
    "* Data Scientist\n",
    "    * Perform hyperparameter tuning to make sure the model training process is optimized.\n",
    "    * Assess the performance of the machine learning model according to the performance requirements.\n",
    "    * Develop and implement machine learning models to solve specific business problems."
   ]
  },
  {
   "cell_type": "markdown",
   "id": "a0b2103b",
   "metadata": {},
   "source": [
    "Well done! Having defined roles and responsibilities is very important for ML projects to succeed, especially as organizations or projects scale. This also applies to designing and developing machine learning models, which we'll cover in chapter two!"
   ]
  }
 ],
 "metadata": {
  "kernelspec": {
   "display_name": "Python 3",
   "language": "python",
   "name": "python3"
  },
  "language_info": {
   "codemirror_mode": {
    "name": "ipython",
    "version": 3
   },
   "file_extension": ".py",
   "mimetype": "text/x-python",
   "name": "python",
   "nbconvert_exporter": "python",
   "pygments_lexer": "ipython3",
   "version": "3.12.2"
  }
 },
 "nbformat": 4,
 "nbformat_minor": 5
}
