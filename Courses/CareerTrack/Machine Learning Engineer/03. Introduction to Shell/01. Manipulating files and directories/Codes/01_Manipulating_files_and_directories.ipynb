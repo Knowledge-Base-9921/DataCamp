{
 "cells": [
  {
   "cell_type": "markdown",
   "id": "4020b14e",
   "metadata": {},
   "source": [
    "# 1. Manipulating files and directories\n",
    "\n",
    "This chapter is a brief introduction to the Unix shell. You'll learn why it is still in use after almost 50 years, how it compares to the graphical tools you may be more familiar with, how to move around in the shell, and how to create, modify, and delete files and folders."
   ]
  },
  {
   "cell_type": "markdown",
   "id": "91af8d9b",
   "metadata": {},
   "source": [
    "## Libraries"
   ]
  },
  {
   "cell_type": "code",
   "execution_count": null,
   "id": "c15496f2",
   "metadata": {},
   "outputs": [],
   "source": [
    "# No requirements for libraries and modules"
   ]
  },
  {
   "cell_type": "markdown",
   "id": "c97c611b",
   "metadata": {},
   "source": [
    "## User Variables"
   ]
  },
  {
   "cell_type": "code",
   "execution_count": null,
   "id": "8d8f2662",
   "metadata": {},
   "outputs": [],
   "source": [
    "# No requirements for user variables"
   ]
  },
  {
   "cell_type": "markdown",
   "id": "4a89593c",
   "metadata": {},
   "source": [
    "# Exercises"
   ]
  },
  {
   "cell_type": "markdown",
   "id": "96221e37",
   "metadata": {},
   "source": [
    "## 1. Quiz: How does the shell compare to a desktop interface?\n",
    "\n",
    "### Description\n",
    "\n",
    "An operating system like Windows, Linux, or Mac OS is a special kind of program. It controls the computer's processor, hard drive, and network connection, but its most important job is to run other programs.\n",
    "\n",
    "Since human beings aren't digital, they need an interface to interact with the operating system. The most common one these days is a graphical file explorer, which translates clicks and double-clicks into commands to open files and run programs. Before computers had graphical displays, though, people typed instructions into a program called a command-line shell. Each time a command is entered, the shell runs some other programs, prints their output in human-readable form, and then displays a prompt to signal that it's ready to accept the next command. (Its name comes from the notion that it's the \"outer shell\" of the computer.)\n",
    "\n",
    "Typing commands instead of clicking and dragging may seem clumsy at first, but as you will see, once you start spelling out what you want the computer to do, you can combine old commands to create new ones and automate repetitive operations with just a few keystrokes.\n",
    "\n",
    "### Instructions\n",
    "\n",
    "What is the relationship between the graphical file explorer that most people use and the command-line shell?\n",
    "\n",
    "### Answer\n",
    "\n",
    "Both take the user's commands (whether typed or clicked) and send them to the operating system."
   ]
  },
  {
   "cell_type": "markdown",
   "id": "78208b8b",
   "metadata": {},
   "source": [
    "## 2. Where am I?\n",
    "\n",
    "### Description\n",
    "\n",
    "The filesystem manages files and directories (or folders). Each is identified by an absolute path that shows how to reach it from the filesystem's root directory: ``/home/repl`` is the directory ``repl`` in the directory ``home``, while ``/home/repl/course.txt`` is a file ``course.txt`` in that directory, and ``/`` on its own is the root directory.\n",
    "\n",
    "To find out where you are in the filesystem, run the command ``pwd`` (short for \"print working directory\"). This prints the absolute path of your current working directory, which is where the shell runs commands and looks for files by default.\n",
    "\n",
    "### Instructions\n",
    "\n",
    "Run ``pwd``. Where are you right now?\n",
    "\n",
    "### Answer\n"
   ]
  },
  {
   "cell_type": "markdown",
   "id": "2015f765",
   "metadata": {},
   "source": [
    "![PWD](../Images/ex2.png)"
   ]
  },
  {
   "cell_type": "markdown",
   "id": "024afa2d",
   "metadata": {},
   "source": [
    "## 3. How can I identify files and directories?\n",
    "\n",
    "### Description\n",
    "\n",
    "``pwd`` tells you where you are. To find out what's there, type ``ls`` (which is short for \"listing\") and press the enter key. On its own, ``ls`` lists the contents of your current directory (the one displayed by ``pwd``). If you add the names of some files, ``ls`` will list them, and if you add the names of directories, it will list their contents. For example, ``ls /home/repl`` shows you what's in your starting directory (usually called your <b>home directory</b>).\n",
    "\n",
    "### Instructions\n",
    "\n",
    "Use ``ls`` with an appropriate argument to list the files in the directory ``/home/repl/seasonal`` (which holds information on dental surgeries by date, broken down by season). Which of these files is <i>not</i> in that directory?\n",
    "\n",
    "### Answer"
   ]
  },
  {
   "cell_type": "markdown",
   "id": "5f7f5641",
   "metadata": {},
   "source": [
    "![Ex3](../Images/ex3.png)"
   ]
  },
  {
   "cell_type": "markdown",
   "id": "c3d911cc",
   "metadata": {},
   "source": [
    "The answer is: `fall.csv` is not there in the given directory"
   ]
  },
  {
   "cell_type": "markdown",
   "id": "b16ac3f5",
   "metadata": {},
   "source": [
    "## 4. How else can I identify files and directories?\n",
    "\n",
    "### Description\n",
    "\n",
    "An absolute path is like a latitude and longitude: it has the same value no matter where you are. A <b>relative path</b>, on the other hand, specifies a location starting from where you are: it's like saying \"20 kilometers north\".\n",
    "\n",
    "As examples:\n",
    "\n",
    "* If you are in the directory ``/home/repl``, the relative path ``seasonal`` specifies the same directory as the <b>absolute</b> path ``/home/repl/seasonal``.\n",
    "* If you are in the directory ``/home/repl/seasonal``, the relative path ``winter.csv`` specifies the same file as the <b>absolute</b> path ``/home/repl/seasonal/winter.csv``.\n",
    "\n",
    "The shell decides if a path is absolute or relative by looking at its first character: If it begins with ``/``, it is absolute. If it <i>does not</i> begin with ``/``, it is relative.\n",
    "\n",
    "### Instructions\n",
    "\n",
    "* You are in ``/home/repl``. Use ``ls`` with a <b>relative path</b> to list the file that has an absolute path of ``/home/repl/course.txt`` (and only that file).\n",
    "* You are in ``/home/repl``. Use ``ls`` with a <b>relative path</b> to list the file ``/home/repl/seasonal/summer.csv``(and only that file).\n",
    "* You are in ``/home/repl``. Use ``ls`` with a <b>relative path</b> to list the contents of the directory ``/home/repl/people``."
   ]
  },
  {
   "cell_type": "markdown",
   "id": "53ba4193",
   "metadata": {},
   "source": [
    "### Answer\n",
    "\n",
    "![Ex3](../Images/ex4.png)"
   ]
  },
  {
   "cell_type": "markdown",
   "id": "b3a9ebad",
   "metadata": {},
   "source": [
    "## 5. How can I move to another directory?\n",
    "\n",
    "### Description\n",
    "\n",
    "Just as you can move around in a file browser by double-clicking on folders, you can move around in the filesystem using the command ``cd`` (which stands for \"change directory\").\n",
    "\n",
    "If you type ``cd seasonal`` and then type ``pwd``, the shell will tell you that you are now in ``/home/repl/seasonal``. If you then run ``ls`` on its own, it shows you the contents of ``/home/repl/seasonal``, because that's where you are. If you want to get back to your home directory ``/home/repl``, you can use the command ``cd /home/repl``.\n",
    "\n",
    "### Instructions\n",
    "\n",
    "* You are in ``/home/repl/``. Change directory to ``/home/repl/seasonal`` using a relative path.\n",
    "* Use ``pwd`` to check that you're there.\n",
    "* Use ``ls`` without any paths to see what's in that directory."
   ]
  },
  {
   "cell_type": "markdown",
   "id": "9e0c5731",
   "metadata": {},
   "source": [
    "### Amswer\n",
    "\n",
    "![Ex5](../Images/ex5.png)"
   ]
  },
  {
   "cell_type": "markdown",
   "id": "c457b43c",
   "metadata": {},
   "source": [
    "## 6. How can I move up a directory?\n",
    "\n",
    "### Description\n",
    "\n",
    "The <b>parent</b> of a directory is the directory above it. For example, ``/home`` is the parent of ``/home/repl``, and ``/home/repl`` is the parent of ``/home/repl/seasonal``. You can always give the absolute path of your parent directory to commands like ``cd`` and ``ls``. More often, though, you will take advantage of the fact that the special path ``..`` (two dots with no spaces) means \"the directory above the one I'm currently in\". If you are in ``/home/repl/seasonal``, then ``cd ..`` moves you up to ``/home/repl``. If you use ``cd ..`` once again, it puts you in ``/home``. One more ``cd ..`` puts you in the root directory ``/``, which is the very top of the filesystem. (Remember to put a space between ``cd`` and ``..`` - it is a command and a path, not a single four-letter command.)\n",
    "\n",
    "A single dot on its own, ``.``, always means \"the current directory\", so ``ls`` on its own and ``ls .`` do the same thing, while ``cd .`` has no effect (because it moves you into the directory you're currently in).\n",
    "\n",
    "One final special path is ``~`` (the tilde character), which means \"your home directory\", such as ``/home/repl``. No matter where you are, ``ls ~`` will always list the contents of your home directory, and ``cd ~`` will always take you home.\n",
    "\n",
    "### Instruction\n",
    "\n",
    "If you are in ``/home/repl/seasonal``, where does ``cd ~/../.`` take you?"
   ]
  },
  {
   "cell_type": "markdown",
   "id": "4a42eae5",
   "metadata": {},
   "source": [
    "### Answer\n",
    "\n",
    "`/home`. The path means 'home directory', 'up a level', 'here'"
   ]
  },
  {
   "cell_type": "markdown",
   "id": "c850e000",
   "metadata": {},
   "source": [
    "## 7. How can I copy files?\n",
    "\n",
    "### Description\n",
    "\n",
    "You will often want to copy files, move them into other directories to organize them, or rename them. One command to do this is ``cp``, which is short for \"copy\". If ``original.txt`` is an existing file, then:\n",
    "\n",
    "```bash\n",
    "cp original.txt duplicate.txt\n",
    "```\n",
    "\n",
    "creates a copy of ``original.txt`` called ``duplicate.txt``. If there already was a file called ``duplicate.txt``, it is overwritten. If the last parameter to cp is an existing directory, then a command like:\n",
    "\n",
    "```bash\n",
    "cp seasonal/autumn.csv seasonal/winter.csv backup\n",
    "```\n",
    "\n",
    "copies all of the files into that directory.\n",
    "\n",
    "### Instructions\n",
    "\n",
    "* Make a copy of ``seasonal/summer.csv`` in the ``backup`` directory (which is also in ``/home/repl``), calling the new file ``summer.bck``.\n",
    "* Copy ``spring.csv`` and ``summer.csv`` from the ``seasonal`` directory into the ``backup`` directory <i>without</i> changing your current working directory (``/home/repl``)."
   ]
  },
  {
   "cell_type": "markdown",
   "id": "2a08728d",
   "metadata": {},
   "source": [
    "### Answer\n",
    "\n",
    "* `cp seasonal/summer.csv /home/repl/backup/summer.bck`\n",
    "* `cp seasonal/spring.csv seasonal/summer.csv /home/repl/backup/`"
   ]
  },
  {
   "cell_type": "markdown",
   "id": "dd0cc258",
   "metadata": {},
   "source": [
    "## 8. How can I move a file?\n",
    "\n",
    "### Description\n",
    "\n",
    "While ``cp`` copies a file, ``mv`` moves it from one directory to another, just as if you had dragged it in a graphical file browser. It handles its parameters the same way as ``cp``, so the command:\n",
    "\n",
    "``mv autumn.csv winter.csv ..``\n",
    "\n",
    "moves the files ``autumn.csv`` and ``winter.csv`` from the current working directory up one level to its parent directory (because ``..`` always refers to the directory above your current location).\n",
    "\n",
    "### Instructions\n",
    "\n",
    "* You are in ``/home/repl``, which has sub-directories ``seasonal`` and ``backup``. Using a single command, move ``spring.csv`` and ``summer.csv`` from ``seasonal`` to ``backup``."
   ]
  },
  {
   "cell_type": "markdown",
   "id": "3586f36b",
   "metadata": {},
   "source": [
    "### Answer\n",
    "\n",
    "* `mv seasonal/spring.csv seasonal/summer.csv backup`"
   ]
  },
  {
   "cell_type": "markdown",
   "id": "cba7b2c0",
   "metadata": {},
   "source": [
    "## 9. How can I rename files?\n",
    "\n",
    "### Description\n",
    "\n",
    "``mv`` can also be used to rename files. If you run:\n",
    "\n",
    "``mv course.txt old-course.txt``\n",
    "\n",
    "then the file ``course.txt`` in the current working directory is \"moved\" to the file ``old-course.txt``. This is different from the way file browsers work, but is often handy.\n",
    "\n",
    "One warning: just like ``cp``, ``mv`` will overwrite existing files. If, for example, you already have a file called ``old-course.txt``, then the command shown above will replace it with whatever is in ``course.txt``.\n",
    "\n",
    "### Instructions\n",
    "\n",
    "* Go into the ``seasonal`` directory.\n",
    "* Rename the file ``winter.csv`` to be ``winter.csv.bck``.\n",
    "* Run ``ls`` to check that everything has worked."
   ]
  },
  {
   "cell_type": "markdown",
   "id": "ef0d3ebc",
   "metadata": {},
   "source": [
    "### Answer\n",
    "\n",
    "![Ex9](../Images/ex9.png)"
   ]
  },
  {
   "cell_type": "markdown",
   "id": "f81bb8c5",
   "metadata": {},
   "source": [
    "## 10. How can I delete files?\n",
    "\n",
    "### Description\n",
    "\n",
    "We can copy files and move them around; to delete them, we use ``rm``, which stands for \"remove\". As with ``cp`` and ``mv``, you can give rm the names of as many files as you'd like, so:\n",
    "\n",
    "``rm thesis.txt backup/thesis-2017-08.txt``\n",
    "\n",
    "removes both ``thesis.txt`` and ``backup/thesis-2017-08.txt``\n",
    "\n",
    "``rm`` does exactly what its name says, and it does it right away: unlike graphical file browsers, the shell doesn't have a trash can, so when you type the command above, your thesis is gone for good.\n",
    "\n",
    "### Instructions\n",
    "\n",
    "* You are in ``/home/repl``. Go into the ``seasonal`` directory.\n",
    "* Remove ``autumn.csv``.\n",
    "* Go back to your home directory.\n",
    "* Remove ``seasonal/summer.csv`` without changing directories again."
   ]
  },
  {
   "cell_type": "markdown",
   "id": "0aff55ed",
   "metadata": {},
   "source": [
    "### Answer\n",
    "\n",
    "![Ex10](../Images/ex10.png)"
   ]
  },
  {
   "cell_type": "markdown",
   "id": "d42d7bab",
   "metadata": {},
   "source": [
    "## 11. How can I create and delete directories?\n",
    "\n",
    "### Description\n",
    "\n",
    "``mv`` treats directories the same way it treats files: if you are in your home directory and run ``mv seasonal by-season``, for example, ``mv`` changes the name of the ``seasonal`` directory to ``by-season``. However, ``rm`` works differently.\n",
    "\n",
    "If you try to ``rm`` a directory, the shell prints an error message telling you it can't do that, primarily to stop you from accidentally deleting an entire directory full of work. Instead, you can use a separate command called ``rmdir``. For added safety, it only works when the directory is empty, so you must delete the files in a directory before you delete the directory. (Experienced users can use the ``-r`` option to ``rm`` to get the same effect; we will discuss command options in the next chapter.)\n",
    "\n",
    "### Instructions\n",
    "\n",
    "* Without changing directories, delete the file ``agarwal.txt`` in the ``people`` directory.\n",
    "* Now that the ``people`` directory is empty, use a single command to delete it.\n",
    "* Since a directory is not a file, you must use the command ``mkdir directory_name`` to create a new (empty) directory. Use this command to create a new directory called ``yearly`` below your home directory.\n",
    "* Now that ``yearly`` exists, create another directory called ``2017`` inside it <i>without</i> leaving your home directory."
   ]
  },
  {
   "cell_type": "markdown",
   "id": "84454975",
   "metadata": {},
   "source": [
    "### Answer\n",
    "\n",
    "![Ex11](../Images/ex11.png)"
   ]
  },
  {
   "cell_type": "markdown",
   "id": "e7051e6e",
   "metadata": {},
   "source": [
    "## 12. Wrapping up\n",
    "\n",
    "### Description \n",
    "\n",
    "You will often create intermediate files when analyzing data. Rather than storing them in your home directory, you can put them in ``/tmp``, which is where people and programs often keep files they only need briefly. (Note that ``/tmp`` is immediately below the root directory ``/``, not below your home directory.) This wrap-up exercise will show you how to do that.\n",
    "\n",
    "### Instructions\n",
    "\n",
    "* Use ``cd`` to go into ``/tmp``.\n",
    "* List the contents of ``/tmp`` without typing a directory name.\n",
    "* Make a new directory inside ``/tmp`` called ``scratch``.\n",
    "* Move ``/home/repl/people/agarwal.txt`` into ``/tmp/scratch``. We suggest you use the ``~`` shortcut for your home directory and a relative path for the second rather than the absolute path."
   ]
  },
  {
   "cell_type": "markdown",
   "id": "f78543e5",
   "metadata": {},
   "source": [
    "### Answer\n",
    "\n",
    "![Ex12](../Images/ex12.png)"
   ]
  }
 ],
 "metadata": {
  "language_info": {
   "name": "python"
  }
 },
 "nbformat": 4,
 "nbformat_minor": 5
}
