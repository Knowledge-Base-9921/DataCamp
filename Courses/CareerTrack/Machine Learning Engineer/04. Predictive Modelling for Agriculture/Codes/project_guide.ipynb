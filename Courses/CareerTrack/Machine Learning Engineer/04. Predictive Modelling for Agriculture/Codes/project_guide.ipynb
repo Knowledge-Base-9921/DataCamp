{
 "cells": [
  {
   "cell_type": "markdown",
   "id": "b3a02c14",
   "metadata": {},
   "source": [
    "# 4. Predictive Modelling for Agriculture\n",
    "\n",
    "Dive into agriculture using supervised machine learning and feature selection to aid farmers in crop cultivation and solve real-world problems."
   ]
  },
  {
   "cell_type": "markdown",
   "id": "13a76486",
   "metadata": {},
   "source": [
    "## Project Description\n",
    "\n",
    "A farmer reached out to you as a machine learning expert seeking help to select the best crop for his field. Due to budget constraints, the farmer explained that he could only afford to measure one out of the four essential soil measures:\n",
    "\n",
    "* ``Nitrogen`` content ratio in the soil\n",
    "* ``Phosphorous`` content ratio in the soil\n",
    "* ``Potassium`` content ratio in the soil\n",
    "* ``pH`` value of the soil\n",
    "The expert realized that this is a classic feature selection problem, where the objective is to pick the most important feature that could help predict the crop accurately. Can you help him?"
   ]
  },
  {
   "cell_type": "markdown",
   "id": "bc7ffb2a",
   "metadata": {},
   "source": [
    "## Project Instructions\n",
    "\n",
    "Identify the single feature that has the strongest predictive performance for classifying crop types.\n",
    "\n",
    "* Find the feature in the dataset that produces the best score for predicting ``\"crop\"``.\n",
    "* From this information, create a variable called ``best_predictive_feature``, which:\n",
    "    * Should be a ``dictionary`` containing the best predictive feature name as a key and the evaluation score (for the metric you chose) as the value."
   ]
  },
  {
   "cell_type": "markdown",
   "id": "4dd006a5",
   "metadata": {},
   "source": [
    "## Guides\n",
    "\n",
    "### How to approach the project\n",
    "\n",
    "1. Read the data into a pandas DataFrame and perform exploratory data analysis\n",
    "2. Split the data\n",
    "3. Evaluate feature performance\n",
    "4. Create the best_predictive_feature variable\n",
    "\n",
    "### Steps\n",
    "\n",
    "1. Read the data into a pandas DataFrame and perform exploratory data analysis.\n",
    "    * Read in the ``\"soil_measures.csv\"`` file as pandas DataFrame.\n",
    "    * Read in a csv file\n",
    "        * You can use ``pd.read_csv()`` to read in a csv file.\n",
    "    * Check for missing values\n",
    "        * You can chain the pandas DataFrame methods ``isna().sum()`` to count the number of null values in each column, helping you decide whether you need to drop or impute missing values.\n",
    "    * Check for crop types\n",
    "        * To confirm if ``\"crop\"`` is a binary or multi-label feature you can use the pandas Series ``.unique()`` method to display all unique values in that column.\n",
    "\n",
    "2. Split the data\n",
    "    * Create training and test sets using all features.\n",
    "        * Features and target variables\n",
    "            * Create a variable containing the features, all columns except ``\"crop\"``, and another variable containing only the ``\"crop\"``.\n",
    "        * Use train_test_split()\n",
    "            * You can unpack the results of ``train_test_split()`` into four variables: ``X_train, X_test, y_train, and y_test``.\n",
    "3. Evaluate feature performance\n",
    "    * Predict the crop using each feature individually. You should build a model for each feature. That means you will build four models.\n",
    "        * Create a dictionary to store each features predictive performance\n",
    "            * Create an empty dictionary, e.g., ``features_dict = {}``.\n",
    "        * Loop through the features\n",
    "            * You can train and evaluate the performance of each feature by looping through them using the syntax ``for feature in [\"N\", \"P\", \"K\", \"ph\"]:``.\n",
    "        * Training a multi-class classifier algorithm\n",
    "            * Inside of the for loop iterating over a list of features, you can call ``LogisticRegression()`` to create your model, assigning to the variable ``log_reg``.\n",
    "            * You should set the ``multi_class`` argument to ``\"multinomial\"`` so that multi-class prediction is supported.\n",
    "            * Fit the model to the feature in ``X_train`` by subsetting it using double square brackets e.g., ``log_reg.fit(X_train[[feature]], y_train)``.\n",
    "        * Predicting target values using the test set\n",
    "            * You can use the model's ``.predict()`` method, subsetting the feature from ``X_test``, to predict target values.\n",
    "            * Convention is to store the results as a variable called ``y_pred``.\n",
    "        * Evaluating the performance of each feature\n",
    "            * You can calculate F1 score, which is the harmonic mean of precision and recall, to evaluate feature performance.\n",
    "            * Alternatively, you can use ``metrics.balanced_accuracy_score()``.\n",
    "            * Scikit-learn's ``metrics.f1_score()`` function takes the target values, ``y_test``, and the predicted values, ``y_pred``, in order to calculate the F1 score.\n",
    "            * Set the ``f1_score()``'s keyword argument ``average`` equal to ``\"weighted\"`` when calculating performance for each feature.\n",
    "            * Assign the results of ``f1_score()`` to a variable called ``feature_performance``.\n",
    "            * If you created an empty dictionary called ``feature_performance`` outside of a for loop where you built your models, you can add the feature-performance key-value pairs to the dictionary using the syntax ``feature_performance[feature] = feature_importance``.\n",
    "            * You can use a ``print()`` statement with an f-string to output the feature and the performance, for example, ``print(f\"F1-score for {feature}: {feature_performance}\")``\n",
    "4. Create the best_predictive_feature variable\n",
    "    * Store the feature name as a key and the respective model's evaluation score as the value\n",
    "        * Saving the information\n",
    "            * Create a variable called ``best_predictive_feature``.\n",
    "            * It should contain a single key-value pair.\n",
    "            * The key should be a string representing the name of the feature that produced the best model performance.\n",
    "            * The value should be the model's evaluation metric score."
   ]
  }
 ],
 "metadata": {
  "language_info": {
   "name": "python"
  }
 },
 "nbformat": 4,
 "nbformat_minor": 5
}
