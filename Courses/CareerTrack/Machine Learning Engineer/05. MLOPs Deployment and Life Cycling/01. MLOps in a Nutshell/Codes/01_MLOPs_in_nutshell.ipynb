{
 "cells": [
  {
   "cell_type": "markdown",
   "id": "afc3a318",
   "metadata": {},
   "source": [
    "# 1. MLOps in a Nutshell\n",
    "\n",
    "This chapter gives a high-level overview of MLOps principles and framework components important for deployment and life cycling."
   ]
  },
  {
   "cell_type": "markdown",
   "id": "15ae70b9",
   "metadata": {},
   "source": [
    "## Libraries"
   ]
  },
  {
   "cell_type": "code",
   "execution_count": null,
   "id": "a052021c",
   "metadata": {},
   "outputs": [],
   "source": [
    "# No requirements for libraries and modules"
   ]
  },
  {
   "cell_type": "markdown",
   "id": "95ec8b2b",
   "metadata": {},
   "source": [
    "## User Variables"
   ]
  },
  {
   "cell_type": "code",
   "execution_count": null,
   "id": "22218212",
   "metadata": {},
   "outputs": [],
   "source": [
    "# No requirements for user variables"
   ]
  },
  {
   "cell_type": "markdown",
   "id": "f30c8e99",
   "metadata": {},
   "source": [
    "# Exercises"
   ]
  },
  {
   "cell_type": "markdown",
   "id": "2fabe6b9",
   "metadata": {},
   "source": [
    "## 1. ML workflows\n",
    "\n",
    "### Description\n",
    "\n",
    "The concept of a workflow is central to MLOps. After all, workflows are what we automate and integrate, and the degree to which we achieve that is the degree of our MLOps maturity.\n",
    "\n",
    "Can you differentiate ML workflows specific to machine learning development from those specific to the operations phase?\n",
    "\n",
    "### Instructions\n",
    "\n",
    "Drag each concept into the appropriate box.\n",
    "\n",
    "### Answer\n",
    "\n",
    "* ML Development\n",
    "    * Model selection\n",
    "    * Data Labelling\n",
    "    * Model Training\n",
    "* Operations\n",
    "    * Model maintenance\n",
    "    * Monitoring\n",
    "    * Model Deployment"
   ]
  },
  {
   "cell_type": "markdown",
   "id": "150cf47c",
   "metadata": {},
   "source": [
    "## 2. MLOps benefits\n",
    "\n",
    "### Description\n",
    "\n",
    "In the first lesson, you learned about the many benefits of implementing MLOps in your organization.\n",
    "\n",
    "### Instruction\n",
    "\n",
    "Which of the following is NOT one of them?\n",
    "\n",
    "### Answer\n",
    "\n",
    "* Automation\n",
    "* Reproducibility\n",
    "* Improved data quality [X]\n",
    "* Workflow integration"
   ]
  },
  {
   "cell_type": "markdown",
   "id": "72417396",
   "metadata": {},
   "source": [
    "## 3. App vs. model\n",
    "\n",
    "### Descripttion\n",
    "\n",
    "In the last video, you learned the definition and relationship between the ML model and the ML application.\n",
    "\n",
    "Do you still remember which components, concepts and properties are related to which of these two components?\n",
    "\n",
    "### Instructions\n",
    "\n",
    "Drag each concept and property to the right bucket\n",
    "\n",
    "### Answer\n",
    "\n",
    "* ML Model\n",
    "    * Estimator\n",
    "    * Features\n",
    "    * Hyperparameters\n",
    "* ML Application\n",
    "    * Graphical User Interface (GUI)\n",
    "    * Application Programming Interface (API)\n",
    "    * Database\n",
    "\n",
    "Models will always be in the center of ML applications, but there is so much more that goes into a full-blown ML service."
   ]
  },
  {
   "cell_type": "markdown",
   "id": "c30c975a",
   "metadata": {},
   "source": [
    "## 4. Decommissioning\n",
    "\n",
    "### Description\n",
    "\n",
    "You have learned that, sooner or later, all models reach the end of their life cycle, when they need to be \"retired\" and replaced with new ones.\n",
    "\n",
    "This is called decommissioning and it should be done for good reasons, few of which we have mentioned in the last video.\n",
    "\n",
    "### Instructions\n",
    "\n",
    "Opposed to them, which of the following would NOT be a good reason to retire your current model?\n",
    "\n",
    "### Answer\n",
    "\n",
    "* A significantly better-performing model is discovered\n",
    "* Significantly more informative features are created\n",
    "* We want to see how the latest Deep Learning model by Google is performing on our data. [X]\n",
    "* The underlying process has changed significantly\n",
    "\n",
    "Indeed! No matter how fascinating state-of-the-art models may seem, first prove their value in your specific use case, then consider deploying them in place of the existing models which still work well."
   ]
  },
  {
   "cell_type": "markdown",
   "id": "f99fda2f",
   "metadata": {},
   "source": [
    "## 5. The model life cycle: recap\n",
    "\n",
    "### Description\n",
    "\n",
    "So, after months of experimenting with countless features, models and hyper-parameters, your model definition crystallizes into its final shape. You now want to turn that model definition into a concrete model object and deploy it as a service to the end users, and begin its operational life cycle.\n",
    "\n",
    "Do you remember the order of stages on that journey?\n",
    "\n",
    "### Instructions\n",
    "\n",
    "Place the listed activities in the correct order, following the typical life cycle of a Machine Learning model.\n",
    "\n",
    "### Answer\n",
    "\n",
    "1. Train the model\n",
    "2. Build a deployment package for your model\n",
    "3. Deploy your model as a service\n",
    "4. Monitor your model's performance\n",
    "5. Update the model when necessary"
   ]
  },
  {
   "cell_type": "markdown",
   "id": "80b2fcea",
   "metadata": {},
   "source": [
    "## 6. Automated sequence\n",
    "\n",
    "### Description\n",
    "\n",
    "Automation is the central topic of MLOps. Automated processes are faster and produce more consistent results.\n",
    "\n",
    "On top of that, automation increases trust in a process, because in order to automate something, you must fully understand and clearly define every little step that it includes.\n",
    "\n",
    "### Instructions\n",
    "\n",
    "A catch-all term for an automated sequence of steps in Dev-, Data- and MLOps is called:\n",
    "\n",
    "### Answer\n",
    "\n",
    "`Pipeline`. Correct! And to turn a manual ML workflow into a pipeline we need to write scripts that automate all of its subtasks."
   ]
  },
  {
   "cell_type": "markdown",
   "id": "0478bfa6",
   "metadata": {},
   "source": [
    "## 7. Stores and registries\n",
    "\n",
    "### Description\n",
    "\n",
    "In the last lesson you learned about the high-level architecture of an MLOps framework. You heard about model registries, metadata stores and feature stores.\n",
    "\n",
    "Can you recall which of the following statements holds true for which of these components?\n",
    "\n",
    "### Instructions\n",
    "\n",
    "Drag the statements into the correct bucket\n",
    "\n",
    "### Answer\n",
    "\n",
    "* Feature Store\n",
    "    * Stores preprocessed data for reusability between different projects and models.\n",
    "    * Used as input sources to the model build pipeline.\n",
    "* Metadata store\n",
    "    * Stores data required for model monitoring.\n",
    "    * Stores complementary data about the models.\n",
    "* Model registry\n",
    "    * Stores trained model objects.\n",
    "\n",
    "These three components are very ML specific and can require a bit of effort to implement and integrate in your workflows. Therefore it is very important to understand their purpose and value they bring you.   "
   ]
  },
  {
   "cell_type": "markdown",
   "id": "f7293826",
   "metadata": {},
   "source": [
    "## 8. DevOps or MLOps?\n",
    "\n",
    "### Description\n",
    "\n",
    "You have seen in the previous video that MLOps is an extension of the DevOps framework, not a subset or alternative.\n",
    "\n",
    "You should, therefore, understand which concepts are shared between DevOps and MLOps and which are MLOps specific.\n",
    "\n",
    "In this exercise, your task is to place each concept into the corresponding bucket: DevOps+MLOps for shared concepts and MLOps for ML-specific ones.\n",
    "\n",
    "Good luck!\n",
    "\n",
    "### Instructions\n",
    "\n",
    "Drag each concept into the correct bucket.\n",
    "\n",
    "### Answer\n",
    "\n",
    "* MLOps + DevOps\n",
    "    * Package repository\n",
    "    * Code Versioning\n",
    "    * Build Pipeline\n",
    "    * Deployment Pipeline\n",
    "* MLOps only\n",
    "    * Model build pipeline\n",
    "    * Metadata store\n",
    "    * Model repository\n",
    "    * Feature Store"
   ]
  }
 ],
 "metadata": {
  "language_info": {
   "name": "python"
  }
 },
 "nbformat": 4,
 "nbformat_minor": 5
}
