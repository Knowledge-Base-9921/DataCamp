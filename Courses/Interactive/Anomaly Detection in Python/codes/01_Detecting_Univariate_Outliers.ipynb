{
 "cells": [
  {
   "cell_type": "markdown",
   "id": "8c7c3572",
   "metadata": {},
   "source": [
    "# 1. Detecting Univariate Outliers\n",
    "\n",
    "This chapter covers techniques to detect outliers in 1-dimensional data using histograms, scatterplots, box plots, z-scores, and modified z-scores."
   ]
  },
  {
   "cell_type": "markdown",
   "id": "df66452c",
   "metadata": {},
   "source": [
    "## 1.1 Import Libraries"
   ]
  },
  {
   "cell_type": "code",
   "execution_count": 44,
   "id": "8ae56673",
   "metadata": {},
   "outputs": [],
   "source": [
    "import pandas as pd\n",
    "import matplotlib.pyplot as plt\n",
    "\n",
    "# Z-Score\n",
    "from scipy.stats import zscore\n",
    "\n",
    "# MAD\n",
    "from scipy.stats import median_abs_deviation\n",
    "from pyod.models.mad import MAD"
   ]
  },
  {
   "cell_type": "markdown",
   "id": "0f2b0861",
   "metadata": {},
   "source": [
    "## 1.2 User Variables"
   ]
  },
  {
   "cell_type": "code",
   "execution_count": 26,
   "id": "0530a956",
   "metadata": {},
   "outputs": [
    {
     "data": {
      "text/html": [
       "<div>\n",
       "<style scoped>\n",
       "    .dataframe tbody tr th:only-of-type {\n",
       "        vertical-align: middle;\n",
       "    }\n",
       "\n",
       "    .dataframe tbody tr th {\n",
       "        vertical-align: top;\n",
       "    }\n",
       "\n",
       "    .dataframe thead th {\n",
       "        text-align: right;\n",
       "    }\n",
       "</style>\n",
       "<table border=\"1\" class=\"dataframe\">\n",
       "  <thead>\n",
       "    <tr style=\"text-align: right;\">\n",
       "      <th></th>\n",
       "      <th>minimum_nights</th>\n",
       "      <th>number_of_reviews</th>\n",
       "      <th>reviews_per_month</th>\n",
       "      <th>calculated_host_listings_count</th>\n",
       "      <th>availability_365</th>\n",
       "      <th>price</th>\n",
       "    </tr>\n",
       "  </thead>\n",
       "  <tbody>\n",
       "    <tr>\n",
       "      <th>0</th>\n",
       "      <td>3</td>\n",
       "      <td>12</td>\n",
       "      <td>1.08</td>\n",
       "      <td>1</td>\n",
       "      <td>316</td>\n",
       "      <td>595</td>\n",
       "    </tr>\n",
       "    <tr>\n",
       "      <th>1</th>\n",
       "      <td>20</td>\n",
       "      <td>31</td>\n",
       "      <td>0.98</td>\n",
       "      <td>1</td>\n",
       "      <td>0</td>\n",
       "      <td>99</td>\n",
       "    </tr>\n",
       "  </tbody>\n",
       "</table>\n",
       "</div>"
      ],
      "text/plain": [
       "   minimum_nights  number_of_reviews  reviews_per_month  \\\n",
       "0               3                 12               1.08   \n",
       "1              20                 31               0.98   \n",
       "\n",
       "   calculated_host_listings_count  availability_365  price  \n",
       "0                               1               316    595  \n",
       "1                               1                 0     99  "
      ]
     },
     "execution_count": 26,
     "metadata": {},
     "output_type": "execute_result"
    }
   ],
   "source": [
    "airbnb_df = pd.read_csv(\"../datasets/airbnb.csv\")\n",
    "airbnb_df.head(2)"
   ]
  },
  {
   "cell_type": "markdown",
   "id": "29e96ca5",
   "metadata": {},
   "source": [
    "# 2. Exercises"
   ]
  },
  {
   "cell_type": "markdown",
   "id": "d3742749",
   "metadata": {},
   "source": [
    "## 2.1 Print a 5-number summary\n",
    "\n",
    "### Description\n",
    "\n",
    "One of the quickest methods for getting a feel for new data is the 5-number summary. It prints out 5 metrics about a distribution - the minimum, 25th percentile, median, 75th percentile, and the maximum along with mean and standard deviation. By looking at the 5-number summary and the difference between the mean and the minimum/maximum values, you can get a rough idea of whether outliers are present in the distribution.\n",
    "\n",
    "In the exercises of this chapter, you will be using the methods discussed in the videos to detect the prices of the most expensive (or inexpensive) US Airbnb listings. The dataset has been loaded as ``airbnb_df`` as a pandas DataFrame.\n",
    "\n",
    "### Instructions\n",
    "\n",
    "* Extract the ``price`` column into ``prices`` from the US Airbnb Listings data.\n",
    "* Print the 5-number summary of the ``prices`` distribution."
   ]
  },
  {
   "cell_type": "code",
   "execution_count": 27,
   "id": "f610c4ce",
   "metadata": {},
   "outputs": [
    {
     "data": {
      "text/html": [
       "<div>\n",
       "<style scoped>\n",
       "    .dataframe tbody tr th:only-of-type {\n",
       "        vertical-align: middle;\n",
       "    }\n",
       "\n",
       "    .dataframe tbody tr th {\n",
       "        vertical-align: top;\n",
       "    }\n",
       "\n",
       "    .dataframe thead th {\n",
       "        text-align: right;\n",
       "    }\n",
       "</style>\n",
       "<table border=\"1\" class=\"dataframe\">\n",
       "  <thead>\n",
       "    <tr style=\"text-align: right;\">\n",
       "      <th></th>\n",
       "      <th>minimum_nights</th>\n",
       "      <th>number_of_reviews</th>\n",
       "      <th>reviews_per_month</th>\n",
       "      <th>calculated_host_listings_count</th>\n",
       "      <th>availability_365</th>\n",
       "      <th>price</th>\n",
       "    </tr>\n",
       "  </thead>\n",
       "  <tbody>\n",
       "    <tr>\n",
       "      <th>0</th>\n",
       "      <td>3</td>\n",
       "      <td>12</td>\n",
       "      <td>1.08</td>\n",
       "      <td>1</td>\n",
       "      <td>316</td>\n",
       "      <td>595</td>\n",
       "    </tr>\n",
       "    <tr>\n",
       "      <th>1</th>\n",
       "      <td>20</td>\n",
       "      <td>31</td>\n",
       "      <td>0.98</td>\n",
       "      <td>1</td>\n",
       "      <td>0</td>\n",
       "      <td>99</td>\n",
       "    </tr>\n",
       "    <tr>\n",
       "      <th>2</th>\n",
       "      <td>15</td>\n",
       "      <td>4</td>\n",
       "      <td>0.28</td>\n",
       "      <td>1</td>\n",
       "      <td>365</td>\n",
       "      <td>45</td>\n",
       "    </tr>\n",
       "    <tr>\n",
       "      <th>3</th>\n",
       "      <td>7</td>\n",
       "      <td>5</td>\n",
       "      <td>0.10</td>\n",
       "      <td>1</td>\n",
       "      <td>356</td>\n",
       "      <td>350</td>\n",
       "    </tr>\n",
       "    <tr>\n",
       "      <th>4</th>\n",
       "      <td>3</td>\n",
       "      <td>58</td>\n",
       "      <td>1.65</td>\n",
       "      <td>3</td>\n",
       "      <td>55</td>\n",
       "      <td>28</td>\n",
       "    </tr>\n",
       "  </tbody>\n",
       "</table>\n",
       "</div>"
      ],
      "text/plain": [
       "   minimum_nights  number_of_reviews  reviews_per_month  \\\n",
       "0               3                 12               1.08   \n",
       "1              20                 31               0.98   \n",
       "2              15                  4               0.28   \n",
       "3               7                  5               0.10   \n",
       "4               3                 58               1.65   \n",
       "\n",
       "   calculated_host_listings_count  availability_365  price  \n",
       "0                               1               316    595  \n",
       "1                               1                 0     99  \n",
       "2                               1               365     45  \n",
       "3                               1               356    350  \n",
       "4                               3                55     28  "
      ]
     },
     "execution_count": 27,
     "metadata": {},
     "output_type": "execute_result"
    }
   ],
   "source": [
    "airbnb_df.head()"
   ]
  },
  {
   "cell_type": "code",
   "execution_count": 28,
   "id": "6df1a56b",
   "metadata": {},
   "outputs": [
    {
     "name": "stdout",
     "output_type": "stream",
     "text": [
      "count    10000.000000\n",
      "mean       181.589100\n",
      "std        371.085721\n",
      "min          0.000000\n",
      "25%         75.000000\n",
      "50%        116.000000\n",
      "75%        196.000000\n",
      "max      10000.000000\n",
      "Name: price, dtype: float64\n"
     ]
    }
   ],
   "source": [
    "# Extract price\n",
    "prices = airbnb_df[\"price\"]\n",
    "\n",
    "# Print 5-number summary\n",
    "print(prices.describe())"
   ]
  },
  {
   "cell_type": "markdown",
   "id": "ecf4d04f",
   "metadata": {},
   "source": [
    "Use the ``.describe()`` method whenever you encounter a new distribution to get a feel for the presence of outliers."
   ]
  },
  {
   "cell_type": "markdown",
   "id": "6b6d1f9d",
   "metadata": {},
   "source": [
    "## 2.2 Histograms for outlier detection\n",
    "\n",
    "### Description\n",
    "\n",
    "A histogram can be a compelling visual for finding outliers. They can become apparent when an appropriate number of bins is chosen for the histogram. Recall that the square root of the number of observations can be used as a rule of thumb for setting the number of bins. \n",
    "\n",
    "<b>Usually, the bins with the lowest heights will contain outliers.</b>\n",
    "\n",
    "In this exercise, you'll plot the histogram of ``prices`` from the previous exercise. ``numpy`` and ``matplotlib.pyplot`` are available under their standard aliases.\n",
    "\n",
    "### Instructions\n",
    "\n",
    "* Find the square root of the length of ``prices`` and store it as ``n_bins``.\n",
    "* Cast ``n_bins`` to an integer.\n",
    "* Create a histogram of ``prices``, setting the number of bins to ``n_bins``."
   ]
  },
  {
   "cell_type": "code",
   "execution_count": 29,
   "id": "c6a24454",
   "metadata": {},
   "outputs": [
    {
     "data": {
      "image/png": "[encoded data removed]",
      "text/plain": [
       "<Figure size 800x400 with 1 Axes>"
      ]
     },
     "metadata": {},
     "output_type": "display_data"
    }
   ],
   "source": [
    "# Find the square root of the length of prices\n",
    "n_bins = len(prices)**0.5\n",
    "\n",
    "# Cast to an integer\n",
    "n_bins = int(n_bins)\n",
    "\n",
    "plt.figure(figsize=(8, 4))\n",
    "\n",
    "# Create a histogram\n",
    "plt.hist(prices, bins=n_bins, color='red')\n",
    "plt.show()"
   ]
  },
  {
   "cell_type": "markdown",
   "id": "c0c3867a",
   "metadata": {},
   "source": [
    "Notice the low bars from 1500 to 1800 in the x-axis. Also, even though they are not visible, there must be some bars with almost 0 height to the far right of the histogram. Otherwise, it wouldn't be this wide."
   ]
  },
  {
   "cell_type": "markdown",
   "id": "42911497",
   "metadata": {},
   "source": [
    "## 2.3 Scatterplots for outlier detection\n",
    "\n",
    "### Description\n",
    "\n",
    "A scatterplot is another handy method to identify outliers visually. Although it is usually used to plot two variables against each other to inspect their relationship, using the trick from the video, you can plot a scatterplot with only one variable to make the outliers stand out.\n",
    "\n",
    "``matplotlib.pyplot`` is loaded as ``plt``. The data is available as ``prices``.\n",
    "\n",
    "### Instructions\n",
    "\n",
    "* Create a list of consecutive integers with the same length as ``prices``.\n",
    "* Create a scatterplot with ``integers`` on the x-axis and ``prices`` on the y-axis."
   ]
  },
  {
   "cell_type": "code",
   "execution_count": 30,
   "id": "88bbef71",
   "metadata": {},
   "outputs": [
    {
     "data": {
      "image/png": "[encoded data removed]",
      "text/plain": [
       "<Figure size 1600x800 with 1 Axes>"
      ]
     },
     "metadata": {},
     "output_type": "display_data"
    }
   ],
   "source": [
    "# Create a list of consecutive integers\n",
    "integers = range(len(prices))\n",
    "\n",
    "plt.figure(figsize=(16, 8))\n",
    "\n",
    "# Plot a scatterplot\n",
    "plt.scatter(integers,prices, c='red', alpha=0.5)\n",
    "plt.show()"
   ]
  },
  {
   "cell_type": "markdown",
   "id": "d70b4636",
   "metadata": {},
   "source": [
    "Splendid! Notice how you can draw similar conclusions from the scatterplot. Like in the histogram, the cloud of dots become much sparser as you go up from the 1500-1800 mark in the y-axis."
   ]
  },
  {
   "cell_type": "markdown",
   "id": "1666058d",
   "metadata": {},
   "source": [
    "## 2.4 Boxplots for outlier detection\n",
    "\n",
    "### Description\n",
    "\n",
    "In this exercise, you will get a feel of what the US Airbnb Listings ``prices`` data looks like using boxplots. This will enable you to assess the range of the distribution where inliers lie. You will also get a sense of custom versus default parameters for setting whisker lengths to classify outliers.\n",
    "\n",
    "``matplotlib.pyplot`` has been loaded as ``plt`` and the data is available as ``prices``.\n",
    "\n",
    "### Instructions\n",
    "\n",
    "* Create a boxplot of the ``prices`` distribution.\n",
    "* Create a boxplot with a multiplying factor of ``5``."
   ]
  },
  {
   "cell_type": "code",
   "execution_count": 31,
   "id": "d6e4867b",
   "metadata": {},
   "outputs": [
    {
     "data": {
      "image/png": "[encoded data removed]",
      "text/plain": [
       "<Figure size 640x480 with 1 Axes>"
      ]
     },
     "metadata": {},
     "output_type": "display_data"
    }
   ],
   "source": [
    "# Create a boxplot of prices\n",
    "plt.boxplot(prices)\n",
    "plt.show()"
   ]
  },
  {
   "cell_type": "code",
   "execution_count": 32,
   "id": "f611979e",
   "metadata": {},
   "outputs": [
    {
     "data": {
      "image/png": "[encoded data removed]",
      "text/plain": [
       "<Figure size 640x480 with 1 Axes>"
      ]
     },
     "metadata": {},
     "output_type": "display_data"
    }
   ],
   "source": [
    "# Create a boxplot with custom whisker lengths\n",
    "plt.boxplot(prices, whis=5)\n",
    "plt.show()"
   ]
  },
  {
   "cell_type": "markdown",
   "id": "609dc6a8",
   "metadata": {},
   "source": [
    "Since the magnitude of the outliers in the distribution is higher than normal datapoints, the boxplots are squished into the bottom. But, you could make the whiskers longer by using a larger multiplying factor."
   ]
  },
  {
   "cell_type": "markdown",
   "id": "ecb7b67d",
   "metadata": {},
   "source": [
    "## 2.5 Calculating outlier limits with IQR\n",
    "\n",
    "### Description\n",
    "\n",
    "Visualizing outliers is usually only the first step in detecting outliers. To go beyond visualizing outliers, you will need to write code that isolates the outliers from the distribution.\n",
    "\n",
    "In this exercise, you will implement the first step of what's going on under the hood of the boxplot. In other words, you will calculate the lower and upper outlier limits manually.\n",
    "\n",
    "The distribution is available as ``prices``.\n",
    "\n",
    "### Instructions\n",
    "\n",
    "* Calculate the first and third quartiles of ``prices`` and store these as ``q1`` and ``q3``, respectively.\n",
    "* Calculate the IQR score into ``IQR``. \n",
    "* Calculate the lower outlier limit into ``lower_limit``.\n",
    "* Calculate the upper outlier limit into ``upper_limit``.\n",
    "\n",
    "### Notes\n",
    "\n",
    "* The ``25th quartile`` (also called the first quartile, Q1) is the value below which 25% of the data falls.\n",
    "* The ``75th quartile`` (third quartile, Q3) is the value below which 75% of the data falls.\n",
    "* Q1 and Q3 help define the \"middle 50%\" of data, useful for understanding the spread and typical values in a dataset.\n",
    "\n",
    "### Calculations\n",
    "\n",
    "![Quantile Calculation](../images/quantile_calculation.png)\n",
    "![IQR Calculation](../images/iqr_calculation.png)"
   ]
  },
  {
   "cell_type": "code",
   "execution_count": 33,
   "id": "0cbb46f4",
   "metadata": {},
   "outputs": [],
   "source": [
    "# Calculate the 25th and 75th percentiles\n",
    "q1 = prices.quantile(0.25)\n",
    "q3 = prices.quantile(0.75)\n",
    "\n",
    "# Find the IQR\n",
    "IQR = q3 - q1\n",
    "factor = 2.5\n",
    "\n",
    "# Calculate the lower limit\n",
    "lower_limit = q1 - (IQR * factor)\n",
    "\n",
    "# Calculate the upper limit\n",
    "upper_limit = q3 + (IQR * factor)"
   ]
  },
  {
   "cell_type": "code",
   "execution_count": 34,
   "id": "080a61e6",
   "metadata": {},
   "outputs": [
    {
     "name": "stdout",
     "output_type": "stream",
     "text": [
      "Q1: 75.0\n",
      "Q3: 196.0\n",
      "IQR: 121.0\n"
     ]
    }
   ],
   "source": [
    "print(f\"Q1: {q1}\")\n",
    "print(f\"Q3: {q3}\")\n",
    "print(f\"IQR: {IQR}\")"
   ]
  },
  {
   "cell_type": "markdown",
   "id": "22f03abe",
   "metadata": {},
   "source": [
    "## 2.6 Using outlier limits for filtering\n",
    "\n",
    "### Description\n",
    "\n",
    "In the previous exercise, you found the limits you will use for categorizing outliers. In this exercise, you'll apply them to the ``prices`` distribution to isolate the outliers.\n",
    "\n",
    "The ``prices``, ``lower_limit``, and ``upper_limit`` variables are available from the last exercise.\n",
    "\n",
    "### Instructions\n",
    "\n",
    "* Create a boolean mask named ``is_lower`` that checks if the values of ``prices`` are less than ``lower_limit``.\n",
    "* Create a boolean mask named ``is_higher`` that checks if the values of ``prices`` are greater than ``upper_limit``.\n",
    "* Combine the masks and use boolean subsetting to filter for outliers.\n",
    "* Print the number of outliers found."
   ]
  },
  {
   "cell_type": "code",
   "execution_count": 38,
   "id": "15f0f609",
   "metadata": {},
   "outputs": [],
   "source": [
    "# Calculate the 25th and 75th percentiles\n",
    "q1 = prices.quantile(0.25)\n",
    "q3 = prices.quantile(0.75)\n",
    "\n",
    "# Find the IQR\n",
    "IQR = q3 - q1\n",
    "factor = 5 # Factor changed for this exercise\n",
    "\n",
    "# Calculate the lower limit\n",
    "lower_limit = q1 - (IQR * factor)\n",
    "\n",
    "# Calculate the upper limit\n",
    "upper_limit = q3 + (IQR * factor)"
   ]
  },
  {
   "cell_type": "code",
   "execution_count": 39,
   "id": "a9544e0c",
   "metadata": {},
   "outputs": [
    {
     "name": "stdout",
     "output_type": "stream",
     "text": [
      "124     1000\n",
      "129     1571\n",
      "179      832\n",
      "252      999\n",
      "254      950\n",
      "        ... \n",
      "9836     809\n",
      "9843    1245\n",
      "9880     893\n",
      "9940    1100\n",
      "9965    1200\n",
      "Name: price, Length: 181, dtype: int64\n"
     ]
    }
   ],
   "source": [
    "# Create a mask for values lower than lower_limit\n",
    "is_lower = prices < lower_limit\n",
    "\n",
    "# Create a mask for values higher than upper_limit\n",
    "is_higher = prices > upper_limit\n",
    "\n",
    "# Combine the masks to filter for outliers\n",
    "outliers = prices[is_lower | is_higher]\n",
    "\n",
    "# Count and print the number of outliers\n",
    "print(outliers)"
   ]
  },
  {
   "cell_type": "markdown",
   "id": "b116512a",
   "metadata": {},
   "source": [
    "Using IQR and a factor of 5, we found 181 outliers out of 10k observations."
   ]
  },
  {
   "cell_type": "markdown",
   "id": "7442118b",
   "metadata": {},
   "source": [
    "## 2.7 Finding outliers with z-scores\n",
    "\n",
    "### Description\n",
    "\n",
    "The normal distribution is ubiquitous in the natural world and is the most common distribution. This is why the z-score method can be one of the quickest methods for detecting outliers.\n",
    "\n",
    "Recall the rule of thumb from the video: if a sample is more than three standard away deviations from the mean, you can consider it an extreme value.\n",
    "\n",
    "However, recall also that the z-score method should be approached with caution. This method is appropriate only when we are confident our data comes from a normal distribution. Otherwise, the results might be misleading.\n",
    "\n",
    "The ``prices`` distribution has been loaded for you.\n",
    "\n",
    "### Instructions\n",
    "\n",
    "* Import the ``zscore`` function from the relevant ``scipy`` module.\n",
    "* Find the z-scores of ``prices`` and store them into ``scores``.\n",
    "* Create a boolean mask named ``is_over_3`` to check if the absolute values of ``scores`` are greater than 3.\n",
    "* Use the mask to filter ``prices`` for outliers.\n",
    "\n",
    "### Notes\n",
    "\n",
    "* In anomaly detection, the z-score quantifies how far a data point is from the mean of the dataset in terms of standard deviations. \n",
    "* It is a statistical measure that helps identify whether a data point is an outlier or anomaly by showing how unusual or extreme the data point is relative to the overall distribution.\n",
    "\n",
    "### Calculations\n",
    "\n",
    "![Z-Score](../images/z_score.png)"
   ]
  },
  {
   "cell_type": "code",
   "execution_count": 41,
   "id": "b4f24344",
   "metadata": {},
   "outputs": [
    {
     "name": "stdout",
     "output_type": "stream",
     "text": [
      "61\n"
     ]
    }
   ],
   "source": [
    "# Import the zscores function\n",
    "from scipy.stats import zscore\n",
    "\n",
    "# Find the zscores of prices\n",
    "scores = zscore(prices)\n",
    "\n",
    "# Check if the absolute values of scores are over 3\n",
    "is_over_3 = scores > 3\n",
    "\n",
    "# Use the mask to subset prices\n",
    "outliers = prices[is_over_3]\n",
    "\n",
    "print(len(outliers))"
   ]
  },
  {
   "cell_type": "markdown",
   "id": "afcd5f52",
   "metadata": {},
   "source": [
    "You found 61 outliers from sales, but we found over 180 in the last exercise. This means you might have had some mislabeled data points in the last exercise because the ``prices`` distribution is not normally distributed."
   ]
  },
  {
   "cell_type": "markdown",
   "id": "f11bde64",
   "metadata": {},
   "source": [
    "## 2.8 Using modified z-scores with PyOD\n",
    "\n",
    "### Description\n",
    "\n",
    "It is time to unleash ``pyod`` on outliers. We use the ``MAD`` estimator from ``pyod`` to utilize modified z-scores. The estimator already uses the ``median_abs_deviation`` function under the hood, so it is unnecessary to repeat the previous steps.\n",
    "\n",
    "The ``MAD`` estimator has already been loaded from ``pyod.models.mad`` and the data is available as ``prices``.\n",
    "\n",
    "### Instructions\n",
    "\n",
    "* Initialize ``MAD()`` with a threshold of ``3.5``.\n",
    "* Reshape ``prices`` to make it 2D.\n",
    "* Generate inlier/outlier labels on ``prices`` by fitting and predicting using ``mad`` simultaneously.\n",
    "* Subset ``labels`` for outliers, which are denoted as 1.\n",
    "\n",
    "### Notes\n",
    "\n",
    "* The main differences between ``scipy.stats.median_abs_deviation`` and ``pyod.models.mad.MAD`` are their scope, usage context, and implementation details:\n",
    "\n",
    "![MAD Comparison](../images/MAD_comparison.png)"
   ]
  },
  {
   "cell_type": "code",
   "execution_count": 45,
   "id": "170183aa",
   "metadata": {},
   "outputs": [
    {
     "name": "stdout",
     "output_type": "stream",
     "text": [
      "755\n"
     ]
    },
    {
     "name": "stderr",
     "output_type": "stream",
     "text": [
      "c:\\Users\\sanja\\AppData\\Local\\Programs\\Python\\Python312\\Lib\\site-packages\\sklearn\\utils\\deprecation.py:87: FutureWarning: Function fit_predict is deprecated\n",
      "  warnings.warn(msg, category=FutureWarning)\n"
     ]
    }
   ],
   "source": [
    "# Initialize with a threshold of 3.5\n",
    "mad = MAD(threshold=3.5)\n",
    "\n",
    "# original price shape (1000,)\n",
    "\n",
    "# Reshape prices to make it 2D\n",
    "prices_reshaped = prices.values.reshape(-1, 1)\n",
    "\n",
    "# new price shape (1000,1)\n",
    "\n",
    "# Fit and predict outlier labels on prices_reshaped\n",
    "labels = mad.fit_predict(prices_reshaped)\n",
    "\n",
    "# Filter for outliers\n",
    "outliers = prices[labels == 1]\n",
    "\n",
    "print(len(outliers))"
   ]
  },
  {
   "cell_type": "code",
   "execution_count": 46,
   "id": "377e14ae",
   "metadata": {},
   "outputs": [
    {
     "name": "stdout",
     "output_type": "stream",
     "text": [
      "Prices original shape: (10000,)\n",
      "Prices original shape: (10000, 1)\n"
     ]
    }
   ],
   "source": [
    "print(f\"Prices original shape: {prices.shape}\")\n",
    "print(f\"Prices original shape: {prices_reshaped.shape}\")"
   ]
  },
  {
   "cell_type": "markdown",
   "id": "e82ad1ff",
   "metadata": {},
   "source": [
    "You've added two powerful algorithms to your univariate outlier detection arsenal. \n",
    "\n",
    "* Use ``z-scores`` when you have a normal distribution.\n",
    "* If you doubt the distribution of your data, turn to <b>modified z-scores</b> with ``MAD``."
   ]
  }
 ],
 "metadata": {
  "kernelspec": {
   "display_name": "Python 3",
   "language": "python",
   "name": "python3"
  },
  "language_info": {
   "codemirror_mode": {
    "name": "ipython",
    "version": 3
   },
   "file_extension": ".py",
   "mimetype": "text/x-python",
   "name": "python",
   "nbconvert_exporter": "python",
   "pygments_lexer": "ipython3",
   "version": "3.12.2"
  }
 },
 "nbformat": 4,
 "nbformat_minor": 5
}
