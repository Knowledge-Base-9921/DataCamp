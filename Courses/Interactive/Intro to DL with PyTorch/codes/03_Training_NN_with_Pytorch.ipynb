{
 "cells": [
  {
   "cell_type": "markdown",
   "id": "efa7483b",
   "metadata": {},
   "source": [
    "# 1. Training a Neural Network with PyTorch\n",
    "\n",
    "Now that you've learned the key components of a neural network, you'll train one using a training loop. You'll explore potential issues like vanishing gradients and learn strategies to address them, such as alternative activation functions and tuning learning rate and momentum. "
   ]
  },
  {
   "cell_type": "markdown",
   "id": "cf995eaf",
   "metadata": {},
   "source": [
    "## 1.1 Import Libraries"
   ]
  },
  {
   "cell_type": "code",
   "execution_count": 4,
   "id": "ce6fbdaa",
   "metadata": {},
   "outputs": [],
   "source": [
    "import torch\n",
    "import torch.nn as nn\n",
    "import torch.nn.functional as F\n",
    "from torch.nn import CrossEntropyLoss\n",
    "import torch.optim as optim\n",
    "from torch.utils.data import TensorDataset\n",
    "import numpy as np\n",
    "import pandas as pd"
   ]
  },
  {
   "cell_type": "markdown",
   "id": "ffc19290",
   "metadata": {},
   "source": [
    "## 1.2 User Variables"
   ]
  },
  {
   "cell_type": "code",
   "execution_count": 28,
   "id": "0d3ad4d3",
   "metadata": {},
   "outputs": [
    {
     "data": {
      "text/html": [
       "<div>\n",
       "<style scoped>\n",
       "    .dataframe tbody tr th:only-of-type {\n",
       "        vertical-align: middle;\n",
       "    }\n",
       "\n",
       "    .dataframe tbody tr th {\n",
       "        vertical-align: top;\n",
       "    }\n",
       "\n",
       "    .dataframe thead th {\n",
       "        text-align: right;\n",
       "    }\n",
       "</style>\n",
       "<table border=\"1\" class=\"dataframe\">\n",
       "  <thead>\n",
       "    <tr style=\"text-align: right;\">\n",
       "      <th></th>\n",
       "      <th>animal_name</th>\n",
       "      <th>hair</th>\n",
       "      <th>feathers</th>\n",
       "      <th>eggs</th>\n",
       "      <th>milk</th>\n",
       "      <th>predator</th>\n",
       "      <th>legs</th>\n",
       "      <th>tail</th>\n",
       "      <th>type</th>\n",
       "    </tr>\n",
       "  </thead>\n",
       "  <tbody>\n",
       "    <tr>\n",
       "      <th>0</th>\n",
       "      <td>sparrow</td>\n",
       "      <td>0</td>\n",
       "      <td>1</td>\n",
       "      <td>1</td>\n",
       "      <td>0</td>\n",
       "      <td>0</td>\n",
       "      <td>2</td>\n",
       "      <td>1</td>\n",
       "      <td>0</td>\n",
       "    </tr>\n",
       "    <tr>\n",
       "      <th>1</th>\n",
       "      <td>eagle</td>\n",
       "      <td>0</td>\n",
       "      <td>1</td>\n",
       "      <td>1</td>\n",
       "      <td>0</td>\n",
       "      <td>1</td>\n",
       "      <td>2</td>\n",
       "      <td>1</td>\n",
       "      <td>0</td>\n",
       "    </tr>\n",
       "  </tbody>\n",
       "</table>\n",
       "</div>"
      ],
      "text/plain": [
       "  animal_name  hair  feathers  eggs  milk  predator  legs  tail  type\n",
       "0     sparrow     0         1     1     0         0     2     1     0\n",
       "1       eagle     0         1     1     0         1     2     1     0"
      ]
     },
     "execution_count": 28,
     "metadata": {},
     "output_type": "execute_result"
    }
   ],
   "source": [
    "animals = pd.read_csv(\"../datasets/animals.csv\")\n",
    "animals.head(2)"
   ]
  },
  {
   "cell_type": "code",
   "execution_count": 29,
   "id": "9a720e2b",
   "metadata": {},
   "outputs": [
    {
     "data": {
      "text/html": [
       "<div>\n",
       "<style scoped>\n",
       "    .dataframe tbody tr th:only-of-type {\n",
       "        vertical-align: middle;\n",
       "    }\n",
       "\n",
       "    .dataframe tbody tr th {\n",
       "        vertical-align: top;\n",
       "    }\n",
       "\n",
       "    .dataframe thead th {\n",
       "        text-align: right;\n",
       "    }\n",
       "</style>\n",
       "<table border=\"1\" class=\"dataframe\">\n",
       "  <thead>\n",
       "    <tr style=\"text-align: right;\">\n",
       "      <th></th>\n",
       "      <th>0</th>\n",
       "      <th>1</th>\n",
       "      <th>2</th>\n",
       "      <th>3</th>\n",
       "      <th>4</th>\n",
       "    </tr>\n",
       "  </thead>\n",
       "  <tbody>\n",
       "    <tr>\n",
       "      <th>0</th>\n",
       "      <td>1.0</td>\n",
       "      <td>0.0</td>\n",
       "      <td>1.0</td>\n",
       "      <td>1.0</td>\n",
       "      <td>0.109915</td>\n",
       "    </tr>\n",
       "    <tr>\n",
       "      <th>1</th>\n",
       "      <td>3.0</td>\n",
       "      <td>0.0</td>\n",
       "      <td>1.0</td>\n",
       "      <td>1.0</td>\n",
       "      <td>0.360000</td>\n",
       "    </tr>\n",
       "  </tbody>\n",
       "</table>\n",
       "</div>"
      ],
      "text/plain": [
       "     0    1    2    3         4\n",
       "0  1.0  0.0  1.0  1.0  0.109915\n",
       "1  3.0  0.0  1.0  1.0  0.360000"
      ]
     },
     "execution_count": 29,
     "metadata": {},
     "output_type": "execute_result"
    }
   ],
   "source": [
    "dataloader_df = pd.read_csv(\"../datasets/dataloader_1.csv\")\n",
    "dataloader_df.head(2)"
   ]
  },
  {
   "cell_type": "markdown",
   "id": "1efd0152",
   "metadata": {},
   "source": [
    "# 2. Exercises"
   ]
  },
  {
   "cell_type": "markdown",
   "id": "9e892ca0",
   "metadata": {},
   "source": [
    "## 2.1 Using TensorDataset\n",
    "\n",
    "### Description\n",
    "\n",
    "Structuring your data into a dataset is one of the first steps in training a PyTorch neural network. ``TensorDataset`` simplifies this by converting NumPy arrays into a format PyTorch can use.\n",
    "\n",
    "In this exercise, you'll create a ``TensorDataset`` using the preloaded ``animals`` dataset and inspect its structure.\n",
    "\n",
    "### Instructions\n",
    "\n",
    "* Convert ``X`` and ``y`` into tensors and create a ``TensorDataset``.\n",
    "* Access and print the first sample."
   ]
  },
  {
   "cell_type": "code",
   "execution_count": null,
   "id": "766a9253",
   "metadata": {},
   "outputs": [
    {
     "name": "stdout",
     "output_type": "stream",
     "text": [
      "Input sample: tensor([0, 1, 1, 0, 0, 2, 1])\n",
      "Label sample: tensor(0)\n"
     ]
    }
   ],
   "source": [
    "import torch\n",
    "from torch.utils.data import TensorDataset\n",
    "\n",
    "X = animals.iloc[:, 1:-1].to_numpy()  \n",
    "y = animals.iloc[:, -1].to_numpy()\n",
    "\n",
    "# Create a dataset\n",
    "dataset = TensorDataset(torch.tensor(X), torch.tensor(y))\n",
    "\n",
    "# Print the first sample\n",
    "input_sample, label_sample = dataset[0]\n",
    "print('Input sample:', input_sample)\n",
    "print('Label sample:', label_sample)"
   ]
  },
  {
   "cell_type": "code",
   "execution_count": 8,
   "id": "bb8ded11",
   "metadata": {},
   "outputs": [
    {
     "data": {
      "text/plain": [
       "array([[0, 1, 1, 0, 0, 2, 1],\n",
       "       [0, 1, 1, 0, 1, 2, 1],\n",
       "       [1, 0, 0, 1, 1, 4, 1],\n",
       "       [1, 0, 0, 1, 0, 4, 1],\n",
       "       [0, 0, 1, 0, 1, 4, 1]])"
      ]
     },
     "execution_count": 8,
     "metadata": {},
     "output_type": "execute_result"
    }
   ],
   "source": [
    "X"
   ]
  },
  {
   "cell_type": "code",
   "execution_count": 9,
   "id": "1a46db1b",
   "metadata": {},
   "outputs": [
    {
     "data": {
      "text/plain": [
       "array([0, 0, 1, 1, 2])"
      ]
     },
     "execution_count": 9,
     "metadata": {},
     "output_type": "execute_result"
    }
   ],
   "source": [
    "y"
   ]
  },
  {
   "cell_type": "code",
   "execution_count": 10,
   "id": "e5208bb5",
   "metadata": {},
   "outputs": [
    {
     "data": {
      "text/plain": [
       "(tensor([0, 1, 1, 0, 0, 2, 1]), tensor(0))"
      ]
     },
     "execution_count": 10,
     "metadata": {},
     "output_type": "execute_result"
    }
   ],
   "source": [
    "dataset[0]"
   ]
  },
  {
   "cell_type": "markdown",
   "id": "f83e7160",
   "metadata": {},
   "source": [
    "## 2.2 Using DataLoader\n",
    "\n",
    "### Description\n",
    "\n",
    "The ``DataLoader`` class is essential for efficiently handling large datasets. It speeds up training, optimizes memory usage, and stabilizes gradient updates, making deep learning models more effective.\n",
    "\n",
    "Now, you'll create a PyTorch ``DataLoader`` using the ``dataset`` from the previous exercise and see it in action.\n",
    "\n",
    "### Instructions\n",
    "\n",
    "* Import the required module.\n",
    "* Create a ``DataLoader`` using ``dataset``, setting a batch size of two and enabling shuffling.\n",
    "* Iterate through the ``DataLoader`` and print each batch of inputs and labels."
   ]
  },
  {
   "cell_type": "code",
   "execution_count": 12,
   "id": "b7b529fe",
   "metadata": {},
   "outputs": [
    {
     "name": "stdout",
     "output_type": "stream",
     "text": [
      "batch_inputs: tensor([[1, 0, 0, 1, 1, 4, 1],\n",
      "        [0, 0, 1, 0, 1, 4, 1]])\n",
      "batch_labels: tensor([1, 2])\n",
      "batch_inputs: tensor([[0, 1, 1, 0, 0, 2, 1],\n",
      "        [0, 1, 1, 0, 1, 2, 1]])\n",
      "batch_labels: tensor([0, 0])\n",
      "batch_inputs: tensor([[1, 0, 0, 1, 0, 4, 1]])\n",
      "batch_labels: tensor([1])\n"
     ]
    }
   ],
   "source": [
    "from torch.utils.data import DataLoader\n",
    "\n",
    "# Create a DataLoader\n",
    "dataloader = DataLoader(\n",
    "                dataset,\n",
    "                batch_size = 2,\n",
    "                shuffle=True\n",
    "            )\n",
    "\n",
    "# Iterate over the dataloader\n",
    "for batch_inputs, batch_labels in dataloader:\n",
    "    print('batch_inputs:', batch_inputs)\n",
    "    print('batch_labels:', batch_labels)"
   ]
  },
  {
   "cell_type": "markdown",
   "id": "ffa90aeb",
   "metadata": {},
   "source": [
    "## 2.3 Using the MSELoss\n",
    "\n",
    "### Description\n",
    "\n",
    "For regression problems, you often use Mean Squared Error (MSE) as a loss function instead of cross-entropy. MSE calculates the squared difference between predicted values (``y_pred``) and actual values (``y``). Now, you'll compute MSE loss using both NumPy and PyTorch.\n",
    "\n",
    "``torch``, ``numpy`` (as ``np``), and ``torch.nn`` (as ``nn``) packages are already imported.\n",
    "\n",
    "### Instructions\n",
    "\n",
    "* Calculate the MSE loss using NumPy.\n",
    "* Create an MSE loss function using PyTorch.\n",
    "* Convert ``y_pred`` and ``y`` to tensors, then calculate the MSE loss as ``mse_pytorch``."
   ]
  },
  {
   "cell_type": "code",
   "execution_count": 15,
   "id": "45444d3e",
   "metadata": {},
   "outputs": [
    {
     "name": "stdout",
     "output_type": "stream",
     "text": [
      "MSE (NumPy): 0.375\n",
      "MSE (PyTorch): tensor(0.3750, dtype=torch.float64)\n"
     ]
    }
   ],
   "source": [
    "y_pred = np.array([3, 5.0, 2.5, 7.0])  \n",
    "y = np.array([3.0, 4.5, 2.0, 8.0])     \n",
    "\n",
    "# Calculate MSE using NumPy\n",
    "mse_numpy = np.mean((y_pred - y)**2)\n",
    "\n",
    "# Create the MSELoss function in PyTorch\n",
    "criterion = nn.MSELoss()\n",
    "\n",
    "# Calculate MSE using PyTorch\n",
    "mse_pytorch = criterion(torch.tensor(y_pred), torch.tensor(y))\n",
    "\n",
    "print(\"MSE (NumPy):\", mse_numpy)\n",
    "print(\"MSE (PyTorch):\", mse_pytorch)"
   ]
  },
  {
   "cell_type": "markdown",
   "id": "80b6e7d6",
   "metadata": {},
   "source": [
    "### Practice: Manual functions"
   ]
  },
  {
   "cell_type": "code",
   "execution_count": 14,
   "id": "f230022a",
   "metadata": {},
   "outputs": [],
   "source": [
    "# MSE\n",
    "def mean_squared_loss(prediction, target):\n",
    "    import numpy as np\n",
    "    return np.mean((prediction - target)**2)"
   ]
  },
  {
   "cell_type": "markdown",
   "id": "165946b2",
   "metadata": {},
   "source": [
    "## 2.4 Writing a training loop\n",
    "\n",
    "### Description\n",
    "\n",
    "In ``scikit-learn``, the training loop is wrapped in the ``.fit()`` method, while in PyTorch, it's set up manually. While this adds flexibility, it requires a custom implementation.\n",
    "\n",
    "In this exercise, you'll create a loop to train a model for salary prediction.\n",
    "\n",
    "The ``show_results()`` function is provided to help you visualize some sample predictions.\n",
    "\n",
    "The package imports provided are: pandas as ``pd``, ``torch``, ``torch.nn`` as ``nn``, ``torch.optim`` as ``optim``, as well as ``DataLoader`` and ``TensorDataset`` from ``torch.utils.data``.\n",
    "\n",
    "The following variables have been created: ``num_epochs``, containing the number of epochs (set to 5); ``dataloader``, containing the dataloader; ``model``, containing the neural network; ``criterion``, containing the loss function, ``nn.MSELoss()``; ``optimizer``, containing the SGD optimizer.\n",
    "\n",
    "### Instructions\n",
    "\n",
    "* Write a for loop that iterates over the ``dataloader``; this should be nested within a for loop that iterates over a range equal to the number of epochs.\n",
    "* Set the gradients of the optimizer to zero.\n",
    "* Compute the loss using the ``criterion()`` function and the gradients.\n",
    "* Update the model's parameters."
   ]
  },
  {
   "cell_type": "code",
   "execution_count": 16,
   "id": "ea3ed481",
   "metadata": {},
   "outputs": [],
   "source": [
    "def show_results(model, dataloader):\n",
    "    model.eval()\n",
    "    iter_loader = iter(dataloader)\n",
    "    for _ in range(3):\n",
    "        feature, target = next(iter_loader)\n",
    "        preds = model(feature)\n",
    "    \n",
    "        for p, t in zip(preds, target):\n",
    "            print(f'Ground truth salary: {t.item():.3f}. Predicted salary: {p.item():.3f}.')"
   ]
  },
  {
   "cell_type": "code",
   "execution_count": 20,
   "id": "f197c1e8",
   "metadata": {},
   "outputs": [],
   "source": [
    "# Variables\n",
    "\n",
    "num_epochs = 5\n",
    "\n",
    "dataloader = DataLoader(\n",
    "                dataset,\n",
    "                batch_size = 2,\n",
    "                shuffle=True\n",
    "            )\n",
    "\n",
    "model = nn.Sequential(\n",
    "  nn.Linear(4, 2),\n",
    "  nn.Sigmoid(),\n",
    "  nn.Linear(2, 1)\n",
    ")\n",
    "\n",
    "optimizer = optim.SGD(model.parameters(), lr=0.001)"
   ]
  },
  {
   "cell_type": "code",
   "execution_count": 26,
   "id": "42971377",
   "metadata": {},
   "outputs": [],
   "source": [
    "def create_datarows_from_dataloader(dataloader):\n",
    "    # Prepare a list to hold converted data rows\n",
    "    data_rows = []\n",
    "\n",
    "    # Iterate over batches in the DataLoader\n",
    "    for batch in dataloader:\n",
    "        # Each element in batch could be a tensor; convert components to numpy arrays\n",
    "        # If batch is a tensor, convert entire batch to numpy arrays row-wise\n",
    "        # If batch is a tuple (e.g. inputs, labels), convert each separately\n",
    "        if isinstance(batch, torch.Tensor):\n",
    "            # Convert tensor batch to numpy and iterate rows\n",
    "            for row in batch.numpy():\n",
    "                data_rows.append(row)\n",
    "        elif isinstance(batch, (list, tuple)):\n",
    "            # Convert each tensor component in the tuple to numpy arrays\n",
    "            # Combine them row-wise as needed (example for inputs and labels)\n",
    "            inputs, labels = batch\n",
    "            inputs_np = inputs.numpy()\n",
    "            labels_np = labels.numpy()\n",
    "            for i in range(len(inputs_np)):\n",
    "                row = list(inputs_np[i]) + list(labels_np[i])  # concatenate as a row\n",
    "                data_rows.append(row)\n",
    "\n",
    "    return data_rows"
   ]
  },
  {
   "cell_type": "code",
   "execution_count": 44,
   "id": "aa9b6083",
   "metadata": {},
   "outputs": [],
   "source": [
    "X = dataloader_df.iloc[:, :-1].to_numpy()  \n",
    "y = dataloader_df.iloc[:, -1].to_numpy()\n",
    "\n",
    "# Create a dataset\n",
    "dataset = TensorDataset(torch.from_numpy(X).float(), torch.from_numpy(y).float()) # To ensure that its float32 (Tensor Float), not float64 (Tensor Double), else it will cause a mismatch in model(feature) line\n",
    "# Create a DataLoader\n",
    "dataloader = DataLoader(dataset, batch_size = 4, shuffle=True)"
   ]
  },
  {
   "cell_type": "code",
   "execution_count": 46,
   "id": "730d42f5",
   "metadata": {},
   "outputs": [
    {
     "name": "stderr",
     "output_type": "stream",
     "text": [
      "c:\\Users\\sanja\\AppData\\Local\\Programs\\Python\\Python312\\Lib\\site-packages\\torch\\nn\\modules\\loss.py:616: UserWarning: Using a target size (torch.Size([4])) that is different to the input size (torch.Size([4, 1])). This will likely lead to incorrect results due to broadcasting. Please ensure they have the same size.\n",
      "  return F.mse_loss(input, target, reduction=self.reduction)\n",
      "c:\\Users\\sanja\\AppData\\Local\\Programs\\Python\\Python312\\Lib\\site-packages\\torch\\nn\\modules\\loss.py:616: UserWarning: Using a target size (torch.Size([3])) that is different to the input size (torch.Size([3, 1])). This will likely lead to incorrect results due to broadcasting. Please ensure they have the same size.\n",
      "  return F.mse_loss(input, target, reduction=self.reduction)\n"
     ]
    },
    {
     "name": "stdout",
     "output_type": "stream",
     "text": [
      "Ground truth salary: 0.133. Predicted salary: 0.084.\n",
      "Ground truth salary: 0.167. Predicted salary: 0.153.\n",
      "Ground truth salary: 0.242. Predicted salary: 0.153.\n",
      "Ground truth salary: 0.165. Predicted salary: 0.111.\n",
      "Ground truth salary: 0.133. Predicted salary: 0.153.\n",
      "Ground truth salary: 0.128. Predicted salary: 0.122.\n",
      "Ground truth salary: 0.150. Predicted salary: 0.109.\n",
      "Ground truth salary: 0.197. Predicted salary: 0.186.\n",
      "Ground truth salary: 0.182. Predicted salary: 0.153.\n",
      "Ground truth salary: 0.228. Predicted salary: 0.153.\n",
      "Ground truth salary: 0.112. Predicted salary: 0.071.\n",
      "Ground truth salary: 0.060. Predicted salary: 0.092.\n"
     ]
    }
   ],
   "source": [
    "# Loop over the number of epochs and the dataloader\n",
    "for i in range(num_epochs):\n",
    "  for data in dataloader:\n",
    "    # Set the gradients to zero\n",
    "    optimizer.zero_grad()\n",
    "    # Run a forward pass\n",
    "    feature, target = data\n",
    "    prediction = model(feature)    \n",
    "    # Compute the loss\n",
    "    loss = criterion(prediction, target)    \n",
    "    # Compute the gradients\n",
    "    loss.backward()\n",
    "    # Update the model's parameters\n",
    "    optimizer.step()\n",
    "show_results(model, dataloader)"
   ]
  },
  {
   "cell_type": "markdown",
   "id": "2bb3d096",
   "metadata": {},
   "source": [
    "### Notes\n",
    "\n",
    "* Use `dataloader.__dict__` to understand the parameters like batch size used in DataCamp"
   ]
  },
  {
   "cell_type": "markdown",
   "id": "418a3fc4",
   "metadata": {},
   "source": [
    "## 2.5 Implementing ReLU\n",
    "\n",
    "### Description\n",
    "\n",
    "The Rectified Linear Unit (ReLU) is a widely-used activation function in deep learning, solving challenges like the vanishing gradients problem.\n",
    "\n",
    "In this exercise, you'll implement ReLU in PyTorch, apply it to both positive and negative values, and observe the results.\n",
    "\n",
    "``torch.nn`` package has already been imported for you as nn.\n",
    "\n",
    "### Instructions\n",
    "\n",
    "* Create a ReLU function in PyTorch.\n",
    "* Apply the ReLU function to both ``x_pos`` and ``x_neg``."
   ]
  },
  {
   "cell_type": "code",
   "execution_count": null,
   "id": "a52d878a",
   "metadata": {},
   "outputs": [],
   "source": []
  },
  {
   "cell_type": "markdown",
   "id": "6d2099cf",
   "metadata": {},
   "source": []
  }
 ],
 "metadata": {
  "kernelspec": {
   "display_name": "Python 3",
   "language": "python",
   "name": "python3"
  },
  "language_info": {
   "codemirror_mode": {
    "name": "ipython",
    "version": 3
   },
   "file_extension": ".py",
   "mimetype": "text/x-python",
   "name": "python",
   "nbconvert_exporter": "python",
   "pygments_lexer": "ipython3",
   "version": "3.12.2"
  }
 },
 "nbformat": 4,
 "nbformat_minor": 5
}
