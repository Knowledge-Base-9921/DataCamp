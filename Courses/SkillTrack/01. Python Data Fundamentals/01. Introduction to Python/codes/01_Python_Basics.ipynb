{
 "cells": [
  {
   "cell_type": "markdown",
   "id": "6e84fba3",
   "metadata": {},
   "source": [
    "# 1. Python Basics\n",
    "\n",
    "An introduction to the basic concepts of Python. Learn how to use Python interactively and by using a script. Create your first variables and acquaint yourself with Python's basic data types."
   ]
  },
  {
   "cell_type": "markdown",
   "id": "cedb05f5",
   "metadata": {},
   "source": [
    "## 1.1 Import Libraries"
   ]
  },
  {
   "cell_type": "code",
   "execution_count": null,
   "id": "44d48a69",
   "metadata": {},
   "outputs": [],
   "source": [
    "# None for this course"
   ]
  },
  {
   "cell_type": "markdown",
   "id": "5be7217d",
   "metadata": {},
   "source": [
    "## 1.2 User Variables"
   ]
  },
  {
   "cell_type": "code",
   "execution_count": null,
   "id": "f49332cf",
   "metadata": {},
   "outputs": [],
   "source": [
    "# None for this course"
   ]
  },
  {
   "cell_type": "markdown",
   "id": "71232624",
   "metadata": {},
   "source": [
    "# 2. Exercises"
   ]
  },
  {
   "cell_type": "markdown",
   "id": "08fcbd36",
   "metadata": {},
   "source": [
    "## 2.1 Your first Python code\n",
    "\n",
    "### Description\n",
    "\n",
    "It's time to run your first Python code!\n",
    "\n",
    "Head to the code and hit the run code button to see the output.\n",
    "\n",
    "### Instructions\n",
    "\n",
    "* Hit the run code button to see the output of ``print(5 / 8)``."
   ]
  },
  {
   "cell_type": "code",
   "execution_count": 1,
   "id": "90791b35",
   "metadata": {},
   "outputs": [
    {
     "name": "stdout",
     "output_type": "stream",
     "text": [
      "0.625\n"
     ]
    }
   ],
   "source": [
    "# Hit run code to see the output!\n",
    "print(5 / 8)"
   ]
  },
  {
   "cell_type": "markdown",
   "id": "1827aed4",
   "metadata": {},
   "source": [
    "## 2.2 Python as a calculator\n",
    "\n",
    "### Description\n",
    "\n",
    "Python is perfectly suited to do basic calculations. It can do addition, subtraction, multiplication and division.\n",
    "\n",
    "The code in the script gives some examples.\n",
    "\n",
    "Now it's your turn to practice by writing some code yourself.\n",
    "\n",
    "### Instructions\n",
    "\n",
    "* Print the result of subtracting ``5`` from ``5`` under ``# Subtraction`` using ``print()``.\n",
    "* Print the result of multiplying ``3`` by ``5`` under ``# Multiplication``."
   ]
  },
  {
   "cell_type": "code",
   "execution_count": 2,
   "id": "ec5829ad",
   "metadata": {},
   "outputs": [
    {
     "name": "stdout",
     "output_type": "stream",
     "text": [
      "9\n",
      "5.0\n",
      "0\n",
      "15\n"
     ]
    }
   ],
   "source": [
    "# Addition and division\n",
    "print(4 + 5)\n",
    "print(10 / 2)\n",
    "\n",
    "# Subtraction\n",
    "print(5 - 5)\n",
    "\n",
    "# Multiplication\n",
    "print(3 * 5)"
   ]
  },
  {
   "cell_type": "markdown",
   "id": "efe256db",
   "metadata": {},
   "source": [
    "## 2.3 Variable Assignment\n",
    "\n",
    "### Description\n",
    "\n",
    "In Python, a variable allows you to refer to a value with a name. To create a variable ``x`` with a value of ``5``, you use ``=``, like this example:\n",
    "\n",
    "```py\n",
    "x = 5\n",
    "```\n",
    "\n",
    "You can now use the name of this variable, ``x``, instead of the actual value, ``5``.\n",
    "\n",
    "Remember, ``=`` in Python means assignment, it doesn't test equality! Try it in the exercise by replacing ``____`` with your code.\n",
    "\n",
    "### Instructions\n",
    "\n",
    "* Create a variable ``savings`` with the value of ``100``.\n",
    "* Check out this variable by typing ``print(savings)`` in the script."
   ]
  },
  {
   "cell_type": "code",
   "execution_count": 3,
   "id": "aa0b7af3",
   "metadata": {},
   "outputs": [
    {
     "name": "stdout",
     "output_type": "stream",
     "text": [
      "100\n"
     ]
    }
   ],
   "source": [
    "# Create a variable savings\n",
    "savings = 100\n",
    "\n",
    "# Print out savings\n",
    "print(savings)"
   ]
  },
  {
   "cell_type": "markdown",
   "id": "a4bd2be4",
   "metadata": {},
   "source": [
    "## 2.4 Calculations with variables\n",
    "\n",
    "### Description\n",
    "\n",
    "You've now created a savings variable, so let's start saving!\n",
    "\n",
    "Instead of calculating with the actual values, you can use variables instead.\n",
    "\n",
    "How much money would you have saved four months from now, if you saved $10 each month?\n",
    "\n",
    "### Instructions\n",
    "\n",
    "* Create a variable ``monthly_savings``, equal to ``10`` and ``num_months``, equal to ``4``.\n",
    "* Multiply ``monthly_savings`` by ``num_months`` and assign it to ``new_savings``.\n",
    "* Print the value of ``new_savings``."
   ]
  },
  {
   "cell_type": "code",
   "execution_count": 4,
   "id": "162e300c",
   "metadata": {},
   "outputs": [
    {
     "name": "stdout",
     "output_type": "stream",
     "text": [
      "40\n"
     ]
    }
   ],
   "source": [
    "# Create the variables monthly_savings and num_months\n",
    "monthly_savings = 10\n",
    "num_months = 4\n",
    "\n",
    "# Multiply monthly_savings and num_months\n",
    "new_savings = monthly_savings * num_months\n",
    "\n",
    "# Print new_savings\n",
    "print(new_savings)"
   ]
  },
  {
   "cell_type": "markdown",
   "id": "e589b714",
   "metadata": {},
   "source": [
    "## 2.5 Other variable types\n",
    "\n",
    "### Description\n",
    "\n",
    "In the previous exercise, you worked with the integer Python data type:\n",
    "\n",
    "* ``int``, or integer: a number without a fractional part. ``savings``, with the value ``100``, is an example of an integer.\n",
    "\n",
    "Next to numerical data types, there are three other very common data types:\n",
    "\n",
    "* ``float``, or floating point: a number that has both an integer and fractional part, separated by a point. ``1.1``, is an example of a float.\n",
    "* ``str``, or string: a type to represent text. You can use single or double quotes to build a string.\n",
    "* ``bool``, or boolean: a type to represent logical values. It can only be ``True`` or ``False`` (the capitalization is important!).\n",
    "\n",
    "### Instructions\n",
    "\n",
    "* Create a new ``float``, ``half``, with the value ``0.5``.\n",
    "* Create a new ``string``, ``intro``, with the value ``\"Hello! How are you?\"``.\n",
    "* Create a new ``boolean``, ``is_good``, with the value ``True``."
   ]
  },
  {
   "cell_type": "code",
   "execution_count": 5,
   "id": "06acbadf",
   "metadata": {},
   "outputs": [],
   "source": [
    "# Create a variable half\n",
    "half = 0.5 # float type\n",
    "\n",
    "# Create a variable intro\n",
    "intro = \"Hello! How are you?\" # str type\n",
    "\n",
    "# Create a variable is_good\n",
    "is_good = True # bool type"
   ]
  },
  {
   "cell_type": "markdown",
   "id": "8501409f",
   "metadata": {},
   "source": [
    "## 2.6 Operations with other types\n",
    "\n",
    "### Description\n",
    "\n",
    "Variables come in different types in Python. You can see the type of a variable by using ``type()``. For example, to see type of ``a``, execute: ``type(a)``.\n",
    "\n",
    "Different types behave differently in Python. When you sum two strings, for example, you'll get different behavior than when you sum two integers or two booleans.\n",
    "\n",
    "Time for you to test this out.\n",
    "\n",
    "### Instructions\n",
    "\n",
    "* Add ``savings`` and ``new_savings`` and assign it to ``total_savings``. Use ``type()`` to print the resulting type of ``total_savings``.\n",
    "* Calculate the sum of ``intro`` and ``intro`` and assign the result to ``doubleintro``. Print out ``doubleintro``. Did you expect this?"
   ]
  },
  {
   "cell_type": "code",
   "execution_count": 6,
   "id": "9a16ffdd",
   "metadata": {},
   "outputs": [
    {
     "name": "stdout",
     "output_type": "stream",
     "text": [
      "140\n",
      "<class 'int'>\n"
     ]
    }
   ],
   "source": [
    "savings = 100\n",
    "new_savings = 40\n",
    "\n",
    "# Calculate total_savings using savings and new_savings\n",
    "total_savings = savings + new_savings\n",
    "print(total_savings)\n",
    "\n",
    "# Print the type of total_savings\n",
    "print(type(total_savings))"
   ]
  },
  {
   "cell_type": "code",
   "execution_count": 7,
   "id": "79918df3",
   "metadata": {},
   "outputs": [
    {
     "name": "stdout",
     "output_type": "stream",
     "text": [
      "Hello! How are you?Hello! How are you?\n"
     ]
    }
   ],
   "source": [
    "intro = \"Hello! How are you?\"\n",
    "\n",
    "# Assign sum of intro and intro to doubleintro\n",
    "doubleintro = intro+intro\n",
    "\n",
    "# Print out doubleintro\n",
    "print(doubleintro)"
   ]
  }
 ],
 "metadata": {
  "kernelspec": {
   "display_name": "Python 3",
   "language": "python",
   "name": "python3"
  },
  "language_info": {
   "codemirror_mode": {
    "name": "ipython",
    "version": 3
   },
   "file_extension": ".py",
   "mimetype": "text/x-python",
   "name": "python",
   "nbconvert_exporter": "python",
   "pygments_lexer": "ipython3",
   "version": "3.12.2"
  }
 },
 "nbformat": 4,
 "nbformat_minor": 5
}
