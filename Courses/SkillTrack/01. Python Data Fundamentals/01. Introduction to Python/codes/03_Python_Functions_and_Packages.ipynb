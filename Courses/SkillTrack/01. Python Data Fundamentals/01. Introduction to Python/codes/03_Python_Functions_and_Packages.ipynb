{
 "cells": [
  {
   "cell_type": "markdown",
   "id": "b55f4ff6",
   "metadata": {},
   "source": [
    "# 1. Functions and Packages\n",
    "\n",
    "You'll learn how to use functions, methods, and packages to efficiently leverage the code that brilliant Python developers have written. The goal is to reduce the amount of code you need to solve challenging problems! "
   ]
  },
  {
   "cell_type": "markdown",
   "id": "497f38bc",
   "metadata": {},
   "source": [
    "## 1.1 Import Libraries"
   ]
  },
  {
   "cell_type": "code",
   "execution_count": 7,
   "id": "0a053407",
   "metadata": {},
   "outputs": [],
   "source": [
    "import math"
   ]
  },
  {
   "cell_type": "markdown",
   "id": "815a459a",
   "metadata": {},
   "source": [
    "## 1.2 User Variables"
   ]
  },
  {
   "cell_type": "code",
   "execution_count": null,
   "id": "3c7760a5",
   "metadata": {},
   "outputs": [],
   "source": [
    "# None for this course"
   ]
  },
  {
   "cell_type": "markdown",
   "id": "dc94210c",
   "metadata": {},
   "source": [
    "# 2. Exercises"
   ]
  },
  {
   "cell_type": "markdown",
   "id": "aa62435a",
   "metadata": {},
   "source": [
    "## 2.1 Familiar functions\n",
    "\n",
    "### Description\n",
    "\n",
    "Out of the box, Python offers a bunch of built-in functions to make your life as a data scientist easier. You already know two such functions: ``print()`` and ``type()``. There are also functions like ``str()``, ``int()``, ``bool()`` and ``float()`` to switch between data types. You can find out about them <a href=\"https://docs.python.org/3/library/functions.html\">here</a>. These are built-in functions as well.\n",
    "\n",
    "Calling a function is easy. To get the type of ``3.0`` and store the output as a new variable, ``result``, you can use the following:\n",
    "\n",
    "```py\n",
    "result = type(3.0)\n",
    "```\n",
    "\n",
    "### Instructions\n",
    "\n",
    "* Use ``print()`` in combination with ``type()`` to print out the type of ``var1``.\n",
    "* Use ``len()`` to get the <a href=\"https://docs.python.org/3/library/functions.html#len\">length of the list</a> ``var1``. Wrap it in a ``print()`` call to directly print it out.\n",
    "* Use ``int()`` to convert ``var2`` to an <a href=\"https://docs.python.org/3/library/functions.html#int\">integer</a>. Store the output as ``out2``."
   ]
  },
  {
   "cell_type": "code",
   "execution_count": 1,
   "id": "edf68819",
   "metadata": {},
   "outputs": [
    {
     "name": "stdout",
     "output_type": "stream",
     "text": [
      "<class 'list'>\n",
      "4\n"
     ]
    }
   ],
   "source": [
    "# Create variables var1 and var2\n",
    "var1 = [1, 2, 3, 4]\n",
    "var2 = True\n",
    "\n",
    "# Print out type of var1\n",
    "print(type(var1))\n",
    "\n",
    "# Print out length of var1\n",
    "print(len(var1))\n",
    "\n",
    "# Convert var2 to an integer: out2\n",
    "out2 = int(var2)"
   ]
  },
  {
   "cell_type": "markdown",
   "id": "486fb38f",
   "metadata": {},
   "source": [
    "## 2.2 Quiz: Help!\n",
    "\n",
    "### Descriptions\n",
    "\n",
    "Maybe you already know the name of a Python function, but you still have to figure out how to use it. Ironically, you have to ask for information about a function with another function: ``help()``. In IPython specifically, you can also use ``?`` before the function name.\n",
    "\n",
    "To get help on the ``max()`` function, for example, you can use one of these calls:\n",
    "\n",
    "```py\n",
    "help(max)\n",
    "?max\n",
    "```\n",
    "\n",
    "Use the IPython Shell to open up the <a href=\"https://docs.python.org/3/library/functions.html#pow\">documentation</a> on ``pow()``. Do this by typing ``?pow`` or ``help(pow)`` and hitting <b>Enter</b>.\n",
    "\n",
    "### Instructions\n",
    "\n",
    "Which of the following statements is true?\n",
    "\n",
    "### Answers\n",
    "\n",
    "``pow()`` requires ``base`` and ``exp`` arguments; ``mod`` is optional."
   ]
  },
  {
   "cell_type": "markdown",
   "id": "59c7b5f7",
   "metadata": {},
   "source": [
    "## 2.3 Multiple arguments\n",
    "\n",
    "### Description\n",
    "\n",
    "In the previous exercise, you identified optional arguments by viewing the documentation with ``help()``. You'll now apply this to change the behavior of the ``sorted()`` function.\n",
    "\n",
    "Have a look at the <a href=\"https://docs.python.org/3/library/functions.html#sorted\">documentation</a> of ``sorted()`` by typing ``help(sorted)`` in the IPython Shell.\n",
    "\n",
    "You'll see that ``sorted()`` takes three arguments: ``iterable``, ``key``, and ``reverse``. In this exercise, you'll only have to specify ``iterable`` and ``reverse``, not ``key``.\n",
    "\n",
    "Two lists have been created for you.\n",
    "\n",
    "Can you paste them together and sort them in descending order?\n",
    "\n",
    "### Instructions\n",
    "\n",
    "* Use ``+`` to merge the contents of ``first`` and ``second`` into a new list: ``full``.\n",
    "* Call ``sorted()`` and on ``full`` and specify the ``reverse`` argument to be ``True``. Save the sorted list as ``full_sorted``.\n",
    "* Finish off by printing out ``full_sorted``."
   ]
  },
  {
   "cell_type": "code",
   "execution_count": 2,
   "id": "d5e4fc46",
   "metadata": {},
   "outputs": [
    {
     "name": "stdout",
     "output_type": "stream",
     "text": [
      "[20.0, 18.0, 11.25, 10.75, 9.5]\n"
     ]
    }
   ],
   "source": [
    "# Create lists first and second\n",
    "first = [11.25, 18.0, 20.0]\n",
    "second = [10.75, 9.50]\n",
    "\n",
    "# Paste together first and second: full\n",
    "full = first + second\n",
    "\n",
    "# Sort full in descending order: full_sorted\n",
    "full_sorted = sorted(full, reverse=True)\n",
    "\n",
    "# Print out full_sorted\n",
    "print(full_sorted)"
   ]
  },
  {
   "cell_type": "markdown",
   "id": "4206aa81",
   "metadata": {},
   "source": [
    "## 2.4 String Methods\n",
    "\n",
    "### Description\n",
    "\n",
    "Strings come with a bunch of methods. Follow the instructions closely to discover some of them. If you want to discover them in more detail, you can always type ``help(str)`` in the IPython Shell.\n",
    "\n",
    "A string ``place`` has already been created for you to experiment with.\n",
    "\n",
    "### Instructions\n",
    "\n",
    "* Use the ``.upper()`` <a href=\"https://docs.python.org/3/library/stdtypes.html#str.upper\">method</a> on ``place`` and store the result in ``place_up``. Use the syntax for calling methods that you learned in the previous video.\n",
    "* Print out ``place`` and ``place_up``. Did both change?\n",
    "* Print out the number of o's on the variable ``place`` by calling ``.count()`` on ``place`` and passing the letter ``'o'`` as an input to the method. We're talking about the variable ``place``, not the word ``\"place\"``!"
   ]
  },
  {
   "cell_type": "code",
   "execution_count": 3,
   "id": "9e791827",
   "metadata": {},
   "outputs": [
    {
     "name": "stdout",
     "output_type": "stream",
     "text": [
      "poolhouse\n",
      "POOLHOUSE\n",
      "3\n"
     ]
    }
   ],
   "source": [
    "# string to experiment with: place\n",
    "place = \"poolhouse\"\n",
    "\n",
    "# Use upper() on place\n",
    "place_up = place.upper()\n",
    "\n",
    "# Print out place and place_up\n",
    "print(place)\n",
    "print(place_up)\n",
    "\n",
    "# Print out the number of o's in place\n",
    "print(place.count(\"o\"))"
   ]
  },
  {
   "cell_type": "markdown",
   "id": "7488d769",
   "metadata": {},
   "source": [
    "## 2.5 List Methods\n",
    "\n",
    "### Description\n",
    "\n",
    "Strings are not the only Python types that have methods associated with them. Lists, floats, integers and booleans are also types that come packaged with a bunch of useful methods. In this exercise, you'll be experimenting with:\n",
    "\n",
    "* ``.index()``, to get the index of the first element of a list that matches its input and\n",
    "* ``.count()``, to get the number of times an element appears in a list.\n",
    "\n",
    "You'll be working on the list with the area of different parts of a house: ``areas``.\n",
    "\n",
    "### Instructions\n",
    "\n",
    "* Use the ``.index()`` method to get the index of the element in ``areas`` that is equal to ``20.0``. Print out this index.\n",
    "* Call ``.count()`` on ``areas`` to find out how many times ``9.50`` appears in the list. Again, simply print out this number. "
   ]
  },
  {
   "cell_type": "code",
   "execution_count": 4,
   "id": "520e56bf",
   "metadata": {},
   "outputs": [
    {
     "name": "stdout",
     "output_type": "stream",
     "text": [
      "2\n",
      "1\n"
     ]
    }
   ],
   "source": [
    "# Create list areas\n",
    "areas = [11.25, 18.0, 20.0, 10.75, 9.50]\n",
    "\n",
    "# Print out the index of the element 20.0\n",
    "print(areas.index(20.0))\n",
    "\n",
    "# Print out how often 9.50 appears in areas\n",
    "print(areas.count(9.50))"
   ]
  },
  {
   "cell_type": "markdown",
   "id": "2c80a458",
   "metadata": {},
   "source": [
    "## 2. 6 List Methods (2)\n",
    "\n",
    "### Description\n",
    "\n",
    "Most list methods will change the list they're called on. Examples are:\n",
    "\n",
    "* ``.append()``, that adds an element to the list it is called on,\n",
    "* ``.remove()``, that <a href=\"https://docs.python.org/3/library/stdtypes.html#typesseq-mutable\">removes</a> the first element of a list that matches the input, and\n",
    "* ``.reverse()``, that <a href=\"https://docs.python.org/3/library/stdtypes.html#typesseq-mutable\">reverses</a> the order of the elements in the list it is called on.\n",
    "\n",
    "You'll be working on the list with the area of different parts of the house: ``areas``.\n",
    "\n",
    "### Instructions\n",
    "\n",
    "* Use ``.append(``) twice to add the size of the poolhouse and the garage again: ``24.5`` and ``15.45``, respectively. Make sure to add them in this order.\n",
    "* Print out ``areas``\n",
    "* Use the ``.reverse()`` method to reverse the order of the elements in ``areas``.\n",
    "* Print out ``areas`` once more."
   ]
  },
  {
   "cell_type": "code",
   "execution_count": 5,
   "id": "3b6daccd",
   "metadata": {},
   "outputs": [
    {
     "name": "stdout",
     "output_type": "stream",
     "text": [
      "[11.25, 18.0, 20.0, 10.75, 9.5, 24.5, 15.45]\n",
      "[15.45, 24.5, 9.5, 10.75, 20.0, 18.0, 11.25]\n"
     ]
    }
   ],
   "source": [
    "# Create list areas\n",
    "areas = [11.25, 18.0, 20.0, 10.75, 9.50]\n",
    "\n",
    "# Use append twice to add poolhouse and garage size\n",
    "areas.append(24.5)\n",
    "areas.append(15.45)\n",
    "\n",
    "# Print out areas\n",
    "print(areas)\n",
    "\n",
    "# Reverse the orders of the elements in areas\n",
    "areas.reverse()\n",
    "\n",
    "# Print out areas\n",
    "print(areas)"
   ]
  },
  {
   "cell_type": "markdown",
   "id": "b9dabfe9",
   "metadata": {},
   "source": [
    "## 2.7 Import package\n",
    "\n",
    "### Description\n",
    "\n",
    "Let's say you wanted to calculate the circumference and area of a circle. Here's what those formulas look like:\n",
    "\n",
    "![](../images/c3ex7.png)\n",
    "\n",
    "Rather than typing the number for ``pi``, you can use the ``math`` package that contains the number\n",
    "\n",
    "For reference, ``**`` is the symbol for exponentiation. For example ``3**4`` is ``3`` to the power of ``4`` and will give ``81``.\n",
    "\n",
    "### Instructions\n",
    "\n",
    "* Import the ``math`` package.\n",
    "* Use ``math.pi`` to calculate the circumference of the circle and store it in ``C``.\n",
    "* Use ``math.pi`` to calculate the area of the circle and store it in ``A``."
   ]
  },
  {
   "cell_type": "code",
   "execution_count": 6,
   "id": "0e45b172",
   "metadata": {},
   "outputs": [
    {
     "name": "stdout",
     "output_type": "stream",
     "text": [
      "Circumference: 2.701769682087222\n",
      "Area: 0.5808804816487527\n"
     ]
    }
   ],
   "source": [
    "# Import the math package\n",
    "import math\n",
    "\n",
    "# Calculate C\n",
    "C = 2 * 0.43 * math.pi\n",
    "\n",
    "# Calculate A\n",
    "A = math.pi * 0.43 ** 2\n",
    "\n",
    "print(\"Circumference: \" + str(C))\n",
    "print(\"Area: \" + str(A))"
   ]
  },
  {
   "cell_type": "markdown",
   "id": "a3d6fa64",
   "metadata": {},
   "source": [
    "## 2.8 Selective import\n",
    "\n",
    "### Description\n",
    "\n",
    "General imports, like ``import math``, make all functionality from the ``math`` package available to you. However, if you decide to only use a specific part of a package, you can always make your import more selective:\n",
    "\n",
    "```py\n",
    "from math import pi\n",
    "```\n",
    "\n",
    "Try the same thing again, but this time only use ``pi``.\n",
    "\n",
    "### Instructions\n",
    "\n",
    "* Perform a selective import from the ``math`` package where you only import the ``pi`` function.\n",
    "* Use ``pi`` to calculate the circumference of the circle and store it in ``C``.\n",
    "* Use ``pi`` to calculate the area of the circle and store it in ``A``."
   ]
  },
  {
   "cell_type": "code",
   "execution_count": 8,
   "id": "0638d03a",
   "metadata": {},
   "outputs": [
    {
     "name": "stdout",
     "output_type": "stream",
     "text": [
      "Circumference: 2.701769682087222\n",
      "Area: 0.5808804816487527\n"
     ]
    }
   ],
   "source": [
    "# Import pi function of math package\n",
    "from math import pi\n",
    "\n",
    "# Calculate C\n",
    "C = 2 * 0.43 * pi\n",
    "\n",
    "# Calculate A\n",
    "A = pi * 0.43 ** 2\n",
    "\n",
    "print(\"Circumference: \" + str(C))\n",
    "print(\"Area: \" + str(A))"
   ]
  },
  {
   "cell_type": "markdown",
   "id": "25564410",
   "metadata": {},
   "source": [
    "## 2.9 Quiz: Different ways of importing\n",
    "\n",
    "### Description\n",
    "\n",
    "There are several ways to import packages and modules into Python. Depending on the import call, you'll have to use different Python code.\n",
    "\n",
    "Suppose you want to use the <a href=\"https://docs.scipy.org/doc/scipy/reference/generated/scipy.linalg.inv.html\">function</a> ``inv()``, which is in the ``linalg`` subpackage of the ``scipy`` package. You want to be able to use this function as follows:\n",
    "\n",
    "```py\n",
    "my_inv([[1,2], [3,4]])\n",
    "```\n",
    "\n",
    "### Instructions\n",
    "\n",
    "Which ``import`` statement will you need in order to run the above code without an error?\n",
    "\n",
    "### Answers\n",
    "\n",
    "```py\n",
    "from scipy.linalg import inv as my_inv\n",
    "```"
   ]
  },
  {
   "cell_type": "markdown",
   "id": "bc95bf96",
   "metadata": {},
   "source": [
    "# 3. Quiz"
   ]
  },
  {
   "cell_type": "markdown",
   "id": "4cdfc38d",
   "metadata": {},
   "source": [
    "## 3.1 Complete the code to return the output\n",
    "\n",
    "```py\n",
    "list = [1,2,3,-2,-6,-4,5]\n",
    "list.index(?) # output should be 2\n",
    "```"
   ]
  },
  {
   "cell_type": "code",
   "execution_count": 11,
   "id": "979ddc96",
   "metadata": {},
   "outputs": [
    {
     "data": {
      "text/plain": [
       "2"
      ]
     },
     "execution_count": 11,
     "metadata": {},
     "output_type": "execute_result"
    }
   ],
   "source": [
    "_list = [1,2,3,-2,-6,-4,5]\n",
    "_list.index(3)"
   ]
  },
  {
   "cell_type": "markdown",
   "id": "95bcc15d",
   "metadata": {},
   "source": [
    "## 3.2 What is the built-in function help() used for? \n",
    "\n",
    "### Answer\n",
    "\n",
    "To get help on a function"
   ]
  },
  {
   "cell_type": "markdown",
   "id": "2876e948",
   "metadata": {},
   "source": [
    "## 3.3 Which of the following is used to install `numpy` on a local system ?\n",
    "\n",
    "### Answer\n",
    "\n",
    "pip3 install numpy"
   ]
  },
  {
   "cell_type": "markdown",
   "id": "2202dad8",
   "metadata": {},
   "source": [
    "## 3.4 Complete the code to return the output\n",
    "\n",
    "```py\n",
    "# Print the number of occurences \n",
    "# of the letter \"i\" in z\n",
    "z = \"imagination\"\n",
    "print(z?)\n",
    "```\n",
    "\n",
    "### Answer\n",
    "\n",
    "``.count(\"i\")``"
   ]
  },
  {
   "cell_type": "markdown",
   "id": "72026311",
   "metadata": {},
   "source": [
    "## 3.5 Complete the code to return the output\n",
    "\n",
    "```py\n",
    "# Print the number of occurences \n",
    "# of the string \"c\" in list x\n",
    "x = ['a', 'c', 'b', 'b', 'c', 'c']\n",
    "print(x?)\n",
    "```\n",
    "\n",
    "### Answer\n",
    "\n",
    "`.count(\"c\")`"
   ]
  }
 ],
 "metadata": {
  "kernelspec": {
   "display_name": "Python 3",
   "language": "python",
   "name": "python3"
  },
  "language_info": {
   "codemirror_mode": {
    "name": "ipython",
    "version": 3
   },
   "file_extension": ".py",
   "mimetype": "text/x-python",
   "name": "python",
   "nbconvert_exporter": "python",
   "pygments_lexer": "ipython3",
   "version": "3.12.2"
  }
 },
 "nbformat": 4,
 "nbformat_minor": 5
}
