{
 "cells": [
  {
   "cell_type": "markdown",
   "id": "2bf1ad43",
   "metadata": {},
   "source": [
    "# 1. Logic, Control Flow and Filtering\n",
    "\n",
    "Boolean logic is the foundation of decision-making in Python programs. Learn about different comparison operators, how to combine them with Boolean operators, and how to use the Boolean outcomes in control structures. You'll also learn to filter data in pandas DataFrames using logic."
   ]
  },
  {
   "cell_type": "markdown",
   "id": "ba03ae7b",
   "metadata": {},
   "source": [
    "## 1.1 Import Libraries"
   ]
  },
  {
   "cell_type": "code",
   "execution_count": 1,
   "id": "4213502d",
   "metadata": {},
   "outputs": [],
   "source": [
    "import matplotlib.pyplot as plt\n",
    "import pandas as pd"
   ]
  },
  {
   "cell_type": "markdown",
   "id": "d2ba7fd9",
   "metadata": {},
   "source": [
    "## 1.2 User Variables"
   ]
  },
  {
   "cell_type": "code",
   "execution_count": null,
   "id": "647f7386",
   "metadata": {},
   "outputs": [],
   "source": [
    "# No user variables for this exercise"
   ]
  },
  {
   "cell_type": "markdown",
   "id": "ecd968c1",
   "metadata": {},
   "source": [
    "# 2. Exercises"
   ]
  },
  {
   "cell_type": "markdown",
   "id": "bc3609a9",
   "metadata": {},
   "source": [
    "## 2.1 Equality\n",
    "\n",
    "### Description\n",
    "\n",
    "To check if two Python values, or variables, are equal you can use ``==``. To check for inequality, you need ``!=``. As a refresher, have a look at the following examples that all result in ``True``. Feel free to try them out.\n",
    "\n",
    "```py\n",
    "2 == (1 + 1)\n",
    "\"intermediate\" != \"python\"\n",
    "True != False\n",
    "\"Python\" != \"python\"\n",
    "```\n",
    "\n",
    "When you write these comparisons in a script, you will need to wrap a ``print()`` function around them to see the output.\n",
    "\n",
    "### Instructions\n",
    "\n",
    "* Write code to see if ``True`` equals ``False``.\n",
    "* Write Python code to check if ``-5 * 15`` is not equal to ``75``.\n",
    "* Ask Python whether the strings ``\"pyscript\"`` and ``\"PyScript\"`` are equal.\n",
    "* What happens if you compare booleans and integers? Write code to see if ``True`` and ``1`` are equal."
   ]
  },
  {
   "cell_type": "code",
   "execution_count": 3,
   "id": "46989aa6",
   "metadata": {},
   "outputs": [
    {
     "data": {
      "text/plain": [
       "True"
      ]
     },
     "execution_count": 3,
     "metadata": {},
     "output_type": "execute_result"
    }
   ],
   "source": [
    "# Comparison of booleans\n",
    "True == False # False\n",
    "\n",
    "# Comparison of integers\n",
    "-5 * 15 != 75 # True\n",
    "\n",
    "# Comparison of strings\n",
    "\"pyscript\" == \"PyScript\" # False\n",
    "\n",
    "# Compare a boolean with an integer\n",
    "True == 1 # True\n",
    "False == 0 # True"
   ]
  },
  {
   "cell_type": "markdown",
   "id": "2f4a9a37",
   "metadata": {},
   "source": [
    "## 2.2 Greater and less than\n",
    "\n",
    "### Description\n",
    "\n",
    "In the video, Hugo also talked about the less than and greater than signs, ``<`` and ``>`` in Python. You can combine them with an equals sign: ``<=`` and ``>=``. Pay attention: ``<=`` is valid syntax, but ``=<`` is not.\n",
    "\n",
    "All Python expressions in the following code chunk evaluate to ``True``:\n",
    "\n",
    "```py\n",
    "3 ``<`` 4\n",
    "3 ``<``= 4\n",
    "\"alpha\" ``<``= \"beta\"\n",
    "```\n",
    "\n",
    "Remember that for string comparison, Python determines the relationship based on alphabetical order.\n",
    "\n",
    "### Instructions\n",
    "\n",
    "* Write Python expressions, wrapped in a ``print()`` function, to check whether:\n",
    "    * ``x`` is greater than or equal to ``-10``. ``x`` has already been defined for you.\n",
    "    * ``\"test\"`` is less than or equal to ``y``. ``y`` has already been defined for you.\n",
    "    * ``True`` is greater than ``False``."
   ]
  },
  {
   "cell_type": "code",
   "execution_count": 4,
   "id": "91a8477a",
   "metadata": {},
   "outputs": [
    {
     "name": "stdout",
     "output_type": "stream",
     "text": [
      "False\n",
      "True\n",
      "True\n"
     ]
    }
   ],
   "source": [
    "# Comparison of integers\n",
    "x = -3 * 6\n",
    "print(x >= -10)\n",
    "\n",
    "# Comparison of strings\n",
    "y = \"test\"\n",
    "print(\"test\" <= y)\n",
    "\n",
    "# Comparison of booleans\n",
    "print(True > False)"
   ]
  },
  {
   "cell_type": "markdown",
   "id": "bdcab13b",
   "metadata": {},
   "source": [
    "## 2.3 Compare arrays\n",
    "\n",
    "### Description\n",
    "\n",
    "Out of the box, you can also use comparison operators with NumPy arrays.\n",
    "\n",
    "Remember ``areas``, the list of area measurements for different rooms in your house from <i>Introduction to Python</i>? This time there's two NumPy arrays: ``my_house`` and ``your_house``. They both contain the areas for the kitchen, living room, bedroom and bathroom in the same order, so you can compare them.\n",
    "\n",
    "### Instructions\n",
    "\n",
    "Using comparison operators, generate boolean arrays that answer the following questions:\n",
    "\n",
    "* Which areas in ``my_house`` are greater than or equal to ``18``?\n",
    "* You can also compare two NumPy arrays element-wise. Which areas in ``my_house`` are smaller than the ones in ``your_house``?\n",
    "* Make sure to wrap both commands in a ``print()`` statement so that you can inspect the output!"
   ]
  },
  {
   "cell_type": "code",
   "execution_count": 5,
   "id": "f5d41b61",
   "metadata": {},
   "outputs": [
    {
     "name": "stdout",
     "output_type": "stream",
     "text": [
      "[ True  True False False]\n",
      "[False  True  True False]\n"
     ]
    }
   ],
   "source": [
    "# Create arrays\n",
    "import numpy as np\n",
    "my_house = np.array([18.0, 20.0, 10.75, 9.50])\n",
    "your_house = np.array([14.0, 24.0, 14.25, 9.0])\n",
    "\n",
    "# my_house greater than or equal to 18\n",
    "print(my_house >= 18)\n",
    "\n",
    "# my_house less than your_house\n",
    "print(my_house < your_house)"
   ]
  },
  {
   "cell_type": "markdown",
   "id": "073cf9f9",
   "metadata": {},
   "source": [
    "## 2.4 and, or, not (1)\n",
    "\n",
    "### Description\n",
    "\n",
    "A boolean is either ``1`` or ``0``, ``True`` or ``False``. With boolean operators such as ``and``, ``or`` and ``not``, you can combine these booleans to perform more advanced queries on your data.\n",
    "\n",
    "In the sample code, two variables are defined: ``my_kitchen`` and ``your_kitchen``, representing areas.\n",
    "\n",
    "### Instructions\n",
    "\n",
    "* Write Python expressions, wrapped in a ``print()`` function, to check whether:\n",
    "    * ``my_kitchen`` is bigger than 10 and smaller than 18.\n",
    "    * ``my_kitchen`` is smaller than 14 or bigger than 17.\n",
    "    * double the area of ``my_kitchen`` is smaller than triple the area of ``your_kitchen``."
   ]
  },
  {
   "cell_type": "code",
   "execution_count": 6,
   "id": "0db4d9da",
   "metadata": {},
   "outputs": [
    {
     "name": "stdout",
     "output_type": "stream",
     "text": [
      "False\n",
      "True\n",
      "True\n"
     ]
    }
   ],
   "source": [
    "# Define variables\n",
    "my_kitchen = 18.0\n",
    "your_kitchen = 14.0\n",
    "\n",
    "# my_kitchen bigger than 10 and smaller than 18?\n",
    "print(my_kitchen > 10 and my_kitchen < 18)\n",
    "\n",
    "# my_kitchen smaller than 14 or bigger than 17?\n",
    "print(my_kitchen < 14 or my_kitchen > 17)\n",
    "\n",
    "# Double my_kitchen smaller than triple your_kitchen?\n",
    "print(my_kitchen*2 < your_kitchen*3)"
   ]
  },
  {
   "cell_type": "markdown",
   "id": "cc4c303b",
   "metadata": {},
   "source": [
    "## 2.5 Quiz: and, or, not (2)\n",
    "\n",
    "### Description\n",
    "\n",
    "To see if you completely understood the boolean operators, have a look at the following piece of Python code:\n",
    "\n",
    "```py\n",
    "x = 8\n",
    "y = 9\n",
    "not(not(x < 3) and not(y > 14 or y > 10))\n",
    "```\n",
    "\n",
    "### Instructions\n",
    "\n",
    "What will the result be if you execute these three commands?\n",
    "\n",
    "<i>NB: Notice that not has a higher priority than and and or, it is executed first.</i>\n",
    "\n",
    "### Answer\n",
    "\n",
    "`False`"
   ]
  },
  {
   "cell_type": "markdown",
   "id": "d5beaded",
   "metadata": {},
   "source": [
    "## 2.6 Boolean operators with NumPy\n",
    "\n",
    "### Description\n",
    "\n",
    "Before, the operational operators like ``<`` and ``>=`` worked with NumPy arrays out of the box. Unfortunately, this is not true for the boolean operators ``and``, ``or``, and ``not``.\n",
    "\n",
    "To use these operators with NumPy, you will need ``np.logical_and()``, ``np.logical_or()`` and ``np.logical_not()``. Here's an example on the ``my_house`` and ``your_house`` arrays from before to give you an idea:\n",
    "\n",
    "```py\n",
    "np.logical_and(my_house > 13, your_house < 15)\n",
    "```\n",
    "\n",
    "### Instructions\n",
    "\n",
    "* Generate boolean arrays that answer the following questions:\n",
    "* Which areas in ``my_house`` are greater than ``18.5`` or smaller than ``10``?\n",
    "* Which areas are smaller than ``11`` in both ``my_house`` and ``your_house``? Make sure to wrap both commands in ``print()`` statement, so that you can inspect the output."
   ]
  },
  {
   "cell_type": "code",
   "execution_count": 7,
   "id": "33b8c015",
   "metadata": {},
   "outputs": [
    {
     "name": "stdout",
     "output_type": "stream",
     "text": [
      "[False  True False  True]\n",
      "[False False False  True]\n"
     ]
    }
   ],
   "source": [
    "# Create arrays\n",
    "import numpy as np\n",
    "my_house = np.array([18.0, 20.0, 10.75, 9.50])\n",
    "your_house = np.array([14.0, 24.0, 14.25, 9.0])\n",
    "\n",
    "# my_house greater than 18.5 or smaller than 10\n",
    "print(np.logical_or(my_house>18.5, my_house<10))\n",
    "\n",
    "# Both my_house and your_house smaller than 11\n",
    "print(np.logical_and(my_house<11, your_house<11))"
   ]
  },
  {
   "cell_type": "markdown",
   "id": "23ff06d9",
   "metadata": {},
   "source": [
    "## 2.7 Quiz: If/Elif/Else Warmup\n",
    "\n",
    "### Description\n",
    "\n",
    "To experiment with ``if`` and ``else`` a bit, have a look at this code sample:\n",
    "\n",
    "```py\n",
    "area = 10.0\n",
    "if(area < 9) :\n",
    "    print(\"small\")\n",
    "elif(area < 12) :\n",
    "    print(\"medium\")\n",
    "else :\n",
    "    print(\"large\")\n",
    "```\n",
    "\n",
    "### Instructions\n",
    "\n",
    "What will the output be if you run this piece of code?\n",
    "\n",
    "### Answers\n",
    "\n",
    "`medium`"
   ]
  },
  {
   "cell_type": "markdown",
   "id": "3464b580",
   "metadata": {},
   "source": [
    "## 2.8 if\n",
    "\n",
    "### Description\n",
    "\n",
    "It's time to take a closer look around in your house.\n",
    "\n",
    "Two variables are defined in the sample code: ``room``, a string that tells you which room of the house we're looking at, and ``area``, the area of that room.\n",
    "\n",
    "### Instructions\n",
    "\n",
    "* Examine the ``if`` statement that prints out ``\"looking around in the kitchen.\"`` if ``room`` equals ``\"kit\"``.\n",
    "* Write another ``if`` statement that prints out ``\"big place!\"`` if ``area`` is greater than ``15``."
   ]
  },
  {
   "cell_type": "code",
   "execution_count": 8,
   "id": "643b5623",
   "metadata": {},
   "outputs": [
    {
     "name": "stdout",
     "output_type": "stream",
     "text": [
      "looking around in the kitchen.\n"
     ]
    }
   ],
   "source": [
    "# Define variables\n",
    "room = \"kit\"\n",
    "area = 14.0\n",
    "\n",
    "# if statement for room\n",
    "if room == \"kit\" :\n",
    "    print(\"looking around in the kitchen.\")\n",
    "\n",
    "# if statement for area\n",
    "if area > 15:\n",
    "    print(\"big place!\")"
   ]
  },
  {
   "cell_type": "markdown",
   "id": "b34663e0",
   "metadata": {},
   "source": [
    "## 2.9 Add else\n",
    "\n",
    "### Description\n",
    "\n",
    "In the script, the ``if`` construct for ``room`` has been extended with an ``else`` statement so that ``\"looking around elsewhere.\"`` is printed if the condition ``room == \"kit\"`` evaluates to ``False``.\n",
    "\n",
    "Can you do a similar thing to add more functionality to the ``if`` construct for ``area``?\n",
    "\n",
    "### Instructions\n",
    "\n",
    "* Add an ``else`` statement to the second control structure so that ``\"pretty small.\"`` is printed out if ``area > 15`` evaluates to ``False``."
   ]
  },
  {
   "cell_type": "code",
   "execution_count": 9,
   "id": "0110e5b5",
   "metadata": {},
   "outputs": [
    {
     "name": "stdout",
     "output_type": "stream",
     "text": [
      "looking around in the kitchen.\n",
      "pretty small.\n"
     ]
    }
   ],
   "source": [
    "# Define variables\n",
    "room = \"kit\"\n",
    "area = 14.0\n",
    "\n",
    "# if-else construct for room\n",
    "if room == \"kit\" :\n",
    "    print(\"looking around in the kitchen.\")\n",
    "else :\n",
    "    print(\"looking around elsewhere.\")\n",
    "\n",
    "# if-else construct for area\n",
    "if area > 15 :\n",
    "    print(\"big place!\")\n",
    "else:\n",
    "    print(\"pretty small.\")"
   ]
  },
  {
   "cell_type": "markdown",
   "id": "ce59ec85",
   "metadata": {},
   "source": [
    "## 2.10 Customize further: elif\n",
    "\n",
    "### Description\n",
    "\n",
    "It's also possible to have a look around in the bedroom. The sample code contains an ``elif`` part that checks if ``room`` equals ``\"bed\"``. In that case, ``\"looking around in the bedroom.\"`` is printed out.\n",
    "\n",
    "It's up to you now! Make a similar addition to the second control structure to further customize the messages for different values of ``area``.\n",
    "\n",
    "### Instructions\n",
    "\n",
    "* Add an ``elif`` to the second control structure such that ``\"medium size, nice!\"`` is printed out if ``area`` is greater than ``10``."
   ]
  },
  {
   "cell_type": "code",
   "execution_count": 10,
   "id": "d300e9e9",
   "metadata": {},
   "outputs": [
    {
     "name": "stdout",
     "output_type": "stream",
     "text": [
      "looking around in the bedroom.\n",
      "medium size, nice!\n"
     ]
    }
   ],
   "source": [
    "# Define variables\n",
    "room = \"bed\"\n",
    "area = 14.0\n",
    "\n",
    "# if-elif-else construct for room\n",
    "if room == \"kit\" :\n",
    "    print(\"looking around in the kitchen.\")\n",
    "elif room == \"bed\":\n",
    "    print(\"looking around in the bedroom.\")\n",
    "else :\n",
    "    print(\"looking around elsewhere.\")\n",
    "\n",
    "# if-elif-else construct for area\n",
    "if area > 15 :\n",
    "    print(\"big place!\")\n",
    "elif area > 10:\n",
    "    print(\"medium size, nice!\")\n",
    "else :\n",
    "    print(\"pretty small.\")"
   ]
  },
  {
   "cell_type": "markdown",
   "id": "ef26bd3b",
   "metadata": {},
   "source": [
    "## 2.11 Driving right (1)\n",
    "\n",
    "### Description\n",
    "\n",
    "Remember that ``cars`` dataset, containing the cars per 1000 people (``cars_per_cap``) and whether people drive right (d``rives_right``) for different countries (``country``)? The code that imports this data in CSV format into Python as a DataFrame is included in the script.\n",
    "\n",
    "In the video, you saw a step-by-step approach to filter observations from a DataFrame based on boolean arrays. Let's start simple and try to find all observations in ``cars`` where ``drives_right`` is ``True``.\n",
    "\n",
    "``drives_right`` is a boolean column, so you'll have to extract it as a Series and then use this boolean Series to select observations from ``cars``.\n",
    "\n",
    "### Instructions\n",
    "\n",
    "* Extract the ``drives_right`` column <i>as a Pandas Series</i> and store it as ``dr``.\n",
    "* Use ``dr``, a boolean Series, to subset the ``cars`` DataFrame. Store the resulting selection in ``sel``.\n",
    "* Print ``sel``, and assert that ``drives_right`` is ``True`` for all observations."
   ]
  },
  {
   "cell_type": "code",
   "execution_count": 11,
   "id": "6fa358ef",
   "metadata": {},
   "outputs": [
    {
     "name": "stdout",
     "output_type": "stream",
     "text": [
      "     cars_per_cap        country  drives_right\n",
      "US            809  United States          True\n",
      "RU            200         Russia          True\n",
      "MOR            70        Morocco          True\n",
      "EG             45          Egypt          True\n"
     ]
    }
   ],
   "source": [
    "# Import cars data\n",
    "import pandas as pd\n",
    "cars = pd.read_csv('../datasets/cars.csv', index_col = 0)\n",
    "\n",
    "# Extract drives_right column as Series: dr\n",
    "dr = cars[\"drives_right\"]\n",
    "\n",
    "# Use dr to subset cars: sel\n",
    "sel = cars[dr]\n",
    "\n",
    "# Print sel\n",
    "print(sel)"
   ]
  },
  {
   "cell_type": "markdown",
   "id": "83fbd2c2",
   "metadata": {},
   "source": [
    "## 2.12 Driving right (2)\n",
    "\n",
    "### Description\n",
    "\n",
    "The code in the previous example worked fine, but you actually unnecessarily created a new variable ``dr``. You can achieve the same result without this intermediate variable. Put the code that computes ``dr`` straight into the square brackets that select observations from ``cars``.\n",
    "\n",
    "### Instructions\n",
    "\n",
    "* Convert the code to a one-liner that calculates the variable ``sel`` as before."
   ]
  },
  {
   "cell_type": "code",
   "execution_count": 13,
   "id": "67567ade",
   "metadata": {},
   "outputs": [
    {
     "name": "stdout",
     "output_type": "stream",
     "text": [
      "     cars_per_cap        country  drives_right\n",
      "US            809  United States          True\n",
      "RU            200         Russia          True\n",
      "MOR            70        Morocco          True\n",
      "EG             45          Egypt          True\n"
     ]
    }
   ],
   "source": [
    "# Import cars data\n",
    "import pandas as pd\n",
    "cars = pd.read_csv('../datasets/cars.csv', index_col = 0)\n",
    "\n",
    "# Convert code to a one-liner\n",
    "# dr = cars['drives_right']\n",
    "# sel = cars[dr]\n",
    "sel = cars[cars[\"drives_right\"]]\n",
    "\n",
    "# Print sel\n",
    "print(sel)"
   ]
  },
  {
   "cell_type": "markdown",
   "id": "9bd40e7b",
   "metadata": {},
   "source": [
    "## 2.13 Cars per capita (1)\n",
    "\n",
    "### Description\n",
    "\n",
    "Let's stick to the ``cars`` data some more. This time you want to find out which countries have a high <i>cars per capita</i> figure. In other words, in which countries do many people have a car, or maybe multiple cars.\n",
    "\n",
    "Similar to the previous example, you'll want to build up a boolean Series, that you can then use to subset the ``cars`` DataFrame to select certain observations. If you want to do this in a one-liner, that's perfectly fine!\n",
    "\n",
    "### Instructions\n",
    "\n",
    "* Select the ``cars_per_cap`` column from ``cars`` as a Pandas Series and store it as ``cpc``.\n",
    "* Use ``cpc`` in combination with a comparison operator and ``500``. You want to end up with a boolean Series that's ``True`` if the corresponding country has a ``cars_per_cap`` of more than ``500`` and ``False`` otherwise. Store this boolean Series as ``many_cars``.\n",
    "* Use ``many_cars`` to subset ``cars``, similar to what you did before. Store the result as ``car_maniac``.\n",
    "* Print out ``car_maniac`` to see if you got it right."
   ]
  },
  {
   "cell_type": "code",
   "execution_count": 15,
   "id": "8909c1e8",
   "metadata": {},
   "outputs": [
    {
     "name": "stdout",
     "output_type": "stream",
     "text": [
      "     cars_per_cap        country  drives_right\n",
      "US            809  United States          True\n",
      "AUS           731      Australia         False\n",
      "JAP           588          Japan         False\n"
     ]
    }
   ],
   "source": [
    "# Import cars data\n",
    "import pandas as pd\n",
    "cars = pd.read_csv('../datasets/cars.csv', index_col = 0)\n",
    "\n",
    "# Create car_maniac: observations that have a cars_per_cap over 500\n",
    "cpc = cars[\"cars_per_cap\"]\n",
    "many_cars = cpc > 500\n",
    "car_maniac = cars[many_cars]\n",
    "\n",
    "# Print car_maniac\n",
    "print(car_maniac)"
   ]
  },
  {
   "cell_type": "markdown",
   "id": "cc0b6383",
   "metadata": {},
   "source": [
    "## 2.14 Cars per capita (2)\n",
    "\n",
    "### Description\n",
    "\n",
    "Remember about ``np.logical_and()``, ``np.logical_or()`` and ``np.logical_not()``, the NumPy variants of the ``and``, ``or`` and ``not`` operators? You can also use them on Pandas Series to do more advanced filtering operations.\n",
    "\n",
    "Take this example that selects the observations that have a ``cars_per_cap`` between 10 and 80. Try out these lines of code step by step to see what's happening.\n",
    "\n",
    "```py\n",
    "cpc = cars['cars_per_cap']\n",
    "between = np.logical_and(cpc > 10, cpc < 80)\n",
    "medium = cars[between]\n",
    "```\n",
    "\n",
    "### Instructions\n",
    "\n",
    "* Use the code sample provided to create a DataFrame ``medium``, that includes all the observations of ``cars`` that have a ``cars_per_cap`` between ``100`` and ``500``.\n",
    "* Print out ``medium``."
   ]
  },
  {
   "cell_type": "code",
   "execution_count": 17,
   "id": "41596aba",
   "metadata": {},
   "outputs": [
    {
     "name": "stdout",
     "output_type": "stream",
     "text": [
      "    cars_per_cap country  drives_right\n",
      "RU           200  Russia          True\n"
     ]
    }
   ],
   "source": [
    "# Import cars data\n",
    "import pandas as pd\n",
    "cars = pd.read_csv('../datasets/cars.csv', index_col = 0)\n",
    "\n",
    "# Import numpy, you'll need this\n",
    "import numpy as np\n",
    "\n",
    "# Create medium: observations with cars_per_cap between 100 and 500\n",
    "cpc = cars['cars_per_cap']\n",
    "between = np.logical_and(cpc > 100, cpc < 500)\n",
    "medium = cars[between]\n",
    "\n",
    "# Print medium\n",
    "print(medium)"
   ]
  },
  {
   "cell_type": "markdown",
   "id": "39a43ee2",
   "metadata": {},
   "source": [
    "## 3. Quiz: Logic, Control Flow and Filtering"
   ]
  },
  {
   "cell_type": "markdown",
   "id": "70210bbd",
   "metadata": {},
   "source": [
    "## 3.1 What is the output of the following command?\n",
    "\n",
    "```py\n",
    "\"three\" > \"one\"\n",
    "```\n",
    "\n",
    "### Answer\n",
    "\n"
   ]
  },
  {
   "cell_type": "code",
   "execution_count": 18,
   "id": "856d3192",
   "metadata": {},
   "outputs": [
    {
     "data": {
      "text/plain": [
       "True"
      ]
     },
     "execution_count": 18,
     "metadata": {},
     "output_type": "execute_result"
    }
   ],
   "source": [
    "\"three\" > \"one\""
   ]
  },
  {
   "cell_type": "markdown",
   "id": "5b025118",
   "metadata": {},
   "source": [
    "`\"three\"` starts with ``'t'``\n",
    "``\"one\"`` starts with ``'o'``\n",
    "\n",
    "```py\n",
    "ord(\"t\") = 116\n",
    "ord(\"o\") = 111\n",
    "```\n",
    "\n",
    "Since 116 > 111, \"three\" > \"one\" evaluates to: `True`"
   ]
  },
  {
   "cell_type": "markdown",
   "id": "779f5424",
   "metadata": {},
   "source": [
    "## 3.2 Which operator is used to negate a boolean value ?\n",
    "\n",
    "`not`"
   ]
  },
  {
   "cell_type": "markdown",
   "id": "20729cea",
   "metadata": {},
   "source": [
    "## 3.3 Complete the code to return the output\n",
    "\n",
    "```py\n",
    "x = 12\n",
    "y = 7\n",
    "[?] (not(x<6>) and not(y>20 or y>10))\n",
    "```\n",
    "\n",
    "### Answer\n",
    "\n",
    "`not`"
   ]
  },
  {
   "cell_type": "markdown",
   "id": "6c9fe7cf",
   "metadata": {},
   "source": [
    "## 3.4 Which boolean expression with `or` operator results in `False` ?\n",
    "\n",
    "`False or False`"
   ]
  },
  {
   "cell_type": "markdown",
   "id": "60459609",
   "metadata": {},
   "source": [
    "## 3.5 Which boolean expression with `and` operator results in `True` ?\n",
    "\n",
    "`True and True`"
   ]
  }
 ],
 "metadata": {
  "kernelspec": {
   "display_name": "Python 3",
   "language": "python",
   "name": "python3"
  },
  "language_info": {
   "codemirror_mode": {
    "name": "ipython",
    "version": 3
   },
   "file_extension": ".py",
   "mimetype": "text/x-python",
   "name": "python",
   "nbconvert_exporter": "python",
   "pygments_lexer": "ipython3",
   "version": "3.12.2"
  }
 },
 "nbformat": 4,
 "nbformat_minor": 5
}
