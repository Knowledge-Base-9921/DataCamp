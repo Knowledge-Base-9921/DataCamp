{
 "cells": [
  {
   "cell_type": "markdown",
   "id": "2d5c31af",
   "metadata": {},
   "source": [
    "# 1. Loops\n",
    "\n",
    "There are several techniques you can use to repeatedly execute Python code. While loops are like repeated if statements, the for loop iterates over all kinds of data structures. Learn all about them in this chapter."
   ]
  },
  {
   "cell_type": "markdown",
   "id": "77ba33d3",
   "metadata": {},
   "source": [
    "## 1.1 Import Libraries"
   ]
  },
  {
   "cell_type": "code",
   "execution_count": 12,
   "id": "b2b6e209",
   "metadata": {},
   "outputs": [],
   "source": [
    "import numpy as np\n",
    "import pandas as pd"
   ]
  },
  {
   "cell_type": "markdown",
   "id": "711929ec",
   "metadata": {},
   "source": [
    "## 1.2 User Variables"
   ]
  },
  {
   "cell_type": "code",
   "execution_count": 23,
   "id": "e0f76c64",
   "metadata": {},
   "outputs": [],
   "source": [
    "df_baseball = pd.read_csv(\"../datasets/baseball.csv\")\n",
    "cars = pd.read_csv('../datasets/cars.csv', index_col = 0)"
   ]
  },
  {
   "cell_type": "markdown",
   "id": "22dc663c",
   "metadata": {},
   "source": [
    "# 2. Exercises"
   ]
  },
  {
   "cell_type": "markdown",
   "id": "c9f263c5",
   "metadata": {},
   "source": [
    "## 2.1 Quiz: while: warming up\n",
    "\n",
    "### Description\n",
    "\n",
    "The while loop is like a repeated if statement. The code is executed over and over again, as long as the condition is ``True``. Have another look at its recipe.\n",
    "\n",
    "```py\n",
    "while condition :\n",
    "    expression\n",
    "```\n",
    "\n",
    "Can you tell how many printouts the following ``while`` loop will do?\n",
    "\n",
    "```py\n",
    "x = 1\n",
    "while x < 4 :\n",
    "    print(x)\n",
    "    x = x + 1\n",
    "```"
   ]
  },
  {
   "cell_type": "markdown",
   "id": "a1eff166",
   "metadata": {},
   "source": [
    "### Answer\n",
    "\n",
    "`3`. After 3 runs, ``x`` will be equal to 4, causing ``x < 4`` to evaluate to ``False``. This means that the ``while`` loop is executed 3 times, giving three printouts."
   ]
  },
  {
   "cell_type": "markdown",
   "id": "09bda265",
   "metadata": {},
   "source": [
    "## 2.2 Basic while loop\n",
    "\n",
    "### Description\n",
    "\n",
    "Below you can find the example from the video where the ``error`` variable, initially equal to ``50.0``, is divided by 4 and printed out on every run:\n",
    "\n",
    "```py\n",
    "error = 50.0\n",
    "while error > 1 :\n",
    "    error = error / 4\n",
    "    print(error)\n",
    "```\n",
    "\n",
    "This example will come in handy, because it's time to build a ``while`` loop yourself! We're going to code a ``while`` loop that implements a very basic control system for an <a href=\"https://en.wikipedia.org/wiki/Inverted_pendulum\">inverted pendulum</a>. If there's an offset from standing perfectly straight, the ``while`` loop will incrementally fix this offset.\n",
    "\n",
    "Note that if your ``while`` loop takes too long to run, or your session is expiring, you might have created an infinite loop. In particular, remember to indent the contents of the loop using four spaces or auto-indentation, and make sure the conditions are such that the loop has a stopping point.\n",
    "\n",
    "### Instructions\n",
    "\n",
    "* Create the variable ``offset`` with an initial value of ``8``.\n",
    "* Code a ``while`` loop that keeps running as long as ``offset`` is not equal to ``0``. Inside the ``while`` loop:\n",
    "    * Print out the sentence ``\"correcting...\"``.\n",
    "    * Next, decrease the value of ``offset`` by 1. You can do this with ``offset = offset - 1``.\n",
    "    * Finally, still within your loop, print out ``offset`` so you can see how it changes."
   ]
  },
  {
   "cell_type": "code",
   "execution_count": 4,
   "id": "9c181b66",
   "metadata": {},
   "outputs": [
    {
     "name": "stdout",
     "output_type": "stream",
     "text": [
      "correcting...\n",
      "correcting...\n",
      "correcting...\n",
      "correcting...\n",
      "correcting...\n",
      "correcting...\n",
      "correcting...\n",
      "correcting...\n"
     ]
    }
   ],
   "source": [
    "# Initialize offset\n",
    "offset = 8\n",
    "\n",
    "# Code the while loop\n",
    "while offset != 0:\n",
    "    print(\"correcting...\")\n",
    "    offset -= 1"
   ]
  },
  {
   "cell_type": "markdown",
   "id": "c6238061",
   "metadata": {},
   "source": [
    "## 2.3 Add conditionals\n",
    "\n",
    "### Description\n",
    "\n",
    "The ``while`` loop that corrects the ``offset`` is a good start, but what if ``offset`` is negative? You can try to run the following code where ``offset`` is initialized to ``-6``:\n",
    "\n",
    "```py\n",
    "# Initialize offset\n",
    "offset = -6\n",
    "\n",
    "# Code the while loop\n",
    "while offset != 0 :\n",
    "    print(\"correcting...\")\n",
    "    offset = offset - 1\n",
    "    print(offset)\n",
    "```\n",
    "\n",
    "but your session will be disconnected. The ``while`` loop will never stop running, because ``offset`` will be further decreased on every run. ``offset != 0`` will never become ``False`` and the ``while`` loop continues forever.\n",
    "\n",
    "Fix things by putting an ``if-else`` statement inside the ``while`` loop.\n",
    "\n",
    "Note that if your ``while`` loop takes too long to run, or your session is expiring, you might have created an infinite loop. In particular, remember to indent the contents of the loop using four spaces or auto-indentation, and make sure the conditions are such that the loop has a stopping point.\n",
    "\n",
    "### Instructions\n",
    "\n",
    "* Initialize ``offset`` to ``-6``.\n",
    "* Inside the ``while`` loop, complete the ``if-else`` statement:\n",
    "    * If ``offset`` is greater than zero, you should decrease ``offset`` by 1.\n",
    "    * Else, you should increase ``offset`` by 1.\n",
    "\n",
    "If your code is taking too long to run (or your session is expiring), you probably made a mistake. Check your code and make sure that the statement ``offset != 0`` will eventually evaluate to ``FALSE``!"
   ]
  },
  {
   "cell_type": "code",
   "execution_count": 5,
   "id": "a85a5d8f",
   "metadata": {},
   "outputs": [
    {
     "name": "stdout",
     "output_type": "stream",
     "text": [
      "correcting...\n",
      "-5\n",
      "correcting...\n",
      "-4\n",
      "correcting...\n",
      "-3\n",
      "correcting...\n",
      "-2\n",
      "correcting...\n",
      "-1\n",
      "correcting...\n",
      "0\n"
     ]
    }
   ],
   "source": [
    "# Initialize offset\n",
    "offset = -6\n",
    "\n",
    "# Code the while loop\n",
    "while offset != 0 :\n",
    "    print(\"correcting...\")\n",
    "    if offset > 0:\n",
    "      offset -= 1\n",
    "    else : \n",
    "      offset += 1    \n",
    "    print(offset)"
   ]
  },
  {
   "cell_type": "markdown",
   "id": "e5553c2f",
   "metadata": {},
   "source": [
    "## 2.4 Loop over a list\n",
    "\n",
    "### Description\n",
    "\n",
    "Have another look at the ``for`` loop that Hugo showed in the video:\n",
    "\n",
    "```py\n",
    "fam = [1.73, 1.68, 1.71, 1.89]\n",
    "for height in fam : \n",
    "    print(height)\n",
    "```\n",
    "\n",
    "As usual, you simply have to indent the code with 4 spaces to tell Python which code should be executed in the ``for`` loop.\n",
    "\n",
    "The ``areas`` variable, containing the area of different rooms in your house, is already defined.\n",
    "\n",
    "### Instructions\n",
    "\n",
    "* Write a ``for`` loop that iterates over all elements of the ``areas`` list and prints out every element separately."
   ]
  },
  {
   "cell_type": "code",
   "execution_count": 6,
   "id": "cb5e4220",
   "metadata": {},
   "outputs": [
    {
     "name": "stdout",
     "output_type": "stream",
     "text": [
      "11.25\n",
      "18.0\n",
      "20.0\n",
      "10.75\n",
      "9.5\n"
     ]
    }
   ],
   "source": [
    "# areas list\n",
    "areas = [11.25, 18.0, 20.0, 10.75, 9.50]\n",
    "\n",
    "# Code the for loop\n",
    "for area in areas:\n",
    "    print(area)"
   ]
  },
  {
   "cell_type": "markdown",
   "id": "77e121e4",
   "metadata": {},
   "source": [
    "## 2.5 Indexes and values (1)\n",
    "\n",
    "### Description\n",
    "\n",
    "Using a ``for`` loop to iterate over a list only gives you access to every list element in each run, one after the other. If you also want to access the index information, so where the list element you're iterating over is located, you can use ``enumerate()``.\n",
    "\n",
    "As an example, have a look at how the ``for`` loop from the video was converted:\n",
    "\n",
    "```py\n",
    "fam = [1.73, 1.68, 1.71, 1.89]\n",
    "for index, height in enumerate(fam) :\n",
    "    print(\"person \" + str(index) + \": \" + str(height))\n",
    "```\n",
    "\n",
    "### Instructions\n",
    "\n",
    "* Adapt the ``for`` loop in the sample code to use ``enumerate()`` and use two iterator variables.\n",
    "* Update the ``print()`` statement so that on each run, a line of the form ``\"room x: y\"`` should be printed, where x is the index of the list element and y is the actual list element, i.e. the area. Make sure to print out this exact string, with the correct spacing."
   ]
  },
  {
   "cell_type": "code",
   "execution_count": 7,
   "id": "c072b500",
   "metadata": {},
   "outputs": [
    {
     "name": "stdout",
     "output_type": "stream",
     "text": [
      "room 0: 11.25\n",
      "room 1: 18.0\n",
      "room 2: 20.0\n",
      "room 3: 10.75\n",
      "room 4: 9.5\n"
     ]
    }
   ],
   "source": [
    "# areas list\n",
    "areas = [11.25, 18.0, 20.0, 10.75, 9.50]\n",
    "\n",
    "# Change for loop to use enumerate() and update print()\n",
    "for index, area in enumerate(areas):\n",
    "    print(f\"room {index}: {area}\")"
   ]
  },
  {
   "cell_type": "markdown",
   "id": "7a388e03",
   "metadata": {},
   "source": [
    "## 2.6 Indexes and values (2)\n",
    "\n",
    "### Description\n",
    "\n",
    "For non-programmer folks, ``room 0: 11.25`` is strange. Wouldn't it be better if the count started at 1?\n",
    "\n",
    "### Instructions\n",
    "\n",
    "* Adapt the ``print()`` function in the ``for`` loop so that the first printout becomes ``\"room 1: 11.25\"``, the second one ``\"room 2: 18.0\"`` and so on."
   ]
  },
  {
   "cell_type": "code",
   "execution_count": 8,
   "id": "b397ca41",
   "metadata": {},
   "outputs": [
    {
     "name": "stdout",
     "output_type": "stream",
     "text": [
      "room 1: 11.25\n",
      "room 2: 18.0\n",
      "room 3: 20.0\n",
      "room 4: 10.75\n",
      "room 5: 9.5\n"
     ]
    }
   ],
   "source": [
    "# areas list\n",
    "areas = [11.25, 18.0, 20.0, 10.75, 9.50]\n",
    "\n",
    "# Code the for loop\n",
    "for index, area in enumerate(areas) :\n",
    "    print(\"room \" + str(index+1) + \": \" + str(area))"
   ]
  },
  {
   "cell_type": "markdown",
   "id": "dd17ddcd",
   "metadata": {},
   "source": [
    "## 2.7 Loop over list of lists\n",
    "\n",
    "### Description\n",
    "\n",
    "Remember the ``house`` variable from the Intro to Python course? Have a look at its definition in the script. It's basically a list of lists, where each sublist contains the name and area of a room in your house.\n",
    "\n",
    "It's up to you to build a ``for`` loop from scratch this time!\n",
    "\n",
    "### Instructions\n",
    "\n",
    "* Write a ``for`` loop that goes through each sublist of ``house`` and prints out ``the x is y sqm``, where x is the name of the room and y is the area of the room."
   ]
  },
  {
   "cell_type": "code",
   "execution_count": 9,
   "id": "2338b4e8",
   "metadata": {},
   "outputs": [
    {
     "name": "stdout",
     "output_type": "stream",
     "text": [
      "the hallway is 11.25 sqm\n",
      "the kitchen is 18.0 sqm\n",
      "the living room is 20.0 sqm\n",
      "the bedroom is 10.75 sqm\n",
      "the bathroom is 9.5 sqm\n"
     ]
    }
   ],
   "source": [
    "# house list of lists\n",
    "house = [[\"hallway\", 11.25], \n",
    "         [\"kitchen\", 18.0], \n",
    "         [\"living room\", 20.0], \n",
    "         [\"bedroom\", 10.75], \n",
    "         [\"bathroom\", 9.50]]\n",
    "         \n",
    "# Build a for loop from scratch\n",
    "for i in house:\n",
    "    print(f\"the {i[0]} is {i[1]} sqm\")"
   ]
  },
  {
   "cell_type": "markdown",
   "id": "4cf82f66",
   "metadata": {},
   "source": [
    "## 2.8 Loop over dictionary\n",
    "\n",
    "### Description\n",
    "\n",
    "In Python 3, you need the items() method to loop over a dictionary:\n",
    "\n",
    "```py\n",
    "world = { \"afghanistan\":30.55, \n",
    "          \"albania\":2.77,\n",
    "          \"algeria\":39.21 }\n",
    "\n",
    "for key, value in world.items() :\n",
    "    print(key + \" -- \" + str(value))\n",
    "```\n",
    "\n",
    "Remember the ``europe`` dictionary that contained the names of some European countries as key and their capitals as corresponding value? Go ahead and write a loop to iterate over it!\n",
    "\n",
    "### Instructions\n",
    "\n",
    "* Write a ``for`` loop that goes through each key:value pair of ``europe``. On each iteration, ``\"the capital of x is y\"`` should be printed out, where x is the key and y is the value of the pair."
   ]
  },
  {
   "cell_type": "code",
   "execution_count": 10,
   "id": "f6ca3d81",
   "metadata": {},
   "outputs": [
    {
     "name": "stdout",
     "output_type": "stream",
     "text": [
      "the capital of spain is madrid\n",
      "the capital of france is paris\n",
      "the capital of germany is berlin\n",
      "the capital of norway is oslo\n",
      "the capital of italy is rome\n",
      "the capital of poland is warsaw\n",
      "the capital of austria is vienna\n"
     ]
    }
   ],
   "source": [
    "# Definition of dictionary\n",
    "europe = {'spain':'madrid', 'france':'paris', 'germany':'berlin',\n",
    "          'norway':'oslo', 'italy':'rome', 'poland':'warsaw', 'austria':'vienna' }\n",
    "          \n",
    "# Iterate over europe\n",
    "for (x,y) in europe.items():\n",
    "    print(f\"the capital of {x} is {y}\")"
   ]
  },
  {
   "cell_type": "markdown",
   "id": "a26aef5f",
   "metadata": {},
   "source": [
    "## 2.9 Loop over NumPy array\n",
    "\n",
    "### Description\n",
    "\n",
    "If you're dealing with a 1D NumPy array, looping over all elements can be as simple as:\n",
    "\n",
    "```py\n",
    "for x in my_array :\n",
    "    ...\n",
    "```\n",
    "\n",
    "If you're dealing with a 2D NumPy array, it's more complicated. A 2D array is built up of multiple 1D arrays. To explicitly iterate over all separate elements of a multi-dimensional array, you'll need this syntax:\n",
    "\n",
    "```py\n",
    "for x in np.nditer(my_array) :\n",
    "    ...\n",
    "```\n",
    "\n",
    "Two NumPy arrays that you might recognize from the intro course are available in your Python session: ``np_height``, a NumPy array containing the heights of Major League Baseball players, and ``np_baseball``, a 2D NumPy array that contains both the heights (first column) and weights (second column) of those players.\n",
    "\n",
    "### Instructions\n",
    "\n",
    "* Import the ``numpy`` package under the local alias ``np``.\n",
    "* Write a ``for`` loop that iterates over all elements in ``np_height`` and prints out ``\"x inches\"`` for each element, where x is the value in the array.\n",
    "* Write a ``for`` loop that visits every element of the ``np_baseball`` array and prints it out."
   ]
  },
  {
   "cell_type": "code",
   "execution_count": 16,
   "id": "5bf0b1d6",
   "metadata": {},
   "outputs": [],
   "source": [
    "np_height = np.array(df_baseball[\"Height\"])\n",
    "np_baseball = np.array(df_baseball[\"Age\"])"
   ]
  },
  {
   "cell_type": "code",
   "execution_count": 22,
   "id": "221a6d33",
   "metadata": {},
   "outputs": [
    {
     "name": "stdout",
     "output_type": "stream",
     "text": [
      "74 inches, 74 inches, 72 inches, 72 inches, 73 inches, 69 inches, 69 inches, 71 inches, 76 inches, 71 inches, 73 inches, 73 inches, 74 inches, 74 inches, 69 inches, 70 inches, 73 inches, 75 inches, 78 inches, 79 inches, 76 inches, 74 inches, 76 inches, 72 inches, 71 inches, 75 inches, 77 inches, 74 inches, 73 inches, 74 inches, 78 inches, 73 inches, 75 inches, 73 inches, 75 inches, 75 inches, 74 inches, 69 inches, 71 inches, 74 inches, 73 inches, 73 inches, 76 inches, 74 inches, 74 inches, 70 inches, 72 inches, 77 inches, 74 inches, 70 inches, 73 inches, 75 inches, 76 inches, 76 inches, 78 inches, 74 inches, 74 inches, 76 inches, 77 inches, 81 inches, 78 inches, 75 inches, 77 inches, 75 inches, 76 inches, 74 inches, 72 inches, 72 inches, 75 inches, 73 inches, 73 inches, 73 inches, 70 inches, 70 inches, 70 inches, 76 inches, 68 inches, 71 inches, 72 inches, 75 inches, 75 inches, 75 inches, 75 inches, 68 inches, 74 inches, 78 inches, 71 inches, 73 inches, 76 inches, 74 inches, 74 inches, 79 inches, 75 inches, 73 inches, 76 inches, 74 inches, 74 inches, 73 inches, 72 inches, 74 inches, 73 inches, 74 inches, 72 inches, 73 inches, 69 inches, 72 inches, 73 inches, 75 inches, 75 inches, 73 inches, 72 inches, 72 inches, 76 inches, 74 inches, 72 inches, 77 inches, 74 inches, 77 inches, 75 inches, 76 inches, 80 inches, 74 inches, 74 inches, 75 inches, 78 inches, 73 inches, 73 inches, 74 inches, 75 inches, 76 inches, 71 inches, 73 inches, 74 inches, 76 inches, 76 inches, 74 inches, 73 inches, 74 inches, 70 inches, 72 inches, 73 inches, 73 inches, 73 inches, 73 inches, 71 inches, 74 inches, 74 inches, 72 inches, 74 inches, 71 inches, 74 inches, 73 inches, 75 inches, 75 inches, 79 inches, 73 inches, 75 inches, 76 inches, 74 inches, 76 inches, 78 inches, 74 inches, 76 inches, 72 inches, 74 inches, 76 inches, 74 inches, 75 inches, 78 inches, 75 inches, 72 inches, 74 inches, 72 inches, 74 inches, 70 inches, 71 inches, 70 inches, 75 inches, 71 inches, 71 inches, 73 inches, 72 inches, 71 inches, 73 inches, 72 inches, 75 inches, 74 inches, 74 inches, 75 inches, 73 inches, 77 inches, 73 inches, 76 inches, 75 inches, 74 inches, 76 inches, 75 inches, 73 inches, 71 inches, 76 inches, 75 inches, 72 inches, 71 inches, 77 inches, 73 inches, 74 inches, 71 inches, 72 inches, 74 inches, 75 inches, 73 inches, 72 inches, 75 inches, 75 inches, 74 inches, 72 inches, 74 inches, 71 inches, 70 inches, 74 inches, 77 inches, 77 inches, 75 inches, 75 inches, 78 inches, 75 inches, 76 inches, 73 inches, 75 inches, 75 inches, 79 inches, 77 inches, 76 inches, 71 inches, 75 inches, 74 inches, 69 inches, 71 inches, 76 inches, 72 inches, 72 inches, 70 inches, 72 inches, 73 inches, 71 inches, 72 inches, 71 inches, 73 inches, 72 inches, 73 inches, 74 inches, 74 inches, 72 inches, 75 inches, 74 inches, 74 inches, 77 inches, 75 inches, 73 inches, 72 inches, 71 inches, 74 inches, 77 inches, 75 inches, 75 inches, 75 inches, 78 inches, 78 inches, 74 inches, 76 inches, 78 inches, 76 inches, 70 inches, 72 inches, 80 inches, 74 inches, 74 inches, 71 inches, 70 inches, 72 inches, 71 inches, 74 inches, 71 inches, 72 inches, 71 inches, 74 inches, 69 inches, 76 inches, 75 inches, 75 inches, 76 inches, 73 inches, 76 inches, 73 inches, 77 inches, 73 inches, 72 inches, 72 inches, 77 inches, 77 inches, 71 inches, 74 inches, 74 inches, 73 inches, 78 inches, 75 inches, 73 inches, 70 inches, 74 inches, 72 inches, 73 inches, 73 inches, 75 inches, 75 inches, 74 inches, 76 inches, 73 inches, 74 inches, 75 inches, 75 inches, 72 inches, 73 inches, 73 inches, 72 inches, 74 inches, 78 inches, 76 inches, 73 inches, 74 inches, 75 inches, 70 inches, 75 inches, 71 inches, 72 inches, 78 inches, 75 inches, 73 inches, 73 inches, 71 inches, 75 inches, 77 inches, 72 inches, 69 inches, 73 inches, 74 inches, 72 inches, 70 inches, 75 inches, 70 inches, 72 inches, 72 inches, 74 inches, 73 inches, 74 inches, 76 inches, 75 inches, 80 inches, 72 inches, 75 inches, 73 inches, 74 inches, 74 inches, 73 inches, 75 inches, 75 inches, 71 inches, 73 inches, 75 inches, 74 inches, 74 inches, 72 inches, 74 inches, 74 inches, 74 inches, 73 inches, 76 inches, 75 inches, 72 inches, 73 inches, 73 inches, 73 inches, 72 inches, 72 inches, 72 inches, 72 inches, 71 inches, 75 inches, 75 inches, 74 inches, 73 inches, 75 inches, 79 inches, 74 inches, 76 inches, 73 inches, 74 inches, 74 inches, 72 inches, 74 inches, 74 inches, 75 inches, 78 inches, 74 inches, 74 inches, 74 inches, 77 inches, 70 inches, 73 inches, 74 inches, 73 inches, 71 inches, 75 inches, 71 inches, 72 inches, 77 inches, 74 inches, 70 inches, 77 inches, 73 inches, 72 inches, 76 inches, 71 inches, 76 inches, 78 inches, 75 inches, 73 inches, 78 inches, 74 inches, 79 inches, 75 inches, 76 inches, 72 inches, 75 inches, 75 inches, 70 inches, 72 inches, 70 inches, 74 inches, 71 inches, 76 inches, 73 inches, 76 inches, 71 inches, 69 inches, 72 inches, 72 inches, 69 inches, 73 inches, 69 inches, 73 inches, 74 inches, 74 inches, 72 inches, 71 inches, 72 inches, 72 inches, 76 inches, 76 inches, 76 inches, 74 inches, 76 inches, 75 inches, 71 inches, 72 inches, 71 inches, 73 inches, 75 inches, 76 inches, 75 inches, 71 inches, 75 inches, 74 inches, 72 inches, 73 inches, 73 inches, 73 inches, 73 inches, 76 inches, 72 inches, 76 inches, 73 inches, 73 inches, 73 inches, 75 inches, 75 inches, 77 inches, 73 inches, 72 inches, 75 inches, 70 inches, 74 inches, 72 inches, 80 inches, 71 inches, 71 inches, 74 inches, 74 inches, 73 inches, 75 inches, 76 inches, 73 inches, 77 inches, 72 inches, 73 inches, 77 inches, 76 inches, 71 inches, 75 inches, 73 inches, 74 inches, 77 inches, 71 inches, 72 inches, 73 inches, 69 inches, 73 inches, 70 inches, 74 inches, 76 inches, 73 inches, 73 inches, 75 inches, 73 inches, 79 inches, 74 inches, 73 inches, 74 inches, 77 inches, 75 inches, 74 inches, 73 inches, 77 inches, 73 inches, 77 inches, 74 inches, 74 inches, 73 inches, 77 inches, 74 inches, 77 inches, 75 inches, 77 inches, 75 inches, 71 inches, 74 inches, 70 inches, 79 inches, 72 inches, 72 inches, 70 inches, 74 inches, 74 inches, 72 inches, 73 inches, 72 inches, 74 inches, 74 inches, 76 inches, 82 inches, 74 inches, 74 inches, 70 inches, 73 inches, 73 inches, 74 inches, 77 inches, 72 inches, 76 inches, 73 inches, 73 inches, 72 inches, 74 inches, 74 inches, 71 inches, 72 inches, 75 inches, 74 inches, 74 inches, 77 inches, 70 inches, 71 inches, 73 inches, 76 inches, 71 inches, 75 inches, 74 inches, 72 inches, 76 inches, 79 inches, 76 inches, 73 inches, 76 inches, 78 inches, 75 inches, 76 inches, 72 inches, 72 inches, 73 inches, 73 inches, 75 inches, 71 inches, 76 inches, 70 inches, 75 inches, 74 inches, 75 inches, 73 inches, 71 inches, 71 inches, 72 inches, 73 inches, 73 inches, 72 inches, 69 inches, 73 inches, 78 inches, 71 inches, 73 inches, 75 inches, 76 inches, 70 inches, 74 inches, 77 inches, 75 inches, 79 inches, 72 inches, 77 inches, 73 inches, 75 inches, 75 inches, 75 inches, 73 inches, 73 inches, 76 inches, 77 inches, 75 inches, 70 inches, 71 inches, 71 inches, 75 inches, 74 inches, 69 inches, 70 inches, 75 inches, 72 inches, 75 inches, 73 inches, 72 inches, 72 inches, 72 inches, 76 inches, 75 inches, 74 inches, 69 inches, 73 inches, 72 inches, 72 inches, 75 inches, 77 inches, 76 inches, 80 inches, 77 inches, 76 inches, 79 inches, 71 inches, 75 inches, 73 inches, 76 inches, 77 inches, 73 inches, 76 inches, 70 inches, 75 inches, 73 inches, 75 inches, 70 inches, 69 inches, 71 inches, 72 inches, 72 inches, 73 inches, 70 inches, 70 inches, 73 inches, 76 inches, 75 inches, 72 inches, 73 inches, 79 inches, 71 inches, 72 inches, 74 inches, 74 inches, 74 inches, 72 inches, 76 inches, 76 inches, 72 inches, 72 inches, 71 inches, 72 inches, 72 inches, 70 inches, 77 inches, 74 inches, 72 inches, 76 inches, 71 inches, 76 inches, 71 inches, 73 inches, 70 inches, 73 inches, 73 inches, 72 inches, 71 inches, 71 inches, 71 inches, 72 inches, 72 inches, 74 inches, 74 inches, 74 inches, 71 inches, 72 inches, 75 inches, 72 inches, 71 inches, 72 inches, 72 inches, 72 inches, 72 inches, 74 inches, 74 inches, 77 inches, 75 inches, 73 inches, 75 inches, 73 inches, 76 inches, 72 inches, 77 inches, 75 inches, 72 inches, 71 inches, 71 inches, 75 inches, 72 inches, 73 inches, 73 inches, 71 inches, 70 inches, 75 inches, 71 inches, 76 inches, 73 inches, 68 inches, 71 inches, 72 inches, 74 inches, 77 inches, 72 inches, 76 inches, 78 inches, 81 inches, 72 inches, 73 inches, 76 inches, 72 inches, 72 inches, 74 inches, 76 inches, 73 inches, 76 inches, 75 inches, 70 inches, 71 inches, 74 inches, 72 inches, 73 inches, 76 inches, 76 inches, 73 inches, 71 inches, 68 inches, 71 inches, 71 inches, 74 inches, 77 inches, 69 inches, 72 inches, 76 inches, 75 inches, 76 inches, 75 inches, 76 inches, 72 inches, 74 inches, 76 inches, 74 inches, 72 inches, 75 inches, 78 inches, 77 inches, 70 inches, 72 inches, 79 inches, 74 inches, 71 inches, 68 inches, 77 inches, 75 inches, 71 inches, 72 inches, 70 inches, 72 inches, 72 inches, 73 inches, 72 inches, 74 inches, 72 inches, 72 inches, 75 inches, 72 inches, 73 inches, 74 inches, 72 inches, 78 inches, 75 inches, 72 inches, 74 inches, 75 inches, 75 inches, 76 inches, 74 inches, 74 inches, 73 inches, 74 inches, 71 inches, 74 inches, 75 inches, 76 inches, 74 inches, 76 inches, 76 inches, 73 inches, 75 inches, 75 inches, 74 inches, 68 inches, 72 inches, 75 inches, 71 inches, 70 inches, 72 inches, 73 inches, 72 inches, 75 inches, 74 inches, 70 inches, 76 inches, 71 inches, 82 inches, 72 inches, 73 inches, 74 inches, 71 inches, 75 inches, 77 inches, 72 inches, 74 inches, 72 inches, 73 inches, 78 inches, 77 inches, 73 inches, 73 inches, 73 inches, 73 inches, 73 inches, 76 inches, 75 inches, 70 inches, 73 inches, 72 inches, 73 inches, 75 inches, 74 inches, 73 inches, 73 inches, 76 inches, 73 inches, 75 inches, 70 inches, 77 inches, 72 inches, 77 inches, 74 inches, 75 inches, 75 inches, 75 inches, 75 inches, 72 inches, 74 inches, 71 inches, 76 inches, 71 inches, 75 inches, 76 inches, 83 inches, 75 inches, 74 inches, 76 inches, 72 inches, 72 inches, 75 inches, 75 inches, 72 inches, 77 inches, 73 inches, 72 inches, 70 inches, 74 inches, 72 inches, 74 inches, 72 inches, 71 inches, 70 inches, 71 inches, 76 inches, 74 inches, 76 inches, 74 inches, 74 inches, 74 inches, 75 inches, 75 inches, 71 inches, 71 inches, 74 inches, 77 inches, 71 inches, 74 inches, 75 inches, 77 inches, 76 inches, 74 inches, 76 inches, 72 inches, 71 inches, 72 inches, 75 inches, 73 inches, 68 inches, 72 inches, 69 inches, 73 inches, 73 inches, 75 inches, 70 inches, 70 inches, 74 inches, 75 inches, 74 inches, 74 inches, 73 inches, 74 inches, 75 inches, 77 inches, 73 inches, 74 inches, 76 inches, 74 inches, 75 inches, 73 inches, 76 inches, 78 inches, 75 inches, 73 inches, 77 inches, 74 inches, 72 inches, 74 inches, 72 inches, 71 inches, 73 inches, 75 inches, 73 inches, 67 inches, 67 inches, 76 inches, 74 inches, 73 inches, 70 inches, 75 inches, 70 inches, 72 inches, 77 inches, 79 inches, 78 inches, 74 inches, 75 inches, 75 inches, 78 inches, 76 inches, 75 inches, 69 inches, 75 inches, 72 inches, 75 inches, 73 inches, 74 inches, 75 inches, 75 inches, 73 inches, \n",
      "22.99, 34.69, 30.78, 35.43, 35.71, 29.39, 30.77, 35.07, 30.19, 27.05, 23.88, 26.96, 23.29, 26.11, 27.55, 34.27, 27.99, 22.38, 22.89, 25.76, 36.33, 31.17, 32.31, 31.03, 29.26, 29.47, 32.46, 35.67, 25.89, 26.55, 24.17, 26.69, 25.13, 27.9, 30.17, 31.36, 30.99, 32.24, 27.61, 28.2, 28.85, 24.21, 22.02, 24.97, 26.78, 32.51, 30.95, 33.09, 32.74, 30.69, 23.45, 24.94, 24.09, 35.23, 27.43, 30.6, 27.94, 29.99, 25.17, 24.13, 30.46, 25.96, 22.55, 26.29, 24.79, 31.74, 23.92, 25.33, 24.02, 23.7, 31.59, 29.95, 23.64, 32.33, 23.13, 26.6, 26.46, 25.75, 27.51, 25.11, 32.51, 34.67, 31.06, 29.1, 28.66, 28.35, 33.77, 30.89, 37.74, 24.14, 25.71, 24.41, 24.32, 28.09, 33.31, 36.4, 37.36, 31.61, 25.14, 30.29, 36.37, 34.89, 23.79, 27.96, 23.54, 31.37, 31.29, 33.01, 25.1, 31.28, 34.75, 23.46, 25.37, 29.57, 27.33, 40.29, 40.58, 26.79, 32.55, 26.27, 29.47, 29.07, 23.15, 24.9, 23.29, 31.18, 26.56, 25.03, 35.66, 29.64, 30.74, 28.43, 33.77, 40.97, 23.52, 28.19, 26.84, 26.16, 28.67, 24.2, 27.08, 24.76, 23.36, 25.35, 24.63, 24.02, 24.58, 30.82, 32.89, 33.33, 33.52, 36.24, 28.5, 29.42, 26.61, 23.79, 24.96, 25.93, 22.81, 25.29, 26.07, 26.09, 23.23, 33.49, 31.84, 42.3, 35.82, 35.27, 26.81, 38.49, 32.68, 34.93, 26.26, 27.56, 23.98, 29.73, 31.33, 27.13, 26.75, 27.09, 29.23, 28.88, 33.01, 30.57, 31.24, 24.95, 24.62, 24.98, 26.22, 26.04, 26.45, 25.25, 27.77, 35.16, 37.1, 34.51, 29.28, 32.14, 23.94, 27.45, 28.77, 23.58, 27.56, 24.01, 26.52, 35.54, 29.43, 29.9, 32.7, 28.8, 32.82, 24.36, 32.68, 31.59, 33.32, 32.97, 32.72, 22.55, 27.45, 38.23, 31.14, 34.71, 26.13, 24.43, 23.76, 26.92, 25.85, 30.16, 25.03, 24.21, 26.51, 26.36, 30.88, 32.57, 37.68, 37.25, 35.25, 33.95, 32.66, 26.68, 25.18, 31.39, 33.74, 31.42, 27.5, 24.25, 29.78, 30.0, 33.09, 25.96, 23.34, 29.98, 38.28, 24.97, 24.34, 29.49, 24.02, 24.73, 42.3, 29.54, 29.95, 29.24, 30.3, 40.77, 38.85, 22.31, 25.44, 21.78, 22.64, 26.11, 27.55, 24.63, 23.58, 30.73, 32.17, 30.43, 23.27, 32.51, 25.08, 22.41, 27.9, 34.74, 30.79, 25.71, 29.26, 21.58, 33.36, 24.94, 20.9, 21.52, 25.85, 27.27, 26.75, 36.03, 30.52, 32.55, 29.86, 29.58, 30.02, 29.16, 22.3, 22.06, 25.65, 25.49, 27.86, 23.73, 31.78, 23.06, 26.6, 29.39, 26.51, 25.08, 25.76, 22.52, 25.57, 25.43, 34.65, 22.68, 21.46, 23.47, 23.1, 29.14, 29.77, 23.85, 28.88, 24.49, 25.19, 27.48, 28.31, 26.54, 26.77, 23.75, 26.41, 36.47, 26.06, 27.55, 31.28, 29.04, 32.95, 26.65, 27.5, 30.9, 29.09, 36.67, 23.44, 29.09, 22.89, 25.48, 25.84, 27.2, 25.22, 24.67, 39.25, 32.17, 32.77, 29.83, 31.02, 29.73, 28.48, 26.51, 26.0, 23.36, 25.9, 28.5, 25.62, 30.94, 26.59, 22.78, 32.26, 30.35, 33.26, 32.35, 27.3, 32.08, 25.25, 25.03, 26.89, 24.69, 22.44, 30.36, 26.27, 29.5, 29.75, 38.3, 39.75, 32.84, 26.66, 24.94, 27.76, 23.66, 24.96, 23.65, 29.42, 32.18, 26.66, 27.47, 25.66, 35.13, 31.15, 35.67, 29.6, 30.14, 24.53, 24.49, 26.28, 24.06, 35.88, 30.42, 30.09, 26.5, 24.94, 29.6, 32.43, 37.16, 30.57, 27.01, 30.23, 26.03, 28.23, 25.21, 25.45, 26.24, 30.15, 29.8, 33.41, 30.95, 31.17, 30.95, 29.44, 27.14, 26.21, 24.08, 23.96, 24.94, 29.56, 26.42, 23.92, 25.23, 35.82, 23.87, 32.57, 25.79, 31.47, 22.61, 24.85, 27.33, 26.67, 37.43, 29.31, 29.85, 27.93, 31.62, 30.55, 24.77, 33.77, 27.97, 27.85, 23.26, 25.38, 23.35, 25.45, 26.49, 24.0, 24.16, 28.1, 25.65, 28.58, 32.27, 29.86, 25.14, 23.03, 30.25, 30.67, 27.73, 23.34, 25.94, 31.56, 34.85, 23.98, 23.14, 28.99, 25.02, 29.85, 27.03, 25.15, 27.12, 31.63, 32.62, 39.79, 34.47, 23.47, 25.31, 27.1, 24.35, 23.45, 28.24, 28.77, 26.53, 25.64, 25.83, 38.06, 36.38, 25.27, 27.2, 31.59, 29.56, 35.5, 30.35, 24.11, 23.29, 31.48, 27.23, 24.07, 28.68, 27.05, 31.15, 31.85, 31.68, 34.23, 32.01, 25.41, 24.73, 25.66, 24.5, 24.38, 26.89, 24.2, 26.97, 25.21, 30.46, 28.53, 25.75, 31.15, 26.48, 26.93, 29.55, 34.75, 29.71, 29.83, 33.57, 28.21, 27.54, 26.05, 23.64, 24.82, 29.8, 34.71, 29.22, 23.96, 23.87, 26.77, 23.49, 26.77, 24.51, 33.23, 31.04, 32.02, 31.44, 43.47, 28.38, 27.81, 24.57, 23.34, 27.09, 25.14, 27.07, 24.02, 27.6, 27.99, 27.56, 28.63, 30.99, 26.33, 26.97, 22.85, 23.19, 23.87, 33.98, 28.26, 29.12, 26.18, 28.03, 23.08, 26.24, 26.63, 24.21, 23.01, 23.13, 23.08, 25.13, 24.66, 26.03, 28.7, 25.57, 24.65, 25.55, 22.27, 24.76, 23.98, 27.85, 22.14, 27.05, 31.45, 32.03, 29.95, 23.47, 37.21, 25.67, 34.69, 30.04, 32.52, 24.15, 26.86, 27.94, 26.63, 27.31, 30.55, 40.68, 37.27, 25.78, 30.98, 28.41, 30.01, 31.57, 28.81, 24.09, 26.47, 30.5, 23.74, 24.49, 26.73, 27.01, 39.75, 27.16, 25.74, 37.43, 39.85, 28.62, 23.9, 25.18, 33.53, 33.03, 31.35, 22.39, 27.99, 27.22, 27.49, 27.53, 26.26, 25.18, 27.12, 27.69, 25.69, 28.11, 31.21, 30.8, 30.21, 28.06, 26.52, 23.1, 25.02, 26.14, 25.38, 27.6, 25.5, 24.24, 23.32, 31.56, 34.19, 36.78, 27.73, 34.88, 31.0, 48.52, 34.68, 37.38, 24.33, 37.3, 23.72, 24.19, 25.7, 29.06, 33.48, 29.85, 34.3, 40.66, 21.9, 27.39, 23.13, 35.35, 40.93, 33.67, 37.39, 27.97, 25.54, 25.81, 22.53, 22.86, 24.07, 29.5, 30.03, 27.38, 30.51, 28.3, 29.84, 33.41, 33.6, 35.6, 24.19, 37.88, 27.56, 24.42, 31.05, 31.56, 35.55, 41.21, 27.12, 26.97, 28.92, 30.06, 31.51, 30.69, 30.19, 38.11, 28.68, 27.44, 24.63, 28.11, 28.9, 24.11, 40.53, 29.5, 28.62, 26.42, 30.18, 33.75, 30.06, 29.22, 24.47, 24.94, 28.77, 28.54, 27.32, 35.12, 24.04, 36.39, 22.81, 33.6, 38.98, 34.39, 33.15, 29.35, 26.59, 23.46, 22.43, 24.89, 24.67, 26.17, 29.54, 39.49, 34.08, 30.52, 28.77, 33.75, 32.69, 22.59, 37.04, 22.7, 25.6, 27.23, 25.74, 30.29, 26.72, 33.9, 29.86, 36.13, 27.54, 31.49, 28.1, 34.07, 27.28, 30.8, 28.2, 27.9, 28.26, 30.96, 24.18, 27.52, 27.78, 26.25, 29.5, 30.39, 23.18, 25.81, 23.01, 31.72, 44.28, 36.91, 26.54, 29.27, 30.51, 31.28, 26.51, 34.87, 39.28, 28.56, 27.82, 25.94, 28.53, 22.11, 27.71, 37.38, 30.67, 30.48, 27.12, 22.81, 24.46, 34.73, 36.53, 24.53, 27.17, 26.9, 33.67, 29.14, 32.61, 33.87, 24.41, 24.94, 27.36, 26.33, 25.72, 28.7, 28.53, 26.07, 27.31, 23.26, 28.62, 32.16, 38.43, 31.81, 29.1, 31.28, 29.17, 25.89, 26.13, 29.13, 28.92, 26.01, 24.81, 28.79, 33.77, 33.85, 27.36, 26.01, 29.95, 28.12, 32.87, 31.2, 34.14, 36.11, 26.31, 27.5, 27.77, 40.88, 25.75, 31.41, 30.84, 30.57, 39.79, 39.38, 29.42, 26.19, 23.74, 26.03, 28.59, 26.77, 27.21, 24.87, 30.26, 22.34, 26.2, 28.45, 27.63, 25.93, 28.94, 26.8, 22.42, 27.26, 28.38, 25.23, 28.16, 28.48, 26.78, 25.24, 27.45, 29.05, 29.08, 25.84, 25.4, 26.54, 22.73, 28.53, 25.37, 25.35, 26.43, 25.43, 29.23, 30.22, 32.3, 28.42, 25.24, 29.13, 24.63, 24.95, 28.06, 25.86, 27.32, 25.91, 26.63, 25.95, 29.17, 29.19, 28.44, 26.36, 28.29, 29.45, 25.34, 26.86, 26.36, 27.39, 25.84, 25.08, 23.87, 24.68, 24.64, 29.19, 28.84, 25.33, 24.45, 28.32, 32.34, 34.97, 32.04, 23.49, 26.09, 26.41, 26.55, 24.62, 28.49, 32.61, 28.06, 28.08, 37.34, 35.25, 24.77, 39.85, 35.49, 31.84, 26.67, 34.75, 28.91, 32.73, 35.72, 42.6, 26.22, 21.85, 24.28, 22.41, 32.56, 32.74, 26.39, 28.8, 28.2, 26.52, 34.52, 34.32, 26.98, 28.86, 24.96, 25.3, 27.06, 25.44, 25.53, 34.87, 24.63, 27.99, 27.12, 31.14, 30.21, 32.11, 31.91, 34.44, 36.68, 37.66, 30.98, 27.07, 29.11, 25.82, 25.5, 29.57, 25.37, 33.99, 29.86, 31.84, 38.31, 34.48, 36.88, 32.34, 31.58, 28.89, 25.08, 25.73, 25.19, 31.01, 27.92, "
     ]
    }
   ],
   "source": [
    "# Import numpy as np\n",
    "import numpy as np\n",
    "\n",
    "# For loop over np_height\n",
    "for height in np_height:\n",
    "    print(f\"{height} inches\", end=\", \")\n",
    "\n",
    "print()\n",
    "\n",
    "# For loop over np_baseball\n",
    "for baseball in np.nditer(np_baseball):\n",
    "    print(baseball, end=\", \")"
   ]
  },
  {
   "cell_type": "markdown",
   "id": "47f8fa90",
   "metadata": {},
   "source": [
    "Wow, that's a lot of output! Try to add an additional argument ``end =`` to the ``print()`` call - the output will be mesmerizing!"
   ]
  },
  {
   "cell_type": "markdown",
   "id": "08663076",
   "metadata": {},
   "source": [
    "## 2.10 Loop over DataFrame (1)\n",
    "\n",
    "### Description\n",
    "\n",
    "Iterating over a Pandas DataFrame is typically done with the ``iterrows()`` method. Used in a ``for`` loop, every observation is iterated over and on every iteration the row label and actual row contents are available:\n",
    "\n",
    "```\n",
    "for lab, row in brics.iterrows() :\n",
    "    ...\n",
    "```\n",
    "\n",
    "In this and the following exercises you will be working on the ``cars`` DataFrame. It contains information on the cars per capita and whether people drive right or left for seven countries in the world.\n",
    "\n",
    "### Instructions\n",
    "\n",
    "* Write a ``for`` loop that iterates over the rows of ``cars`` and on each iteration perform two ``print()`` calls: one to print out the row label and one to print out all of the rows contents."
   ]
  },
  {
   "cell_type": "code",
   "execution_count": 24,
   "id": "24d38631",
   "metadata": {},
   "outputs": [
    {
     "name": "stdout",
     "output_type": "stream",
     "text": [
      "US\n",
      "cars_per_cap              809\n",
      "country         United States\n",
      "drives_right             True\n",
      "Name: US, dtype: object\n",
      "AUS\n",
      "cars_per_cap          731\n",
      "country         Australia\n",
      "drives_right        False\n",
      "Name: AUS, dtype: object\n",
      "JAP\n",
      "cars_per_cap      588\n",
      "country         Japan\n",
      "drives_right    False\n",
      "Name: JAP, dtype: object\n",
      "IN\n",
      "cars_per_cap       18\n",
      "country         India\n",
      "drives_right    False\n",
      "Name: IN, dtype: object\n",
      "RU\n",
      "cars_per_cap       200\n",
      "country         Russia\n",
      "drives_right      True\n",
      "Name: RU, dtype: object\n",
      "MOR\n",
      "cars_per_cap         70\n",
      "country         Morocco\n",
      "drives_right       True\n",
      "Name: MOR, dtype: object\n",
      "EG\n",
      "cars_per_cap       45\n",
      "country         Egypt\n",
      "drives_right     True\n",
      "Name: EG, dtype: object\n"
     ]
    }
   ],
   "source": [
    "# Import cars data\n",
    "import pandas as pd\n",
    "cars = pd.read_csv('../datasets/cars.csv', index_col = 0)\n",
    "\n",
    "# Iterate over rows of cars\n",
    "for lab, row in cars.iterrows():\n",
    "    print(lab)\n",
    "    print(row)"
   ]
  },
  {
   "cell_type": "markdown",
   "id": "be75c6a6",
   "metadata": {},
   "source": [
    "## 2.11 Loop over DataFrame (2)\n",
    "\n",
    "### Description\n",
    "\n",
    "The row data that's generated by ``iterrows()`` on every run is a Pandas Series. This format is not very convenient to print out. Luckily, you can easily select variables from the Pandas Series using square brackets:\n",
    "\n",
    "```py\n",
    "for lab, row in brics.iterrows() :\n",
    "    print(row['country'])\n",
    "```\n",
    "\n",
    "### Instructions\n",
    "\n",
    "* Using the iterators ``lab`` and ``row``, adapt the code in the for loop such that the first iteration prints out ``\"US: 809\"``, the second iteration ``\"AUS: 731\"``, and so on.\n",
    "* The output should be in the form ``\"country: cars_per_cap\"``. Make sure to print out this exact string (with the correct spacing).\n",
    "* You can use ``str()`` to convert your integer data to a string so that you can print it in conjunction with the country label."
   ]
  },
  {
   "cell_type": "code",
   "execution_count": 25,
   "id": "f3512bfd",
   "metadata": {},
   "outputs": [
    {
     "name": "stdout",
     "output_type": "stream",
     "text": [
      "US: 809\n",
      "AUS: 731\n",
      "JAP: 588\n",
      "IN: 18\n",
      "RU: 200\n",
      "MOR: 70\n",
      "EG: 45\n"
     ]
    }
   ],
   "source": [
    "# Import cars data\n",
    "import pandas as pd\n",
    "cars = pd.read_csv('../datasets/cars.csv', index_col = 0)\n",
    "\n",
    "# Adapt for loop\n",
    "for lab, row in cars.iterrows() :\n",
    "    print(f\"{lab}: {row['cars_per_cap']}\")"
   ]
  },
  {
   "cell_type": "markdown",
   "id": "49bc27fb",
   "metadata": {},
   "source": [
    "## 2.12 Add column (1)\n",
    "\n",
    "### Description\n",
    "\n",
    "In the video, Hugo showed you how to add the length of the country names of the brics DataFrame in a new column:\n",
    "\n",
    "```py\n",
    "for lab, row in brics.iterrows() :\n",
    "    brics.loc[lab, \"name_length\"] = len(row[\"country\"])\n",
    "```\n",
    "\n",
    "You can do similar things on the cars DataFrame.\n",
    "\n",
    "### Instructions\n",
    "\n",
    "* Use a for loop to add a new column, named ``COUNTRY``, that contains a uppercase version of the country names in the ``\"country\"`` column. You can use the string method ``upper()`` for this.\n",
    "* To see if your code worked, print out ``cars``. Don't indent this code, so that it's not part of the ``for`` loop."
   ]
  },
  {
   "cell_type": "code",
   "execution_count": 26,
   "id": "d5489bf2",
   "metadata": {},
   "outputs": [
    {
     "name": "stdout",
     "output_type": "stream",
     "text": [
      "     cars_per_cap        country  drives_right        COUNTRY\n",
      "US            809  United States          True  UNITED STATES\n",
      "AUS           731      Australia         False      AUSTRALIA\n",
      "JAP           588          Japan         False          JAPAN\n",
      "IN             18          India         False          INDIA\n",
      "RU            200         Russia          True         RUSSIA\n",
      "MOR            70        Morocco          True        MOROCCO\n",
      "EG             45          Egypt          True          EGYPT\n"
     ]
    }
   ],
   "source": [
    "# Import cars data\n",
    "import pandas as pd\n",
    "cars = pd.read_csv('../datasets/cars.csv', index_col = 0)\n",
    "\n",
    "# Code for loop that adds COUNTRY column\n",
    "for lab, row in cars.iterrows():\n",
    "    cars.loc[lab, \"COUNTRY\"] = row[\"country\"].upper()\n",
    "\n",
    "# Print cars\n",
    "print(cars)"
   ]
  },
  {
   "cell_type": "markdown",
   "id": "f592ad31",
   "metadata": {},
   "source": [
    "## 2.13 Add column (2)\n",
    "\n",
    "### Description\n",
    "\n",
    "Using ``iterrows()`` to iterate over every observation of a Pandas DataFrame is easy to understand, but not very efficient. On every iteration, you're creating a new Pandas Series.\n",
    "\n",
    "If you want to add a column to a DataFrame by calling a function on another column, the ``iterrows()`` method in combination with a ``for`` loop is not the preferred way to go. Instead, you'll want to use ``apply()``.\n",
    "\n",
    "Compare the ``iterrows()`` version with the ``apply()`` version to get the same result in the ``brics`` DataFrame:\n",
    "\n",
    "```py\n",
    "for lab, row in brics.iterrows() :\n",
    "    brics.loc[lab, \"name_length\"] = len(row[\"country\"])\n",
    "\n",
    "brics[\"name_length\"] = brics[\"country\"].apply(len)\n",
    "```\n",
    "\n",
    "We can do a similar thing to call the ``upper()`` method on every name in the ``country`` column. However, ``upper()`` is a method, so we'll need a slightly different approach:\n",
    "\n",
    "### Instructions\n",
    "\n",
    "* Replace the ``for`` loop with a one-liner that uses ``.apply(str.upper)``. The call should give the same result: a column ``COUNTRY`` should be added to ``cars``, containing an uppercase version of the country names.\n",
    "* As usual, print out ``cars`` to see the fruits of your hard labor"
   ]
  },
  {
   "cell_type": "code",
   "execution_count": 27,
   "id": "af829388",
   "metadata": {},
   "outputs": [],
   "source": [
    "# Import cars data\n",
    "import pandas as pd\n",
    "cars = pd.read_csv('../datasets/cars.csv', index_col = 0)\n",
    "\n",
    "# Use .apply(str.upper)\n",
    "# for lab, row in cars.iterrows() :\n",
    "#    cars.loc[lab, \"COUNTRY\"] = row[\"country\"].upper()\n",
    "cars[\"COUNTRY\"] = cars[\"country\"].apply(str.upper)"
   ]
  }
 ],
 "metadata": {
  "kernelspec": {
   "display_name": "Python 3",
   "language": "python",
   "name": "python3"
  },
  "language_info": {
   "codemirror_mode": {
    "name": "ipython",
    "version": 3
   },
   "file_extension": ".py",
   "mimetype": "text/x-python",
   "name": "python",
   "nbconvert_exporter": "python",
   "pygments_lexer": "ipython3",
   "version": "3.12.2"
  }
 },
 "nbformat": 4,
 "nbformat_minor": 5
}
