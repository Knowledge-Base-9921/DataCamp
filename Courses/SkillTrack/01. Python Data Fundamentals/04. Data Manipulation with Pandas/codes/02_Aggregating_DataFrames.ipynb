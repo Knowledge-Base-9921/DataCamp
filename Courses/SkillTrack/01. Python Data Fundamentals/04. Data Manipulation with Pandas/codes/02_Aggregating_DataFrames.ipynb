{
 "cells": [
  {
   "cell_type": "markdown",
   "id": "c1600bb4",
   "metadata": {},
   "source": [
    "# 1. Aggregating DataFrames\n",
    "\n",
    "In this chapter, you’ll calculate summary statistics on DataFrame columns, and master grouped summary statistics and pivot tables."
   ]
  },
  {
   "cell_type": "markdown",
   "id": "bab0ec59",
   "metadata": {},
   "source": [
    "## 1.1 Import Libraries"
   ]
  },
  {
   "cell_type": "code",
   "execution_count": 1,
   "id": "f4cdfd54",
   "metadata": {},
   "outputs": [],
   "source": [
    "import pandas as pd"
   ]
  },
  {
   "cell_type": "markdown",
   "id": "814022da",
   "metadata": {},
   "source": [
    "## 1.2 User Variables"
   ]
  },
  {
   "cell_type": "code",
   "execution_count": 2,
   "id": "5e0434e8",
   "metadata": {},
   "outputs": [],
   "source": [
    "sales = pd.read_csv(\"../datasets/sales.csv\")"
   ]
  },
  {
   "cell_type": "markdown",
   "id": "982001ca",
   "metadata": {},
   "source": [
    "# 2. Exercises"
   ]
  },
  {
   "cell_type": "markdown",
   "id": "6ab4b2aa",
   "metadata": {},
   "source": [
    "## 2.1 Mean and median\n",
    "\n",
    "### Description\n",
    "\n",
    "Summary statistics are exactly what they sound like - they summarize many numbers in one statistic. For example, mean, median, minimum, maximum, and standard deviation are summary statistics. Calculating summary statistics allows you to get a better sense of your data, even if there's a lot of it.\n",
    "\n",
    "``sales`` is available and ``pandas`` is loaded as ``pd``.\n",
    "\n",
    "### Instructions\n",
    "\n",
    "* Explore your new DataFrame first by printing the first few rows of the ``sales`` DataFrame.\n",
    "* Print information about the columns in ``sales``.\n",
    "* Print the mean of the ``weekly_sales`` column.\n",
    "* Print the median of the ``weekly_sales`` column."
   ]
  },
  {
   "cell_type": "code",
   "execution_count": 3,
   "id": "7bac9178",
   "metadata": {},
   "outputs": [
    {
     "name": "stdout",
     "output_type": "stream",
     "text": [
      "   store type  department        date  weekly_sales  is_holiday  \\\n",
      "0      1    A           1  2010-02-05      24924.50       False   \n",
      "1      1    A           1  2010-03-05      21827.90       False   \n",
      "2      1    A           1  2010-04-02      57258.43       False   \n",
      "3      1    A           1  2010-05-07      17413.94       False   \n",
      "4      1    A           1  2010-06-04      17558.09       False   \n",
      "\n",
      "   temperature_c  fuel_price_usd_per_l  unemployment  \n",
      "0       5.727778              0.679451         8.106  \n",
      "1       8.055556              0.693452         8.106  \n",
      "2      16.816667              0.718284         7.808  \n",
      "3      22.527778              0.748928         7.808  \n",
      "4      27.050000              0.714586         7.808  \n",
      "<class 'pandas.core.frame.DataFrame'>\n",
      "RangeIndex: 10774 entries, 0 to 10773\n",
      "Data columns (total 9 columns):\n",
      " #   Column                Non-Null Count  Dtype  \n",
      "---  ------                --------------  -----  \n",
      " 0   store                 10774 non-null  int64  \n",
      " 1   type                  10774 non-null  object \n",
      " 2   department            10774 non-null  int64  \n",
      " 3   date                  10774 non-null  object \n",
      " 4   weekly_sales          10774 non-null  float64\n",
      " 5   is_holiday            10774 non-null  bool   \n",
      " 6   temperature_c         10774 non-null  float64\n",
      " 7   fuel_price_usd_per_l  10774 non-null  float64\n",
      " 8   unemployment          10774 non-null  float64\n",
      "dtypes: bool(1), float64(4), int64(2), object(2)\n",
      "memory usage: 684.0+ KB\n",
      "None\n",
      "23843.95014850566\n",
      "12049.064999999999\n"
     ]
    }
   ],
   "source": [
    "# Print the head of the sales DataFrame\n",
    "print(sales.head())\n",
    "\n",
    "# Print the info about the sales DataFrame\n",
    "print(sales.info())\n",
    "\n",
    "# Print the mean of weekly_sales\n",
    "print(sales[\"weekly_sales\"].mean())\n",
    "\n",
    "# Print the median of weekly_sales\n",
    "print(sales[\"weekly_sales\"].median())"
   ]
  },
  {
   "cell_type": "markdown",
   "id": "7152f0f1",
   "metadata": {},
   "source": [
    "## 2.2 Summarizing dates\n",
    "\n",
    "### Desscription\n",
    "\n",
    "Summary statistics can also be calculated on date columns that have values with the data type ``datetime64``. Some summary statistics — like mean — don't make a ton of sense on dates, but others are super helpful, for example, minimum and maximum, which allow you to see what time range your data covers.\n",
    "\n",
    "``sales`` is available and ``pandas`` is loaded as ``pd``.\n",
    "\n",
    "### Instructions\n",
    "\n",
    "* Print the maximum of the ``date`` column.\n",
    "* Print the minimum of the ``date`` column."
   ]
  },
  {
   "cell_type": "code",
   "execution_count": 4,
   "id": "6a8bc629",
   "metadata": {},
   "outputs": [
    {
     "name": "stdout",
     "output_type": "stream",
     "text": [
      "2012-10-26\n",
      "2010-02-05\n"
     ]
    }
   ],
   "source": [
    "# Print the maximum of the date column\n",
    "print(sales[\"date\"].max())\n",
    "\n",
    "# Print the minimum of the date column\n",
    "print(sales[\"date\"].min())"
   ]
  },
  {
   "cell_type": "markdown",
   "id": "12289ed6",
   "metadata": {},
   "source": [
    "## 2.3 Efficient summaries\n",
    "\n",
    "### Description\n",
    "\n",
    "While pandas and NumPy have tons of functions, sometimes, you may need a different function to summarize your data.\n",
    "\n",
    "The ``.agg()`` method allows you to apply your own custom functions to a DataFrame, as well as apply functions to more than one column of a DataFrame at once, making your aggregations super-efficient. For example,\n",
    "\n",
    "```py\n",
    "df['column'].agg(function)\n",
    "```\n",
    "\n",
    "In the custom function for this exercise, \"IQR\" is short for inter-quartile range, which is the 75th percentile minus the 25th percentile. It's an alternative to standard deviation that is helpful if your data contains outliers.\n",
    "\n",
    "``sales`` is available and ``pandas`` is loaded as ``pd``.\n",
    "\n",
    "### Instructions\n",
    "\n",
    "* Use the custom ``iqr`` function defined for you along with ``.agg()`` to print the IQR of the ``temperature_c`` column of ``sales``.\n",
    "* Update the column selection to use the custom ``iqr`` function with ``.agg()`` to print the IQR of ``temperature_c``, ``fuel_price_usd_per_l``, and ``unemployment``, in that order.\n",
    "* Update the aggregation functions called by ``.agg()``: include ``iqr`` and ``\"median\"`` in that order."
   ]
  },
  {
   "cell_type": "code",
   "execution_count": 5,
   "id": "91fdf3ce",
   "metadata": {},
   "outputs": [
    {
     "name": "stdout",
     "output_type": "stream",
     "text": [
      "16.583333333333336\n",
      "temperature_c           16.583333\n",
      "fuel_price_usd_per_l     0.073176\n",
      "unemployment             0.565000\n",
      "dtype: float64\n",
      "        temperature_c  fuel_price_usd_per_l  unemployment\n",
      "iqr         16.583333              0.073176         0.565\n",
      "median      16.966667              0.743381         8.099\n"
     ]
    }
   ],
   "source": [
    "# A custom IQR function\n",
    "def iqr(column):\n",
    "    return column.quantile(0.75) - column.quantile(0.25)\n",
    "    \n",
    "# Print IQR of the temperature_c column\n",
    "print(sales[\"temperature_c\"].agg(iqr))\n",
    "\n",
    "# Update to print IQR of temperature_c, fuel_price_usd_per_l, & unemployment\n",
    "print(sales[[\"temperature_c\", \"fuel_price_usd_per_l\", \"unemployment\"]].agg(iqr))\n",
    "\n",
    "# Update to print IQR and median of temperature_c, fuel_price_usd_per_l, & unemployment\n",
    "print(sales[[\"temperature_c\", \"fuel_price_usd_per_l\", \"unemployment\"]].agg([iqr, \"median\"]))"
   ]
  },
  {
   "cell_type": "markdown",
   "id": "39b1d29e",
   "metadata": {},
   "source": [
    "## 2.4 Cumulative statistics\n",
    "\n",
    "### Description\n",
    "\n",
    "Cumulative statistics can also be helpful in tracking summary statistics over time. In this exercise, you'll calculate the cumulative sum and cumulative max of a department's weekly sales, which will allow you to identify what the total sales were so far as well as what the highest weekly sales were so far.\n",
    "\n",
    "A DataFrame called ``sales_1_1`` has been created for you, which contains the sales data for department 1 of store 1. ``pandas`` is loaded as ``pd``.\n",
    "\n",
    "### Instructions\n",
    "\n",
    "* Sort the rows of ``sales_1_1`` by the ``date`` column in ascending order.\n",
    "* Get the cumulative sum of ``weekly_sales`` and add it as a new column of ``sales_1_1`` called ``cum_weekly_sales``.\n",
    "* Get the cumulative maximum of ``weekly_sales``, and add it as a column called ``cum_max_sales``.\n",
    "* Print the date, ``weekly_sales``, ``cum_weekly_sales``, and ``cum_max_sales`` columns."
   ]
  },
  {
   "cell_type": "code",
   "execution_count": 11,
   "id": "57b48059",
   "metadata": {},
   "outputs": [],
   "source": [
    "sales_1_1 = sales[(sales[\"store\"]==1) & (sales[\"department\"]==1)]"
   ]
  },
  {
   "cell_type": "code",
   "execution_count": 12,
   "id": "5954cf68",
   "metadata": {},
   "outputs": [
    {
     "name": "stdout",
     "output_type": "stream",
     "text": [
      "          date  weekly_sales  cum_weekly_sales  cum_max_sales\n",
      "0   2010-02-05      24924.50          24924.50       24924.50\n",
      "1   2010-03-05      21827.90          46752.40       24924.50\n",
      "2   2010-04-02      57258.43         104010.83       57258.43\n",
      "3   2010-05-07      17413.94         121424.77       57258.43\n",
      "4   2010-06-04      17558.09         138982.86       57258.43\n",
      "5   2010-07-02      16333.14         155316.00       57258.43\n",
      "6   2010-08-06      17508.41         172824.41       57258.43\n",
      "7   2010-09-03      16241.78         189066.19       57258.43\n",
      "8   2010-10-01      20094.19         209160.38       57258.43\n",
      "9   2010-11-05      34238.88         243399.26       57258.43\n",
      "10  2010-12-03      22517.56         265916.82       57258.43\n",
      "11  2011-01-07      15984.24         281901.06       57258.43\n"
     ]
    }
   ],
   "source": [
    "# Sort sales_1_1 by date\n",
    "sales_1_1 = sales_1_1.sort_values(by=\"date\", ascending=True)\n",
    "\n",
    "# Get the cumulative sum of weekly_sales, add as cum_weekly_sales col\n",
    "sales_1_1[\"cum_weekly_sales\"] = sales_1_1[\"weekly_sales\"].cumsum()\n",
    "\n",
    "# Get the cumulative max of weekly_sales, add as cum_max_sales col\n",
    "sales_1_1[\"cum_max_sales\"] = sales_1_1[\"weekly_sales\"].cummax()\n",
    "\n",
    "# See the columns you calculated\n",
    "print(sales_1_1[[\"date\", \"weekly_sales\", \"cum_weekly_sales\", \"cum_max_sales\"]])"
   ]
  },
  {
   "cell_type": "markdown",
   "id": "3945126c",
   "metadata": {},
   "source": [
    "## 2.5 Dropping duplicates\n",
    "\n",
    "### Description\n",
    "\n",
    "Removing duplicates is an essential skill to get accurate counts because often, you don't want to count the same thing multiple times. In this exercise, you'll create some new DataFrames using unique values from ``sales``.\n",
    "\n",
    "``sales`` is available and ``pandas`` is imported as ``pd``.\n",
    "\n",
    "### Instructions\n",
    "\n",
    "* Remove rows of ``sales`` with duplicate pairs of ``store`` and ``type`` and save as ``store_types`` and print the head.\n",
    "* Remove rows of ``sales`` with duplicate pairs of ``store`` and ``department`` and save as ``store_depts`` and print the head.\n",
    "* Subset the rows that are holiday weeks using the ``is_holiday`` column, and drop the duplicate ``dates``, saving as ``holiday_dates``.\n",
    "* Select the ``date`` column of ``holiday_dates``, and print."
   ]
  },
  {
   "cell_type": "code",
   "execution_count": 13,
   "id": "231ea5b5",
   "metadata": {},
   "outputs": [
    {
     "name": "stdout",
     "output_type": "stream",
     "text": [
      "      store type  department        date  weekly_sales  is_holiday  \\\n",
      "0         1    A           1  2010-02-05      24924.50       False   \n",
      "901       2    A           1  2010-02-05      35034.06       False   \n",
      "1798      4    A           1  2010-02-05      38724.42       False   \n",
      "2699      6    A           1  2010-02-05      25619.00       False   \n",
      "3593     10    B           1  2010-02-05      40212.84       False   \n",
      "\n",
      "      temperature_c  fuel_price_usd_per_l  unemployment  \n",
      "0          5.727778              0.679451         8.106  \n",
      "901        4.550000              0.679451         8.324  \n",
      "1798       6.533333              0.686319         8.623  \n",
      "2699       4.683333              0.679451         7.259  \n",
      "3593      12.411111              0.782478         9.765  \n",
      "    store type  department        date  weekly_sales  is_holiday  \\\n",
      "0       1    A           1  2010-02-05      24924.50       False   \n",
      "12      1    A           2  2010-02-05      50605.27       False   \n",
      "24      1    A           3  2010-02-05      13740.12       False   \n",
      "36      1    A           4  2010-02-05      39954.04       False   \n",
      "48      1    A           5  2010-02-05      32229.38       False   \n",
      "\n",
      "    temperature_c  fuel_price_usd_per_l  unemployment  \n",
      "0        5.727778              0.679451         8.106  \n",
      "12       5.727778              0.679451         8.106  \n",
      "24       5.727778              0.679451         8.106  \n",
      "36       5.727778              0.679451         8.106  \n",
      "48       5.727778              0.679451         8.106  \n",
      "498     2010-09-10\n",
      "691     2011-11-25\n",
      "2315    2010-02-12\n",
      "6735    2012-09-07\n",
      "6810    2010-12-31\n",
      "6815    2012-02-10\n",
      "6820    2011-09-09\n",
      "Name: date, dtype: object\n"
     ]
    }
   ],
   "source": [
    "# Drop duplicate store/type combinations\n",
    "store_types = sales.drop_duplicates(subset=[\"store\", \"type\"])\n",
    "print(store_types.head())\n",
    "\n",
    "# Drop duplicate store/department combinations\n",
    "store_depts = sales.drop_duplicates(subset=[\"store\", \"department\"])\n",
    "print(store_depts.head())\n",
    "\n",
    "# Subset the rows where is_holiday is True and drop duplicate dates\n",
    "holiday_dates = sales[sales[\"is_holiday\"]==True].drop_duplicates(subset=\"date\")\n",
    "\n",
    "# Print date col of holiday_dates\n",
    "print(holiday_dates[\"date\"])"
   ]
  },
  {
   "cell_type": "markdown",
   "id": "dafd7cf9",
   "metadata": {},
   "source": [
    "## 2.6 Counting categorical variables\n",
    "\n",
    "### Description\n",
    "\n",
    "Counting is a great way to get an overview of your data and to spot curiosities that you might not notice otherwise. In this exercise, you'll count the number of each type of store and the number of each department number using the DataFrames you created in the previous exercise:\n",
    "\n",
    "```py\n",
    "# Drop duplicate store/type combinations\n",
    "store_types = sales.drop_duplicates(subset=[\"store\", \"type\"])\n",
    "\n",
    "# Drop duplicate store/department combinations\n",
    "store_depts = sales.drop_duplicates(subset=[\"store\", \"department\"])\n",
    "```\n",
    "\n",
    "The ``store_types`` and ``store_depts`` DataFrames you created in the last exercise are available, and ``pandas`` is imported as ``pd``.\n",
    "\n",
    "### Instructions\n",
    "\n",
    "* Count the number of stores of each store ``type`` in ``store_types``.\n",
    "* Count the proportion of stores of each store ``type`` in ``store_types``.\n",
    "* Count the number of stores of each ``department`` in ``store_depts``, sorting the counts in descending order.\n",
    "* Count the proportion of stores of each ``department`` in ``store_depts``, sorting the proportions in descending order."
   ]
  },
  {
   "cell_type": "code",
   "execution_count": 14,
   "id": "acf1e01f",
   "metadata": {},
   "outputs": [
    {
     "name": "stdout",
     "output_type": "stream",
     "text": [
      "type\n",
      "A    11\n",
      "B     1\n",
      "Name: count, dtype: int64\n",
      "type\n",
      "A    0.916667\n",
      "B    0.083333\n",
      "Name: proportion, dtype: float64\n",
      "department\n",
      "1     12\n",
      "2     12\n",
      "3     12\n",
      "4     12\n",
      "5     12\n",
      "      ..\n",
      "37    10\n",
      "48     8\n",
      "50     6\n",
      "39     4\n",
      "43     2\n",
      "Name: count, Length: 80, dtype: int64\n",
      "department\n",
      "1     0.012917\n",
      "2     0.012917\n",
      "3     0.012917\n",
      "4     0.012917\n",
      "5     0.012917\n",
      "        ...   \n",
      "37    0.010764\n",
      "48    0.008611\n",
      "50    0.006459\n",
      "39    0.004306\n",
      "43    0.002153\n",
      "Name: proportion, Length: 80, dtype: float64\n"
     ]
    }
   ],
   "source": [
    "# Count the number of stores of each type\n",
    "store_counts = store_types[\"type\"].value_counts()\n",
    "print(store_counts)\n",
    "\n",
    "# Get the proportion of stores of each type\n",
    "store_props = store_types[\"type\"].value_counts(normalize=True)\n",
    "print(store_props)\n",
    "\n",
    "# Count the number of stores for each department and sort\n",
    "dept_counts_sorted = store_depts[\"department\"].value_counts(sort=True)\n",
    "print(dept_counts_sorted)\n",
    "\n",
    "# Get the proportion of stores in each department and sort\n",
    "dept_props_sorted = store_depts[\"department\"].value_counts(sort=True, normalize=True)\n",
    "print(dept_props_sorted)"
   ]
  },
  {
   "cell_type": "markdown",
   "id": "b20db9a9",
   "metadata": {},
   "source": [
    "## 2.7 What percent of sales occurred at each store type?\n",
    "\n",
    "### Description\n",
    "\n",
    "While ``.groupby()`` is useful, you can calculate grouped summary statistics without it.\n",
    "\n",
    "Walmart distinguishes three types of stores: \"supercenters,\" \"discount stores,\" and \"neighborhood markets,\" encoded in this dataset as type \"A,\" \"B,\" and \"C.\" In this exercise, you'll calculate the total sales made at each store type, without using ``.groupby()``. You can then use these numbers to see what proportion of Walmart's total sales were made at each type.\n",
    "\n",
    "``sales`` is available and ``pandas`` is imported as ``pd``.\n",
    "\n",
    "### Instructions\n",
    "\n",
    "* Calculate the total ``weekly_sales`` over the whole dataset.\n",
    "* Subset for ``type`` ``\"A\"`` stores, and calculate their total weekly sales.\n",
    "* Do the same for ``type`` ``\"B\"`` and type ``\"C\"`` stores.\n",
    "* Combine the A/B/C results into a list, and divide by ``sales_all`` to get the proportion of sales by type."
   ]
  },
  {
   "cell_type": "code",
   "execution_count": 15,
   "id": "95c55dfd",
   "metadata": {},
   "outputs": [
    {
     "name": "stdout",
     "output_type": "stream",
     "text": [
      "[0.9097747 0.0902253 0.       ]\n"
     ]
    },
    {
     "name": "stderr",
     "output_type": "stream",
     "text": [
      "C:\\Users\\sanja\\AppData\\Local\\Temp\\ipykernel_11300\\2836977059.py:2: FutureWarning: The provided callable <built-in function sum> is currently using Series.sum. In a future version of pandas, the provided callable will be used directly. To keep current behavior pass the string \"sum\" instead.\n",
      "  sales_all = sales[\"weekly_sales\"].agg(sum)\n",
      "C:\\Users\\sanja\\AppData\\Local\\Temp\\ipykernel_11300\\2836977059.py:5: FutureWarning: The provided callable <built-in function sum> is currently using Series.sum. In a future version of pandas, the provided callable will be used directly. To keep current behavior pass the string \"sum\" instead.\n",
      "  sales_A = sales[sales[\"type\"] == \"A\"][\"weekly_sales\"].agg(sum)\n",
      "C:\\Users\\sanja\\AppData\\Local\\Temp\\ipykernel_11300\\2836977059.py:8: FutureWarning: The provided callable <built-in function sum> is currently using Series.sum. In a future version of pandas, the provided callable will be used directly. To keep current behavior pass the string \"sum\" instead.\n",
      "  sales_B = sales[sales[\"type\"] == \"B\"][\"weekly_sales\"].agg(sum)\n",
      "C:\\Users\\sanja\\AppData\\Local\\Temp\\ipykernel_11300\\2836977059.py:11: FutureWarning: The provided callable <built-in function sum> is currently using Series.sum. In a future version of pandas, the provided callable will be used directly. To keep current behavior pass the string \"sum\" instead.\n",
      "  sales_C = sales[sales[\"type\"] == \"C\"][\"weekly_sales\"].agg(sum)\n"
     ]
    }
   ],
   "source": [
    "# Calc total weekly sales\n",
    "sales_all = sales[\"weekly_sales\"].agg(sum)\n",
    "\n",
    "# Subset for type A stores, calc total weekly sales\n",
    "sales_A = sales[sales[\"type\"] == \"A\"][\"weekly_sales\"].agg(sum)\n",
    "\n",
    "# Subset for type B stores, calc total weekly sales\n",
    "sales_B = sales[sales[\"type\"] == \"B\"][\"weekly_sales\"].agg(sum)\n",
    "\n",
    "# Subset for type C stores, calc total weekly sales\n",
    "sales_C = sales[sales[\"type\"] == \"C\"][\"weekly_sales\"].agg(sum)\n",
    "\n",
    "# Get proportion for each type\n",
    "sales_propn_by_type = [sales_A, sales_B, sales_C] / sales_all\n",
    "print(sales_propn_by_type)"
   ]
  },
  {
   "cell_type": "markdown",
   "id": "f27c9e42",
   "metadata": {},
   "source": [
    "## 2.8 Calculations with .groupby()\n",
    "\n",
    "### Description\n",
    "\n",
    "The ``.groupby()`` method makes life much easier. In this exercise, you'll perform the same calculations as last time, except you'll use the ``.groupby()`` method. You'll also perform calculations on data grouped by two variables to see if sales differ by store type depending on if it's a holiday week or not.\n",
    "\n",
    "``sales`` is available and ``pandas`` is loaded as ``pd``.\n",
    "\n",
    "### Instructions\n",
    "\n",
    "* Group ``sales`` by ``\"type\"``, take the sum of ``\"weekly_sales\"``, and store as ``sales_by_type``.\n",
    "* Calculate the proportion of sales at each store type by dividing by the sum of ``sales_by_type``. Assign to ``sales_propn_by_type``.\n",
    "* Group ``sales`` by ``\"type\"`` and ``\"is_holiday\"``, take the sum of ``weekly_sales``, and store as ``sales_by_type_is_holiday``."
   ]
  },
  {
   "cell_type": "code",
   "execution_count": 16,
   "id": "dbf74450",
   "metadata": {},
   "outputs": [
    {
     "name": "stdout",
     "output_type": "stream",
     "text": [
      "type\n",
      "A    0.909775\n",
      "B    0.090225\n",
      "Name: weekly_sales, dtype: float64\n"
     ]
    },
    {
     "name": "stderr",
     "output_type": "stream",
     "text": [
      "C:\\Users\\sanja\\AppData\\Local\\Temp\\ipykernel_11300\\2460780319.py:2: FutureWarning: The provided callable <built-in function sum> is currently using SeriesGroupBy.sum. In a future version of pandas, the provided callable will be used directly. To keep current behavior pass the string \"sum\" instead.\n",
      "  sales_by_type = sales.groupby(\"type\")[\"weekly_sales\"].agg(sum)\n"
     ]
    }
   ],
   "source": [
    "# Group by type; calc total weekly sales\n",
    "sales_by_type = sales.groupby(\"type\")[\"weekly_sales\"].agg(sum)\n",
    "\n",
    "# Get proportion for each type\n",
    "sales_propn_by_type = sales_by_type / sum(sales_by_type)\n",
    "print(sales_propn_by_type)"
   ]
  },
  {
   "cell_type": "code",
   "execution_count": 17,
   "id": "af15a262",
   "metadata": {},
   "outputs": [
    {
     "name": "stdout",
     "output_type": "stream",
     "text": [
      "type  is_holiday\n",
      "A     False         2.336927e+08\n",
      "      True          2.360181e+04\n",
      "B     False         2.317678e+07\n",
      "      True          1.621410e+03\n",
      "Name: weekly_sales, dtype: float64\n"
     ]
    }
   ],
   "source": [
    "# From previous step\n",
    "sales_by_type = sales.groupby(\"type\")[\"weekly_sales\"].sum()\n",
    "\n",
    "# Group by type and is_holiday; calc total weekly sales\n",
    "sales_by_type_is_holiday = sales.groupby([\"type\", \"is_holiday\"])[\"weekly_sales\"].sum()\n",
    "print(sales_by_type_is_holiday)"
   ]
  },
  {
   "cell_type": "markdown",
   "id": "9e65605d",
   "metadata": {},
   "source": [
    "## 2.9 Multiple grouped summaries\n",
    "\n",
    "### Description\n",
    "\n",
    "Earlier in this chapter, you saw that the ``.agg()`` method is useful to compute multiple statistics on multiple variables. It also works with grouped data. You can use built-in functions like ``min``, ``max``, ``mean``, and ``median``.\n",
    "\n",
    "``sales`` is available and ``pandas`` is imported as pd.\n",
    "\n",
    "### Instructions\n",
    "\n",
    "* Get the min, max, mean, and median of ``weekly_sales`` for each store type using ``.groupby()`` and ``.agg()``. Store this as ``sales_stats``.\n",
    "* Get the min, max, mean, and median of ``unemployment`` and ``fuel_price_usd_per_l`` for each store type. Store this as ``unemp_fuel_stats``."
   ]
  },
  {
   "cell_type": "code",
   "execution_count": 18,
   "id": "244e957b",
   "metadata": {},
   "outputs": [
    {
     "name": "stdout",
     "output_type": "stream",
     "text": [
      "         min        max          mean    median\n",
      "type                                           \n",
      "A    -1098.0  293966.05  23674.667242  11943.92\n",
      "B     -798.0  232558.51  25696.678370  13336.08\n",
      "     unemployment                         fuel_price_usd_per_l            \\\n",
      "              min    max      mean median                  min       max   \n",
      "type                                                                       \n",
      "A           3.879  8.992  7.972611  8.067             0.664129  1.107410   \n",
      "B           7.170  9.765  9.279323  9.199             0.760023  1.107674   \n",
      "\n",
      "                          \n",
      "          mean    median  \n",
      "type                      \n",
      "A     0.744619  0.735455  \n",
      "B     0.805858  0.803348  \n"
     ]
    },
    {
     "name": "stderr",
     "output_type": "stream",
     "text": [
      "C:\\Users\\sanja\\AppData\\Local\\Temp\\ipykernel_11300\\3088136591.py:2: FutureWarning: The provided callable <built-in function min> is currently using SeriesGroupBy.min. In a future version of pandas, the provided callable will be used directly. To keep current behavior pass the string \"min\" instead.\n",
      "  sales_stats = sales.groupby(\"type\")[\"weekly_sales\"].agg([min, max, \"mean\", \"median\"])\n",
      "C:\\Users\\sanja\\AppData\\Local\\Temp\\ipykernel_11300\\3088136591.py:2: FutureWarning: The provided callable <built-in function max> is currently using SeriesGroupBy.max. In a future version of pandas, the provided callable will be used directly. To keep current behavior pass the string \"max\" instead.\n",
      "  sales_stats = sales.groupby(\"type\")[\"weekly_sales\"].agg([min, max, \"mean\", \"median\"])\n",
      "C:\\Users\\sanja\\AppData\\Local\\Temp\\ipykernel_11300\\3088136591.py:8: FutureWarning: The provided callable <built-in function min> is currently using SeriesGroupBy.min. In a future version of pandas, the provided callable will be used directly. To keep current behavior pass the string \"min\" instead.\n",
      "  unemp_fuel_stats = sales.groupby(\"type\")[[\"unemployment\", \"fuel_price_usd_per_l\"]].agg([min, max, \"mean\", \"median\"])\n",
      "C:\\Users\\sanja\\AppData\\Local\\Temp\\ipykernel_11300\\3088136591.py:8: FutureWarning: The provided callable <built-in function max> is currently using SeriesGroupBy.max. In a future version of pandas, the provided callable will be used directly. To keep current behavior pass the string \"max\" instead.\n",
      "  unemp_fuel_stats = sales.groupby(\"type\")[[\"unemployment\", \"fuel_price_usd_per_l\"]].agg([min, max, \"mean\", \"median\"])\n",
      "C:\\Users\\sanja\\AppData\\Local\\Temp\\ipykernel_11300\\3088136591.py:8: FutureWarning: The provided callable <built-in function min> is currently using SeriesGroupBy.min. In a future version of pandas, the provided callable will be used directly. To keep current behavior pass the string \"min\" instead.\n",
      "  unemp_fuel_stats = sales.groupby(\"type\")[[\"unemployment\", \"fuel_price_usd_per_l\"]].agg([min, max, \"mean\", \"median\"])\n"
     ]
    }
   ],
   "source": [
    "# For each store type, aggregate weekly_sales: get min, max, mean, and median\n",
    "sales_stats = sales.groupby(\"type\")[\"weekly_sales\"].agg([min, max, \"mean\", \"median\"])\n",
    "\n",
    "# Print sales_stats\n",
    "print(sales_stats)\n",
    "\n",
    "# For each store type, aggregate unemployment and fuel_price_usd_per_l: get min, max, mean, and median\n",
    "unemp_fuel_stats = sales.groupby(\"type\")[[\"unemployment\", \"fuel_price_usd_per_l\"]].agg([min, max, \"mean\", \"median\"])\n",
    "\n",
    "# Print unemp_fuel_stats\n",
    "print(unemp_fuel_stats)"
   ]
  },
  {
   "cell_type": "markdown",
   "id": "ef64e100",
   "metadata": {},
   "source": [
    "## 2.10 Pivoting on one variable\n",
    "\n",
    "### Description\n",
    "\n",
    "Pivot tables are the standard way of aggregating data in spreadsheets.\n",
    "\n",
    "In pandas, pivot tables are essentially another way of performing grouped calculations. That is, the ``.pivot_table()`` method is an alternative to ``.groupby()``.\n",
    "\n",
    "In this exercise, you'll perform calculations using ``.pivot_table()`` to replicate the calculations you performed in the last lesson using ``.groupby()``.\n",
    "\n",
    "``sales`` is available and ``pandas`` is imported as ``pd``.\n",
    "\n",
    "### Instructions\n",
    "\n",
    "* Get the mean ``weekly_sales`` by ``type`` using ``.pivot_table()`` and store as ``mean_sales_by_type``.\n",
    "* Get the mean and median of ``weekly_sales`` by type using ``.pivot_table()`` and store as ``mean_med_sales_by_type``.\n",
    "* Get the mean of ``weekly_sales`` by ``type`` and ``is_holiday`` using ``.pivot_table()`` and store as ``mean_sales_by_type_holiday``."
   ]
  },
  {
   "cell_type": "code",
   "execution_count": 19,
   "id": "a05d90a3",
   "metadata": {},
   "outputs": [
    {
     "name": "stdout",
     "output_type": "stream",
     "text": [
      "      weekly_sales\n",
      "type              \n",
      "A     23674.667242\n",
      "B     25696.678370\n"
     ]
    }
   ],
   "source": [
    "# Pivot for mean weekly_sales for each store type\n",
    "mean_sales_by_type = sales.pivot_table(\n",
    "    values=\"weekly_sales\",\n",
    "    index=\"type\" # groupby\n",
    ")\n",
    "\n",
    "# Print mean_sales_by_type\n",
    "print(mean_sales_by_type)"
   ]
  },
  {
   "cell_type": "code",
   "execution_count": 20,
   "id": "e521936e",
   "metadata": {},
   "outputs": [
    {
     "name": "stdout",
     "output_type": "stream",
     "text": [
      "              mean       median\n",
      "      weekly_sales weekly_sales\n",
      "type                           \n",
      "A     23674.667242     11943.92\n",
      "B     25696.678370     13336.08\n"
     ]
    }
   ],
   "source": [
    "# Pivot for mean and median weekly_sales for each store type\n",
    "mean_med_sales_by_type = sales.pivot_table(\n",
    "    values=\"weekly_sales\",\n",
    "    index=\"type\",\n",
    "    aggfunc=[\"mean\", \"median\"]\n",
    ")\n",
    "\n",
    "# Print mean_med_sales_by_type\n",
    "print(mean_med_sales_by_type)"
   ]
  },
  {
   "cell_type": "code",
   "execution_count": 21,
   "id": "9be002ed",
   "metadata": {},
   "outputs": [
    {
     "name": "stdout",
     "output_type": "stream",
     "text": [
      "is_holiday         False      True \n",
      "type                               \n",
      "A           23768.583523  590.04525\n",
      "B           25751.980533  810.70500\n"
     ]
    }
   ],
   "source": [
    "# Pivot for mean weekly_sales by store type and holiday \n",
    "mean_sales_by_type_holiday = sales.pivot_table(\n",
    "    values=\"weekly_sales\",\n",
    "    index=\"type\",\n",
    "    columns=\"is_holiday\"\n",
    ")\n",
    "\n",
    "# Print mean_sales_by_type_holiday\n",
    "print(mean_sales_by_type_holiday)"
   ]
  },
  {
   "cell_type": "markdown",
   "id": "1ba33854",
   "metadata": {},
   "source": [
    "## 2.11 Fill in missing values and sum values with pivot tables\n",
    "\n",
    "### Description\n",
    "\n",
    "The ``.pivot_table()`` method has several useful arguments, including ``fill_value`` and ``margins``.\n",
    "\n",
    "* ``fill_value`` replaces missing values with a real value (known as imputation). What to replace missing values with is a topic big enough to have its own course (<a href=\"https://www.datacamp.com/courses/dealing-with-missing-data-in-python\">Dealing with Missing Data in Python</a>), but the simplest thing to do is to substitute a dummy value.\n",
    "* ``margins`` is a shortcut for when you pivoted by two variables, but also wanted to pivot by each of those variables separately: it gives the row and column totals of the pivot table contents.\n",
    "In this exercise, you'll practice using these arguments to up your pivot table skills, which will help you crunch numbers more efficiently!\n",
    "\n",
    "``sales`` is available and ``pandas`` is imported as ``pd``.\n",
    "\n",
    "### Instructions\n",
    "\n",
    "* Print the mean ``weekly_sales`` by ``department`` and ``type``, filling in any missing values with ``0``.\n",
    "* Print the mean ``weekly_sales`` by ``department`` and ``type``, filling in any missing values with ``0`` and summing all rows and columns."
   ]
  },
  {
   "cell_type": "code",
   "execution_count": 22,
   "id": "38188ad1",
   "metadata": {},
   "outputs": [
    {
     "name": "stdout",
     "output_type": "stream",
     "text": [
      "type                    A              B\n",
      "department                              \n",
      "1            30961.725379   44050.626667\n",
      "2            67600.158788  112958.526667\n",
      "3            17160.002955   30580.655000\n",
      "4            44285.399091   51219.654167\n",
      "5            34821.011364   63236.875000\n",
      "...                   ...            ...\n",
      "95          123933.787121   77082.102500\n",
      "96           21367.042857    9528.538333\n",
      "97           28471.266970    5828.873333\n",
      "98           12875.423182     217.428333\n",
      "99             379.123659       0.000000\n",
      "\n",
      "[80 rows x 2 columns]\n"
     ]
    }
   ],
   "source": [
    "# Print mean weekly_sales by department and type; fill missing values with 0\n",
    "print(sales.pivot_table(\n",
    "    values = \"weekly_sales\",\n",
    "    index = \"department\",\n",
    "    columns = \"type\",\n",
    "    fill_value = 0\n",
    "))"
   ]
  },
  {
   "cell_type": "code",
   "execution_count": 23,
   "id": "93a869e3",
   "metadata": {},
   "outputs": [
    {
     "name": "stdout",
     "output_type": "stream",
     "text": [
      "type                   A              B           All\n",
      "department                                           \n",
      "1           30961.725379   44050.626667  32052.467153\n",
      "2           67600.158788  112958.526667  71380.022778\n",
      "3           17160.002955   30580.655000  18278.390625\n",
      "4           44285.399091   51219.654167  44863.253681\n",
      "5           34821.011364   63236.875000  37189.000000\n",
      "...                  ...            ...           ...\n",
      "96          21367.042857    9528.538333  20337.607681\n",
      "97          28471.266970    5828.873333  26584.400833\n",
      "98          12875.423182     217.428333  11820.590278\n",
      "99            379.123659       0.000000    379.123659\n",
      "All         23674.667242   25696.678370  23843.950149\n",
      "\n",
      "[81 rows x 3 columns]\n"
     ]
    }
   ],
   "source": [
    "# Print the mean weekly_sales by department and type; fill missing values with 0s; sum all rows and cols\n",
    "print(sales.pivot_table(\n",
    "    values=\"weekly_sales\",\n",
    "    index=\"department\",\n",
    "    columns=\"type\",\n",
    "    fill_value=0, # imputation\n",
    "    margins=True # sums all rows and columns\n",
    "))"
   ]
  }
 ],
 "metadata": {
  "kernelspec": {
   "display_name": "Python 3",
   "language": "python",
   "name": "python3"
  },
  "language_info": {
   "codemirror_mode": {
    "name": "ipython",
    "version": 3
   },
   "file_extension": ".py",
   "mimetype": "text/x-python",
   "name": "python",
   "nbconvert_exporter": "python",
   "pygments_lexer": "ipython3",
   "version": "3.12.2"
  }
 },
 "nbformat": 4,
 "nbformat_minor": 5
}
