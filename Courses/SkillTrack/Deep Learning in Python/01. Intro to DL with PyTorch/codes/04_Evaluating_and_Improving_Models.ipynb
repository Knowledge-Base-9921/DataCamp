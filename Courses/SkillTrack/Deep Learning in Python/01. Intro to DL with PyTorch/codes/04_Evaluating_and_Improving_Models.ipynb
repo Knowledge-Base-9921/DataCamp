{
 "cells": [
  {
   "cell_type": "markdown",
   "id": "fbfa797c",
   "metadata": {},
   "source": [
    "# 1. Evaluating and Improving Models\n",
    "\n",
    "Training a deep learning model is an art, and to make sure our model is trained correctly, we need to keep track of certain metrics during training, such as the loss or the accuracy. We will learn how to calculate such metrics and how to reduce overfitting. "
   ]
  },
  {
   "cell_type": "markdown",
   "id": "5436f1bc",
   "metadata": {},
   "source": [
    "## 1.1 Import Libraries"
   ]
  },
  {
   "cell_type": "code",
   "execution_count": 31,
   "id": "e887f184",
   "metadata": {},
   "outputs": [],
   "source": [
    "import torch\n",
    "import torch.nn as nn\n",
    "import torch.nn.functional as F\n",
    "from torch.nn import CrossEntropyLoss\n",
    "import torch.optim as optim\n",
    "from torch.utils.data import Dataset\n",
    "from torch.utils.data import TensorDataset\n",
    "from torch.utils.data import DataLoader\n",
    "import torchvision.transforms as transforms\n",
    "import torchmetrics\n",
    "from mpl_toolkits.axes_grid1 import ImageGrid\n",
    "import numpy as np\n",
    "import pandas as pd\n",
    "import matplotlib.pyplot as plt"
   ]
  },
  {
   "cell_type": "markdown",
   "id": "06f73a7b",
   "metadata": {},
   "source": [
    "## 1.2 User Variables"
   ]
  },
  {
   "cell_type": "code",
   "execution_count": 38,
   "id": "e946346a",
   "metadata": {},
   "outputs": [],
   "source": [
    "face_mask_pkl = pd.read_pickle(\"../datasets/masks_dataset.pickle\")"
   ]
  },
  {
   "cell_type": "markdown",
   "id": "1d7b15ad",
   "metadata": {},
   "source": [
    "# 2. Exercises"
   ]
  },
  {
   "cell_type": "markdown",
   "id": "ff98b60b",
   "metadata": {},
   "source": [
    "## 2.1 Fine-tuning process\n",
    "\n",
    "### Desscription\n",
    "\n",
    "You are training a model on a new dataset and you think you can use a fine-tuning approach instead of training from scratch (i.e., training from randomly initialized weights).\n",
    "\n",
    "To fine-tune a model on a new task, you need to follow a certain number of steps that are listed here.\n",
    "\n",
    "### Instructions\n",
    "\n",
    "* Order the sentences to follow the fine-tuning process.\n",
    "\n",
    "### Answer\n",
    "\n",
    "1. Find a model trained on a similar task\n",
    "2. Load pre-trained weights\n",
    "3. Freeze (or not) some of the layers in the model\n",
    "4. Train with a smaller learning rate\n",
    "5. Look at the loss values and see if the learning rate needs to be adjusted"
   ]
  },
  {
   "cell_type": "markdown",
   "id": "7ec60891",
   "metadata": {},
   "source": [
    "## 2.2 Freeze layers of a model\n",
    "\n",
    "### Description\n",
    "\n",
    "You are about to fine-tune a model on a new task after loading pre-trained weights. The model contains three linear layers. However, because your dataset is small, you only want to train the last linear layer of this model and freeze the first two linear layers.\n",
    "\n",
    "The model has already been created and exists under the variable ``model``. You will be using the ``named_parameters`` method of the model to list the parameters of the model. Each parameter is described by a name. This name is a string with the following naming convention: ``x.name`` where ``x`` is the index of the layer.\n",
    "\n",
    "Remember that a linear layer has two parameters: the ``weight`` and the ``bias``.\n",
    "\n",
    "### Instructions\n",
    "\n",
    "* Use an ``if`` statement to check if a parameter is a weight from the first or second layer.\n",
    "* Freeze the weights of the first two layers of this model."
   ]
  },
  {
   "cell_type": "code",
   "execution_count": 4,
   "id": "fc3d7bf4",
   "metadata": {},
   "outputs": [],
   "source": [
    "model =nn.Sequential(\n",
    "    nn.Linear(8, 16),\n",
    "    nn.Linear(16, 32),\n",
    "    nn.Linear(32, 10)\n",
    ")"
   ]
  },
  {
   "cell_type": "code",
   "execution_count": 5,
   "id": "042f4703",
   "metadata": {},
   "outputs": [
    {
     "data": {
      "text/plain": [
       "<generator object Module.named_parameters at 0x00000227B4B21C40>"
      ]
     },
     "execution_count": 5,
     "metadata": {},
     "output_type": "execute_result"
    }
   ],
   "source": [
    "model.named_parameters()"
   ]
  },
  {
   "cell_type": "code",
   "execution_count": 6,
   "id": "ba6117ad",
   "metadata": {},
   "outputs": [],
   "source": [
    "for name, param in model.named_parameters():\n",
    "  \n",
    "    # Check for first layer's weight\n",
    "    if name == '0.weight':\n",
    "   \n",
    "        # Freeze this weight\n",
    "         param.requires_grad = False\n",
    "        \n",
    "    # Check for second layer's weight\n",
    "    if name == '1.weight':\n",
    "      \n",
    "        # Freeze this weight\n",
    "        param.requires_grad = False"
   ]
  },
  {
   "cell_type": "markdown",
   "id": "1617a568",
   "metadata": {},
   "source": [
    "## 2.3 Layer initialization\n",
    "\n",
    "### Description\n",
    "\n",
    "The initialization of the weights of a neural network has been the focus of researchers for many years. When training a network, the method used to initialize the weights has a direct impact on the final performance of the network.\n",
    "\n",
    "As a machine learning practitioner, you should be able to experiment with different initialization strategies. In this exercise, you are creating a small neural network made of two layers and you are deciding to initialize each layer's weights with the uniform method.\n",
    "\n",
    "### Instructions\n",
    "\n",
    "* For each layer (``layer0`` and ``layer1``), use the uniform initialization method to initialize the weights."
   ]
  },
  {
   "cell_type": "code",
   "execution_count": 7,
   "id": "48f07bf2",
   "metadata": {},
   "outputs": [],
   "source": [
    "layer0 = nn.Linear(16, 32)\n",
    "layer1 = nn.Linear(32, 64)\n",
    "\n",
    "# Use uniform initialization for layer0 and layer1 weights\n",
    "nn.init.uniform_(layer0.weight)\n",
    "nn.init.uniform_(layer1.weight)\n",
    "\n",
    "model = nn.Sequential(layer0, layer1)"
   ]
  },
  {
   "cell_type": "markdown",
   "id": "5ef7420e",
   "metadata": {},
   "source": [
    "## 2.4 Writing the evaluation loop\n",
    "\n",
    "### Description\n",
    "\n",
    "In this exercise, you will write an evaluation loop to compute validation loss. The evaluation loop follows a similar structure to the training loop but without gradient calculations or weight updates.\n",
    "\n",
    "``model``, ``validationloader``, and loss function ``criterion`` have already been defined to handle predictions, data loading, and loss calculation.\n",
    "\n",
    "### Instructions\n",
    "\n",
    "* Set the model to evaluation mode.\n",
    "* Sum the current batch loss to the ``validation_loss`` variable.\n",
    "* Calculate the mean loss value for the epoch.\n",
    "* Set the model back to training mode."
   ]
  },
  {
   "cell_type": "code",
   "execution_count": 15,
   "id": "a6faddeb",
   "metadata": {},
   "outputs": [],
   "source": [
    "model = nn.Sequential(\n",
    "  transforms.Normalize(mean=[0.51378129, 0.44999619, 0.42258797], std=[0.25081163, 0.24213039, 0.24616128]),\n",
    "  nn.Flatten(start_dim=1, end_dim=-1),\n",
    "  nn.Linear(in_features=3072, out_features=3, bias=True)\n",
    ")\n",
    "\n",
    "# 100 samples, each is 3x32x32 (like a color image)\n",
    "x_val = torch.randn(100, 3, 32, 32)\n",
    "y_val = torch.randint(0, 3, (100,))  # 3 classes for output\n",
    "\n",
    "# Wrap data into a TensorDataset\n",
    "validation_dataset = TensorDataset(x_val, y_val)\n",
    "\n",
    "# Create DataLoader\n",
    "validationloader = DataLoader(\n",
    "    dataset=validation_dataset,\n",
    "    batch_size=8,\n",
    "    shuffle=True,\n",
    "    num_workers=0,\n",
    "    pin_memory=False\n",
    ")\n",
    "\n",
    "criterion = nn.CrossEntropyLoss()"
   ]
  },
  {
   "cell_type": "code",
   "execution_count": 16,
   "id": "12c5c253",
   "metadata": {},
   "outputs": [
    {
     "name": "stdout",
     "output_type": "stream",
     "text": [
      "2.9439631608816295\n"
     ]
    },
    {
     "data": {
      "text/plain": [
       "Sequential(\n",
       "  (0): Normalize(mean=[0.51378129, 0.44999619, 0.42258797], std=[0.25081163, 0.24213039, 0.24616128])\n",
       "  (1): Flatten(start_dim=1, end_dim=-1)\n",
       "  (2): Linear(in_features=3072, out_features=3, bias=True)\n",
       ")"
      ]
     },
     "execution_count": 16,
     "metadata": {},
     "output_type": "execute_result"
    }
   ],
   "source": [
    "# Set the model to evaluation mode\n",
    "model.eval()\n",
    "validation_loss = 0.0\n",
    "\n",
    "with torch.no_grad():\n",
    "  for features, labels in validationloader:\n",
    "      outputs = model(features)\n",
    "      loss = criterion(outputs, labels)\n",
    "      # Sum the current loss to the validation_loss variable\n",
    "      validation_loss += loss.item()\n",
    "      \n",
    "# Calculate the mean loss value\n",
    "validation_loss_epoch = validation_loss / len(validationloader)\n",
    "print(validation_loss_epoch)\n",
    "\n",
    "# Set the model back to training mode\n",
    "model.train()"
   ]
  },
  {
   "cell_type": "markdown",
   "id": "f294f697",
   "metadata": {},
   "source": [
    "DataCamp did not provide the dataset so I used a random generated one, thus, the reason for the high ``validation_loss_epoch``"
   ]
  },
  {
   "cell_type": "markdown",
   "id": "1e76e115",
   "metadata": {},
   "source": [
    "## 2.5 Calculating accuracy using torchmetrics\n",
    "\n",
    "### Description\n",
    "\n",
    "Tracking accuracy during training helps identify the best-performing epoch.\n",
    "\n",
    "In this exercise, you'll use ``torchmetrics`` to calculate accuracy on a facemask dataset with three classes. The ``plot_errors`` function will highlight misclassified samples, helping you analyze model errors.\n",
    "\n",
    "``torchmetrics`` package is already imported. Model ``outputs`` are softmax probabilities, and ``labels`` are one-hot encoded vectors.\n",
    "\n",
    "### Instructions\n",
    "\n",
    "* Create a ``\"multiclass\"`` accuracy metric with three classes.\n",
    "* Calculate the accuracy for each batch of the dataloader.\n",
    "* Calculate accuracy for the epoch.\n",
    "* Reset the metric for the next epoch."
   ]
  },
  {
   "cell_type": "code",
   "execution_count": 51,
   "id": "b9008a0d",
   "metadata": {},
   "outputs": [],
   "source": [
    "def plot_errors(model, dataloader):\n",
    "    # find mismatches\n",
    "    mismatches = []\n",
    "    for data in dataloader:\n",
    "        if len(mismatches) > 8:\n",
    "            break\n",
    "        features, labels = data\n",
    "        outputs = model(features)\n",
    "        gt = labels.argmax(-1)\n",
    "        pred = outputs.argmax(-1)\n",
    "        for f, g, p in zip(features, gt, pred):\n",
    "            if g != p:\n",
    "                mismatches.append((f, g, p))\n",
    "    \n",
    "    fig = plt.figure(figsize=(8, 8))\n",
    "    grid = ImageGrid(\n",
    "        fig, 111,            # similar to subplot(111)\n",
    "        nrows_ncols=(2, 4),  # creates 2x4 grid of axes\n",
    "        axes_pad=0.5         # pad between axes in inch\n",
    "    )\n",
    "    mapping = {0: 'No mask', 1: 'Mask', 2: 'Incorrect'}\n",
    "    for idx, ax in enumerate(grid):\n",
    "        ax.imshow(mismatches[idx][0].permute(1, 2, 0))\n",
    "        ax.set_title(f'GT: {mapping[mismatches[idx][1].item()]} \\n PRED: {mapping[mismatches[idx][2].item()]}')\n",
    "        ax.axis('off')\n",
    "    plt.show()"
   ]
  },
  {
   "cell_type": "code",
   "execution_count": 84,
   "id": "2eee39c9",
   "metadata": {},
   "outputs": [],
   "source": [
    "model = nn.Sequential(\n",
    "  transforms.Normalize(mean=[0.51378129, 0.44999619, 0.42258797], std=[0.25081163, 0.24213039, 0.24616128]),\n",
    "  nn.Flatten(start_dim=1, end_dim=-1),\n",
    "  nn.Linear(in_features=3072, out_features=3, bias=True)\n",
    ")\n",
    "\n",
    "X = face_mask_pkl[0]  \n",
    "y = face_mask_pkl[1]\n",
    "\n",
    "# If X is a numpy array of shape (N, 32, 32, 3):\n",
    "X = X.transpose(0, 3, 1, 2)  # (N, H, W, C) -> (N, C, H, W)\n",
    "\n",
    "# Convert inputs to a float tensor\n",
    "X_tensor = torch.from_numpy(X).float()\n",
    "\n",
    "# Convert labels (assumed shape (N,)) to tensor\n",
    "y_tensor = torch.from_numpy(y).long()\n",
    "\n",
    "# One-hot encode labels with 3 classes, shape will be (N, 3)\n",
    "y_onehot = F.one_hot(y_tensor, num_classes=3).float()\n",
    "\n",
    "# Create TensorDataset\n",
    "dataset = TensorDataset(X_tensor, y_onehot)\n",
    "\n",
    "dataloader = torch.utils.data.DataLoader(dataset, batch_size=8, shuffle=True)"
   ]
  },
  {
   "cell_type": "code",
   "execution_count": 85,
   "id": "c0b24e9f",
   "metadata": {},
   "outputs": [
    {
     "name": "stdout",
     "output_type": "stream",
     "text": [
      "X=355, y=355\n"
     ]
    }
   ],
   "source": [
    "print(f\"X={len(X)}, y={len(y)}\")"
   ]
  },
  {
   "cell_type": "code",
   "execution_count": 86,
   "id": "a9ec0f9c",
   "metadata": {},
   "outputs": [
    {
     "name": "stdout",
     "output_type": "stream",
     "text": [
      "X=(355, 3, 32, 32), y=(355,)\n"
     ]
    }
   ],
   "source": [
    "print(f\"X={X.shape}, y={y.shape}\")"
   ]
  },
  {
   "cell_type": "code",
   "execution_count": 89,
   "id": "d23cc27e",
   "metadata": {},
   "outputs": [
    {
     "data": {
      "text/plain": [
       "(tensor([[[0.3805, 0.4956, 0.5745,  ..., 0.3458, 0.2830, 0.1562],\n",
       "          [0.4494, 0.5682, 0.6146,  ..., 0.4056, 0.3996, 0.2205],\n",
       "          [0.5969, 0.6254, 0.6277,  ..., 0.4331, 0.4460, 0.3215],\n",
       "          ...,\n",
       "          [0.5146, 0.4928, 0.3325,  ..., 0.0950, 0.1720, 0.4064],\n",
       "          [0.5550, 0.5439, 0.4687,  ..., 0.0449, 0.0682, 0.1024],\n",
       "          [0.5292, 0.5158, 0.4659,  ..., 0.0348, 0.0414, 0.0542]],\n",
       " \n",
       "         [[0.3500, 0.4505, 0.5187,  ..., 0.2948, 0.2450, 0.1455],\n",
       "          [0.4000, 0.5035, 0.5421,  ..., 0.3570, 0.3558, 0.1937],\n",
       "          [0.5263, 0.5513, 0.5553,  ..., 0.3827, 0.4038, 0.2839],\n",
       "          ...,\n",
       "          [0.4635, 0.4443, 0.2953,  ..., 0.1077, 0.1756, 0.3635],\n",
       "          [0.4947, 0.4843, 0.4094,  ..., 0.0604, 0.0817, 0.1132],\n",
       "          [0.4653, 0.4545, 0.4054,  ..., 0.0503, 0.0574, 0.0692]],\n",
       " \n",
       "         [[0.3805, 0.4731, 0.5372,  ..., 0.3082, 0.2671, 0.1889],\n",
       "          [0.4165, 0.5162, 0.5586,  ..., 0.3616, 0.3639, 0.2254],\n",
       "          [0.5325, 0.5662, 0.5780,  ..., 0.3857, 0.4086, 0.2955],\n",
       "          ...,\n",
       "          [0.4504, 0.4249, 0.2949,  ..., 0.1724, 0.2305, 0.3557],\n",
       "          [0.4836, 0.4640, 0.3928,  ..., 0.1249, 0.1467, 0.1779],\n",
       "          [0.4605, 0.4388, 0.3898,  ..., 0.1115, 0.1189, 0.1332]]]),\n",
       " tensor([1., 0., 0.]))"
      ]
     },
     "execution_count": 89,
     "metadata": {},
     "output_type": "execute_result"
    }
   ],
   "source": [
    "dataloader.dataset[0]"
   ]
  },
  {
   "cell_type": "code",
   "execution_count": 90,
   "id": "b087e382",
   "metadata": {},
   "outputs": [
    {
     "name": "stdout",
     "output_type": "stream",
     "text": [
      "Accuracy on all data: 0.3633802831172943\n"
     ]
    },
    {
     "data": {
      "image/png": "[encoded data removed]",
      "text/plain": [
       "<Figure size 800x800 with 16 Axes>"
      ]
     },
     "metadata": {},
     "output_type": "display_data"
    }
   ],
   "source": [
    "# Create accuracy metric\n",
    "metric = torchmetrics.Accuracy(task=\"multiclass\", num_classes=3)\n",
    "for features, labels in dataloader:\n",
    "    outputs = model(features)\n",
    "    \n",
    "    # Calculate accuracy over the batch\n",
    "    metric.update(outputs, labels.argmax(dim=-1))\n",
    "    \n",
    "# Calculate accuracy over the whole epoch\n",
    "accuracy = metric.compute()\n",
    "print(f\"Accuracy on all data: {accuracy}\")\n",
    "\n",
    "# Reset metric for the next epoch\n",
    "metric.reset()\n",
    "plot_errors(model, dataloader)"
   ]
  },
  {
   "cell_type": "markdown",
   "id": "f655fbc5",
   "metadata": {},
   "source": [
    "## 2.6 Experimenting with dropout\n",
    "\n",
    "### Description\n",
    "\n",
    "Dropout helps prevent overfitting by randomly setting some output values to zero during training. In this exercise, you'll build a simple neural network with dropout and observe how it behaves in training and evaluation modes.\n",
    "\n",
    "``torch.nn`` package is preloaded as ``nn``, and ``features`` is already defined for you.\n",
    "\n",
    "### Instructions\n",
    "\n",
    "* Add a dropout layer to the model with a 50% probability of zeroing out elements.\n",
    "* Set the model to training mode and generate predictions using ``features``, storing the output as ``output_train``.\n",
    "* Set the model to evaluation mode to disable dropout.\n",
    "* Generate predictions using ``features``, storing the output as ``output_eval``."
   ]
  },
  {
   "cell_type": "code",
   "execution_count": 22,
   "id": "2550d074",
   "metadata": {},
   "outputs": [],
   "source": [
    "features = torch.tensor([[-1.6144,  0.3364, -0.3387,  0.7167, -1.6380,  0.1019, -0.2380, -0.8669]])"
   ]
  },
  {
   "cell_type": "code",
   "execution_count": 23,
   "id": "55f5432c",
   "metadata": {},
   "outputs": [
    {
     "name": "stdout",
     "output_type": "stream",
     "text": [
      "Output in train mode: tensor([[-0.0000,  0.0000, -0.4331, -0.0000]], grad_fn=<MulBackward0>)\n",
      "Output in eval mode: tensor([[-0.2564,  0.0561, -0.2166, -0.2583]], grad_fn=<AddmmBackward0>)\n"
     ]
    }
   ],
   "source": [
    "model = nn.Sequential(\n",
    "    nn.Linear(8, 6),\n",
    "    nn.Linear(6, 4),\n",
    "    nn.Dropout(p=0.5))\n",
    "\n",
    "model.train()\n",
    "output_train = model(features)\n",
    "\n",
    "# Forward pass in evaluation mode (Dropout disabled)\n",
    "model.eval()\n",
    "output_eval = model(features)\n",
    "\n",
    "# Print results\n",
    "print(\"Output in train mode:\", output_train)\n",
    "print(\"Output in eval mode:\", output_eval)"
   ]
  },
  {
   "cell_type": "markdown",
   "id": "0c307db2",
   "metadata": {},
   "source": [
    "## 2.7 Quiz: Understanding overfitting\n",
    "\n",
    "### Description\n",
    "\n",
    "Overfitting is very common in machine learning, where the trend is for bigger and bigger models. As a machine learning practitioner, you will face overfitting in your career. \n",
    "\n",
    "### Instructions\n",
    "\n",
    "Which three of the following statements about overfitting are True?\n",
    "\n",
    "### Answers\n",
    "\n",
    "1. Overfitting happens when the model is performing worse on the validation set than on the training set. [X]\n",
    "2. Data augmentation can reduce overfitting by artificially increasing the size of the training set. [X]\n",
    "3. Using a weight decay factor of zero will reduce overfitting.\n",
    "4. A dropout layer with a probability greater than zero will help reduce overfitting. [X]"
   ]
  },
  {
   "cell_type": "markdown",
   "id": "8638e6b9",
   "metadata": {},
   "source": [
    "## 2.8 Implementing random search\n",
    "\n",
    "### Description\n",
    "\n",
    "Hyperparameter search is a computationally costly approach to experiment with different hyperparameter values. However, it can lead to performance improvements. In this exercise, you will implement a random search algorithm.\n",
    "\n",
    "You will randomly sample 10 values of the learning rate and momentum from the uniform distribution. To do so, you will use the ``np.random.uniform()`` function.\n",
    "\n",
    "``numpy`` package has already been imported as ``np``, and a ``plot_hyperparameter_search()`` function has been created to visualize your results.\n",
    "\n",
    "### Instructions\n",
    "\n",
    "* Randomly sample a learning rate factor between ``2`` and ``4`` so that the learning rate (``lr``) is bounded between 10<sup>-2</sup> and 10<sup>-4</sup> \n",
    "* Randomly sample a momentum between 0.85 and 0.99."
   ]
  },
  {
   "cell_type": "code",
   "execution_count": 24,
   "id": "20cbf56c",
   "metadata": {},
   "outputs": [],
   "source": [
    "def plot_hyperparameter_search(values):\n",
    "    lrs, momentums = zip(*values)\n",
    "\n",
    "    plt.figure(figsize=(8, 6))\n",
    "    plt.scatter(lrs, momentums)\n",
    "    plt.xscale(\"log\")  # Use log scale for learning rate\n",
    "    plt.xlabel(\"Learning Rate\")\n",
    "    plt.ylabel(\"Momentum\")\n",
    "    # plt.title(\"Randomly Sampled Learning Rates and Momentum\")\n",
    "    plt.grid(True, which=\"both\", linestyle=\"--\", linewidth=0.5)\n",
    "\n",
    "    # Set specific tick marks on the x-axis\n",
    "    plt.xticks([10**-2, 10**-3, 10**-4], \n",
    "               [r'$10^{-2}$', r'$10^{-3}$', r'$10^{-4}$'])\n",
    "\n",
    "    plt.show()\n"
   ]
  },
  {
   "cell_type": "code",
   "execution_count": 25,
   "id": "47294414",
   "metadata": {},
   "outputs": [
    {
     "data": {
      "image/png": "[encoded data removed]",
      "text/plain": [
       "<Figure size 800x600 with 1 Axes>"
      ]
     },
     "metadata": {},
     "output_type": "display_data"
    }
   ],
   "source": [
    "values = []\n",
    "for idx in range(10):\n",
    "    # Randomly sample a learning rate factor between 2 and 4\n",
    "    factor = np.random.uniform(2,4)\n",
    "    lr = 10 ** -factor\n",
    "    \n",
    "    # Randomly select a momentum between 0.85 and 0.99\n",
    "    momentum = np.random.uniform(0.85, 0.99)\n",
    "    \n",
    "    values.append((lr, momentum))\n",
    "       \n",
    "plot_hyperparameter_search(values)"
   ]
  },
  {
   "cell_type": "markdown",
   "id": "31fe301c",
   "metadata": {},
   "source": [
    "Random search helps refine hyperparameters efficiently. Just remember—keeping track of results is key to understanding what works best for your model."
   ]
  }
 ],
 "metadata": {
  "kernelspec": {
   "display_name": "Python 3",
   "language": "python",
   "name": "python3"
  },
  "language_info": {
   "codemirror_mode": {
    "name": "ipython",
    "version": 3
   },
   "file_extension": ".py",
   "mimetype": "text/x-python",
   "name": "python",
   "nbconvert_exporter": "python",
   "pygments_lexer": "ipython3",
   "version": "3.12.2"
  }
 },
 "nbformat": 4,
 "nbformat_minor": 5
}
