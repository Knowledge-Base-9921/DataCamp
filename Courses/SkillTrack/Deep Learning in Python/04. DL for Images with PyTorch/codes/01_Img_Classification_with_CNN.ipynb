{
 "cells": [
  {
   "cell_type": "markdown",
   "id": "8c7c3572",
   "metadata": {},
   "source": [
    "# 1. Image Classification with CNNs\n",
    "\n",
    "Learn about image classification with CNNs, the difference between the binary and multi-class image classification models, and how to use transfer learning for image classification in PyTorch."
   ]
  },
  {
   "cell_type": "markdown",
   "id": "df66452c",
   "metadata": {},
   "source": [
    "## 1.1 Import Libraries"
   ]
  },
  {
   "cell_type": "code",
   "execution_count": 1,
   "id": "8ae56673",
   "metadata": {},
   "outputs": [],
   "source": [
    "import torch\n",
    "import numpy as np"
   ]
  },
  {
   "cell_type": "markdown",
   "id": "0f2b0861",
   "metadata": {},
   "source": [
    "## 1.2 User Variables"
   ]
  },
  {
   "cell_type": "code",
   "execution_count": null,
   "id": "0530a956",
   "metadata": {},
   "outputs": [],
   "source": [
    "# No user variables here"
   ]
  },
  {
   "cell_type": "markdown",
   "id": "ca82edb7",
   "metadata": {},
   "source": [
    "# 2. Exercises"
   ]
  },
  {
   "cell_type": "markdown",
   "id": "784ece17",
   "metadata": {},
   "source": [
    "## 2.1 Quiz: The number of classes\n",
    "\n",
    "### Description\n",
    "\n",
    "To determine whether to use a binary or a multi-class model for a classification problem, you need to know the number of classes in the data. The Torch dataset is available in your workspace as train_dataset.\n",
    "\n",
    "### Instructions\n",
    "\n",
    "Considering the number of classes in train_dataset, which image classification task would be appropriate?"
   ]
  },
  {
   "cell_type": "markdown",
   "id": "eec6ebac",
   "metadata": {},
   "source": []
  }
 ],
 "metadata": {
  "kernelspec": {
   "display_name": "Python 3",
   "language": "python",
   "name": "python3"
  },
  "language_info": {
   "codemirror_mode": {
    "name": "ipython",
    "version": 3
   },
   "file_extension": ".py",
   "mimetype": "text/x-python",
   "name": "python",
   "nbconvert_exporter": "python",
   "pygments_lexer": "ipython3",
   "version": "3.12.2"
  }
 },
 "nbformat": 4,
 "nbformat_minor": 5
}
