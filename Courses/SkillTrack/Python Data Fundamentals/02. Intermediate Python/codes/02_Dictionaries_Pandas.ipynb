{
 "cells": [
  {
   "cell_type": "markdown",
   "id": "14545588",
   "metadata": {},
   "source": [
    "# 1. Dictionaries & Pandas\n",
    "\n",
    "Learn about the dictionary, an alternative to the Python list, and the pandas DataFrame, the de facto standard to work with tabular data in Python. You will get hands-on practice with creating and manipulating datasets, and you’ll learn how to access the information you need from these data structures."
   ]
  },
  {
   "cell_type": "markdown",
   "id": "62d5b5fc",
   "metadata": {},
   "source": [
    "## 1.1 Import Libraries"
   ]
  },
  {
   "cell_type": "code",
   "execution_count": 1,
   "id": "bddc174c",
   "metadata": {},
   "outputs": [],
   "source": [
    "import matplotlib.pyplot as plt\n",
    "import pandas as pd"
   ]
  },
  {
   "cell_type": "markdown",
   "id": "48db9a28",
   "metadata": {},
   "source": [
    "## 1.2 User Variables"
   ]
  },
  {
   "cell_type": "code",
   "execution_count": 2,
   "id": "51b4f30a",
   "metadata": {},
   "outputs": [],
   "source": [
    "# No user variables for this exercise"
   ]
  },
  {
   "cell_type": "markdown",
   "id": "70629c99",
   "metadata": {},
   "source": [
    "# 2. Exercises"
   ]
  },
  {
   "cell_type": "markdown",
   "id": "371de165",
   "metadata": {},
   "source": [
    "## 2.1 Motivation for dictionaries\n",
    "\n",
    "### Description\n",
    "\n",
    "To see why dictionaries are useful, have a look at the two lists defined in the script. ``countries`` contains the names of some European countries. ``capitals`` lists the corresponding names of their capital.\n",
    "\n",
    "### Instructions\n",
    "\n",
    "* Use the ``index()`` method on ``countries`` to find the index of ``'germany'``. Store this index as ``ind_ger``.\n",
    "* Use ``ind_ger`` to access the capital of Germany from the ``capitals`` list. Print it out."
   ]
  },
  {
   "cell_type": "code",
   "execution_count": 3,
   "id": "b2064f52",
   "metadata": {},
   "outputs": [
    {
     "name": "stdout",
     "output_type": "stream",
     "text": [
      "berlin\n"
     ]
    }
   ],
   "source": [
    "# Definition of countries and capital\n",
    "countries = ['spain', 'france', 'germany', 'norway']\n",
    "capitals = ['madrid', 'paris', 'berlin', 'oslo']\n",
    "\n",
    "# Get index of 'germany': ind_ger\n",
    "ind_Ger = countries.index(\"germany\")\n",
    "\n",
    "# Use ind_ger to print out capital of Germany\n",
    "print(capitals[ind_Ger])"
   ]
  },
  {
   "cell_type": "markdown",
   "id": "e0f8d7b0",
   "metadata": {},
   "source": [
    "## 2.2 Create dictionary\n",
    "\n",
    "### Description\n",
    "\n",
    "The ``countries`` and ``capitals`` lists are again available in the script. It's your job to convert this data to a dictionary where the country names are the keys and the capitals are the corresponding values. As a refresher, here is a recipe for creating a dictionary:\n",
    "\n",
    "```py\n",
    "my_dict = {\n",
    "   \"key1\":\"value1\",\n",
    "   \"key2\":\"value2\",\n",
    "}\n",
    "```\n",
    "\n",
    "In this recipe, both the keys and the values are strings. This will also be the case for this exercise.\n",
    "\n",
    "### Instructions\n",
    "\n",
    "* With the strings in ``countries`` and ``capitals``, create a dictionary called ``europe`` with 4 key:value pairs. Beware of capitalization! Make sure you use lowercase characters everywhere.\n",
    "* Print out ``europe`` to see if the result is what you expected."
   ]
  },
  {
   "cell_type": "code",
   "execution_count": 4,
   "id": "3f7afc75",
   "metadata": {},
   "outputs": [
    {
     "name": "stdout",
     "output_type": "stream",
     "text": [
      "{'spain': 'madrid', 'france': 'paris', 'germany': 'berlin', 'norway': 'oslo'}\n"
     ]
    }
   ],
   "source": [
    "# Definition of countries and capital\n",
    "countries = ['spain', 'france', 'germany', 'norway']\n",
    "capitals = ['madrid', 'paris', 'berlin', 'oslo']\n",
    "\n",
    "# From string in countries and capitals, create dictionary europe\n",
    "# europe = {'spain':'madrid', ___, ___, ___ }\n",
    "europe = {k:v for k,v in zip(countries, capitals)}\n",
    "\n",
    "# Print europe\n",
    "print(europe)"
   ]
  },
  {
   "cell_type": "markdown",
   "id": "189a5992",
   "metadata": {},
   "source": [
    "## 2.3 Access dictionary\n",
    "\n",
    "### Description\n",
    "\n",
    "If the keys of a dictionary are chosen wisely, accessing the values in a dictionary is easy and intuitive. For example, to get the capital for France from europe you can use:\n",
    "\n",
    "```py\n",
    "europe['france']\n",
    "```\n",
    "\n",
    "Here, ``'france'`` is the key and ``'paris'`` the value is returned.\n",
    "\n",
    "### Instructions\n",
    "\n",
    "* Check out which keys are in ``europe`` by calling the ``keys()`` method on ``europe``. Print out the result.\n",
    "* Print out the value that belongs to the key ``'norway'``."
   ]
  },
  {
   "cell_type": "code",
   "execution_count": 5,
   "id": "ea308af2",
   "metadata": {},
   "outputs": [
    {
     "name": "stdout",
     "output_type": "stream",
     "text": [
      "dict_keys(['spain', 'france', 'germany', 'norway'])\n",
      "oslo\n"
     ]
    }
   ],
   "source": [
    "# Definition of dictionary\n",
    "europe = {'spain':'madrid', 'france':'paris', 'germany':'berlin', 'norway':'oslo' }\n",
    "\n",
    "# Print out the keys in europe\n",
    "print(europe.keys())\n",
    "\n",
    "# Print out value that belongs to key 'norway'\n",
    "print(europe[\"norway\"])"
   ]
  },
  {
   "cell_type": "markdown",
   "id": "a19ca073",
   "metadata": {},
   "source": [
    "## 2.4 Dictionary Manipulation (1)\n",
    "\n",
    "### Description\n",
    "\n",
    "If you know how to access a dictionary, you can also assign a new value to it. To add a new key-value pair to ``europe`` you can use something like this:\n",
    "\n",
    "```py\n",
    "europe['iceland'] = 'reykjavik'\n",
    "```\n",
    "\n",
    "### Instructions\n",
    "\n",
    "* Add the key ``'italy'`` with the value ``'rome'`` to ``europe``.\n",
    "* To assert that ``'italy'`` is now a key in ``europe``, print out ``'italy in europe``.\n",
    "* Add another key:value pair to ``europe: 'poland'`` is the key, ``'warsaw'`` is the corresponding value.\n",
    "* Print out ``europe``."
   ]
  },
  {
   "cell_type": "code",
   "execution_count": 6,
   "id": "95891421",
   "metadata": {},
   "outputs": [
    {
     "name": "stdout",
     "output_type": "stream",
     "text": [
      "True\n",
      "{'spain': 'madrid', 'france': 'paris', 'germany': 'berlin', 'norway': 'oslo', 'italy': 'rome', 'poland': 'warsaw'}\n"
     ]
    }
   ],
   "source": [
    "# Definition of dictionary\n",
    "europe = {'spain':'madrid', 'france':'paris', 'germany':'berlin', 'norway':'oslo' }\n",
    "\n",
    "# Add italy to europe\n",
    "europe[\"italy\"] = \"rome\"\n",
    "\n",
    "# Print out italy in europe\n",
    "print('italy' in europe)\n",
    "\n",
    "# Add poland to europe\n",
    "europe[\"poland\"] = \"warsaw\"\n",
    "\n",
    "# Print europe\n",
    "print(europe)"
   ]
  },
  {
   "cell_type": "markdown",
   "id": "5fde2c89",
   "metadata": {},
   "source": [
    "## 2.5 Dictionary Manipulation (2)\n",
    "\n",
    "### Description\n",
    "\n",
    "Somebody thought it would be funny to mess with your accurately generated dictionary. An adapted version of the ``europe`` dictionary is available in the script.\n",
    "\n",
    "Can you clean up? Do not do this by adapting the definition of ``europe``, but by adding Python commands to the script to update and remove key:value pairs.\n",
    "\n",
    "### Instructions\n",
    "\n",
    "* The capital of Germany is not ``'bonn'``; it's ``'berlin'``. Update its value.\n",
    "* Australia is not in Europe, Austria is! Remove the key ``'australia'`` from ``europe``.\n",
    "* Print out ``europe`` to see if your cleaning work paid off."
   ]
  },
  {
   "cell_type": "code",
   "execution_count": 7,
   "id": "deeccf2c",
   "metadata": {},
   "outputs": [
    {
     "name": "stdout",
     "output_type": "stream",
     "text": [
      "{'spain': 'madrid', 'france': 'paris', 'germany': 'berlin', 'norway': 'oslo', 'italy': 'rome', 'poland': 'warsaw'}\n"
     ]
    }
   ],
   "source": [
    "# Definition of dictionary\n",
    "europe = {'spain':'madrid', 'france':'paris', 'germany':'bonn',\n",
    "          'norway':'oslo', 'italy':'rome', 'poland':'warsaw',\n",
    "          'australia':'vienna' }\n",
    "\n",
    "# Update capital of germany\n",
    "europe[\"germany\"] = \"berlin\"\n",
    "\n",
    "# Remove australia\n",
    "del europe[\"australia\"]\n",
    "\n",
    "# Print europe\n",
    "print(europe)"
   ]
  },
  {
   "cell_type": "markdown",
   "id": "fd76aa70",
   "metadata": {},
   "source": [
    "## 2.6 Dictionariception\n",
    "\n",
    "### Description\n",
    "\n",
    "Remember lists? They could contain anything, even other lists. Well, for dictionaries the same holds. Dictionaries can contain key:value pairs where the values are again dictionaries.\n",
    "\n",
    "As an example, have a look at the script where another version of ``europe`` - the dictionary you've been working with all along - is coded. The keys are still the country names, but the values are dictionaries that contain more information than just the capital.\n",
    "\n",
    "It's perfectly possible to chain square brackets to select elements. To fetch the population for Spain from ``europe``, for example, you need:\n",
    "\n",
    "```py\n",
    "europe['spain']['population']\n",
    "```\n",
    "\n",
    "### Instructions\n",
    "\n",
    "* Use chained square brackets to select and print out the capital of France.\n",
    "* Create a dictionary, named ``data``, with the keys ``'capital'`` and ``'population'``. Set them to ``'rome'`` and ``59.83``, respectively.\n",
    "* Add a new key-value pair to ``europe``; the key is ``'italy'`` and the value is ``data``, the dictionary you just built."
   ]
  },
  {
   "cell_type": "code",
   "execution_count": 8,
   "id": "ded41000",
   "metadata": {},
   "outputs": [
    {
     "name": "stdout",
     "output_type": "stream",
     "text": [
      "paris\n",
      "{'spain': {'capital': 'madrid', 'population': 46.77}, 'france': {'capital': 'paris', 'population': 66.03}, 'germany': {'capital': 'berlin', 'population': 80.62}, 'norway': {'capital': 'oslo', 'population': 5.084}, 'italy': {'capital': 'rome', 'population': 59.83}}\n"
     ]
    }
   ],
   "source": [
    "# Dictionary of dictionaries\n",
    "europe = { 'spain': { 'capital':'madrid', 'population':46.77 },\n",
    "           'france': { 'capital':'paris', 'population':66.03 },\n",
    "           'germany': { 'capital':'berlin', 'population':80.62 },\n",
    "           'norway': { 'capital':'oslo', 'population':5.084 } }\n",
    "\n",
    "\n",
    "# Print out the capital of France\n",
    "print(europe[\"france\"][\"capital\"])\n",
    "\n",
    "# Create sub-dictionary data\n",
    "data = {\"capital\":\"rome\", \"population\":59.83}\n",
    "\n",
    "# Add data to europe under key 'italy'\n",
    "europe[\"italy\"] = data\n",
    "\n",
    "# Print europe\n",
    "print(europe)"
   ]
  },
  {
   "cell_type": "markdown",
   "id": "c8b5ed89",
   "metadata": {},
   "source": [
    "## 2.7 Dictionary to DataFrame (1)\n",
    "\n",
    "### Description\n",
    "\n",
    "Pandas is an open source library, providing high-performance, easy-to-use data structures and data analysis tools for Python. Sounds promising!\n",
    "\n",
    "The DataFrame is one of Pandas' most important data structures. It's basically a way to store tabular data where you can label the rows and the columns. One way to build a DataFrame is from a dictionary.\n",
    "\n",
    "In the exercises that follow you will be working with vehicle data from different countries. Each observation corresponds to a country and the columns give information about the number of vehicles per capita, whether people drive left or right, and so on.\n",
    "\n",
    "Three lists are defined in the script:\n",
    "\n",
    "* ``names``, containing the country names for which data is available.\n",
    "* ``dr``, a list with booleans that tells whether people drive left or right in the corresponding country.\n",
    "* ``cpc``, the number of motor vehicles per 1000 people in the corresponding country.\n",
    "\n",
    "Each dictionary key is a column label and each value is a list which contains the column elements.\n",
    "\n",
    "### Instructions\n",
    "\n",
    "* Import ``pandas`` as ``pd``.\n",
    "* Use the pre-defined lists to create a dictionary called ``my_dict``. There should be three key value pairs:\n",
    "    * key ``'country'`` and value ``names``.\n",
    "    * key ``'drives_right'`` and value ``dr``.\n",
    "    * key ``'cars_per_cap'`` and value ``cpc``.\n",
    "* Use ``pd.DataFrame()`` to turn your dict into a DataFrame called ``cars``.\n",
    "* Print out ``cars`` and see how beautiful it is."
   ]
  },
  {
   "cell_type": "code",
   "execution_count": 9,
   "id": "766592c2",
   "metadata": {},
   "outputs": [
    {
     "name": "stdout",
     "output_type": "stream",
     "text": [
      "         country  drives_right  cars_per_cap\n",
      "0  United States          True           809\n",
      "1      Australia         False           731\n",
      "2          Japan         False           588\n",
      "3          India         False            18\n",
      "4         Russia          True           200\n",
      "5        Morocco          True            70\n",
      "6          Egypt          True            45\n"
     ]
    }
   ],
   "source": [
    "# Pre-defined lists\n",
    "names = ['United States', 'Australia', 'Japan', 'India', 'Russia', 'Morocco', 'Egypt']\n",
    "dr =  [True, False, False, False, True, True, True]\n",
    "cpc = [809, 731, 588, 18, 200, 70, 45]\n",
    "\n",
    "# Import pandas as pd\n",
    "import pandas as pd\n",
    "\n",
    "# Create dictionary my_dict with three key:value pairs: my_dict\n",
    "my_dict = {\"country\": names, \"drives_right\": dr, \"cars_per_cap\": cpc}\n",
    "\n",
    "# Build a DataFrame cars from my_dict: cars\n",
    "cars = pd.DataFrame(my_dict)\n",
    "\n",
    "# Print cars\n",
    "print(cars)"
   ]
  },
  {
   "cell_type": "markdown",
   "id": "b2cac4ac",
   "metadata": {},
   "source": [
    "## 2.8 Dictionary to DataFrame (2)\n",
    "\n",
    "### Description\n",
    "\n",
    "The Python code that solves the previous exercise is included in the script. Have you noticed that the row labels (i.e. the labels for the different observations) were automatically set to integers from 0 up to 6?\n",
    "\n",
    "To solve this a list ``row_labels`` has been created. You can use it to specify the row labels of the cars DataFrame. You do this by setting the ``index`` attribute of ``cars``, that you can access as ``cars.index``.\n",
    "\n",
    "### Instructions\n",
    "\n",
    "* Hit <i>Run Code</i> to see that, indeed, the row labels are not correctly set.\n",
    "* Specify the row labels by setting ``cars.index`` equal to ``row_labels``.\n",
    "* Print out ``cars`` again and check if the row labels are correct this time."
   ]
  },
  {
   "cell_type": "code",
   "execution_count": 10,
   "id": "28c12b15",
   "metadata": {},
   "outputs": [
    {
     "name": "stdout",
     "output_type": "stream",
     "text": [
      "         country  drives_right  cars_per_cap\n",
      "0  United States          True           809\n",
      "1      Australia         False           731\n",
      "2          Japan         False           588\n",
      "3          India         False            18\n",
      "4         Russia          True           200\n",
      "5        Morocco          True            70\n",
      "6          Egypt          True            45\n",
      "           country  drives_right  cars_per_cap\n",
      "US   United States          True           809\n",
      "AUS      Australia         False           731\n",
      "JPN          Japan         False           588\n",
      "IN           India         False            18\n",
      "RU          Russia          True           200\n",
      "MOR        Morocco          True            70\n",
      "EG           Egypt          True            45\n"
     ]
    }
   ],
   "source": [
    "import pandas as pd\n",
    "\n",
    "# Build cars DataFrame\n",
    "names = ['United States', 'Australia', 'Japan', 'India', 'Russia', 'Morocco', 'Egypt']\n",
    "dr =  [True, False, False, False, True, True, True]\n",
    "cpc = [809, 731, 588, 18, 200, 70, 45]\n",
    "cars_dict = { 'country':names, 'drives_right':dr, 'cars_per_cap':cpc }\n",
    "cars = pd.DataFrame(cars_dict)\n",
    "print(cars)\n",
    "\n",
    "# Definition of row_labels\n",
    "row_labels = ['US', 'AUS', 'JPN', 'IN', 'RU', 'MOR', 'EG']\n",
    "\n",
    "# Specify row labels of cars\n",
    "cars.index = row_labels\n",
    "\n",
    "# Print cars again\n",
    "print(cars)"
   ]
  },
  {
   "cell_type": "markdown",
   "id": "dc4b1575",
   "metadata": {},
   "source": [
    "## 2.9 CSV to DataFrame (1)\n",
    "\n",
    "### Descriptions\n",
    "\n",
    "Putting data in a dictionary and then building a DataFrame works, but it's not very efficient. What if you're dealing with millions of observations? In those cases, the data is typically available as files with a regular structure. One of those file types is the CSV file, which is short for \"comma-separated values\".\n",
    "\n",
    "To import CSV data into Python as a Pandas DataFrame you can use ``read_csv()``.\n",
    "\n",
    "Let's explore this function with the same cars data from the previous exercises. This time, however, the data is available in a CSV file, named ``cars.csv``. It is available in your current working directory, so the path to the file is simply ``'cars.csv'``.\n",
    "\n",
    "### Instructions\n",
    "\n",
    "* To import CSV files you still need the ``pandas`` package: import it as ``pd``.\n",
    "* Use ``pd.read_csv()`` to import ``cars.csv`` data as a DataFrame. Store this DataFrame as ``cars``.\n",
    "* Print out ``cars``. Does everything look OK?"
   ]
  },
  {
   "cell_type": "code",
   "execution_count": 12,
   "id": "ac9d23bb",
   "metadata": {},
   "outputs": [
    {
     "name": "stdout",
     "output_type": "stream",
     "text": [
      "  Unnamed: 0  cars_per_cap        country  drives_right\n",
      "0         US           809  United States          True\n",
      "1        AUS           731      Australia         False\n",
      "2        JAP           588          Japan         False\n",
      "3         IN            18          India         False\n",
      "4         RU           200         Russia          True\n",
      "5        MOR            70        Morocco          True\n",
      "6         EG            45          Egypt          True\n"
     ]
    }
   ],
   "source": [
    "# Import pandas as pd\n",
    "import pandas as pd\n",
    "\n",
    "# Import the cars.csv data: cars\n",
    "cars = pd.read_csv(\"../datasets/cars.csv\")\n",
    "\n",
    "# Print out cars\n",
    "print(cars)"
   ]
  },
  {
   "cell_type": "markdown",
   "id": "abde7aa3",
   "metadata": {},
   "source": [
    "## 2.10 CSV to DataFrame (2)\n",
    "\n",
    "### Description\n",
    "\n",
    "Your ``read_csv()`` call to import the CSV data didn't generate an error, but the output is not entirely what we wanted. The row labels were imported as another column without a name.\n",
    "\n",
    "Remember ``index_col``, an argument of ``read_csv()``, that you can use to specify which column in the CSV file should be used as a row label? Well, that's exactly what you need here!\n",
    "\n",
    "Python code that solves the previous exercise is already included; can you make the appropriate changes to fix the data import?\n",
    "\n",
    "### Instructions\n",
    "\n",
    "* Run the code with <i>Run Code</i> and assert that the first column should actually be used as row labels.\n",
    "* Specify the ``index_col`` argument inside ``pd.read_csv()``: set it to ``0``, so that the first column is used as row labels.\n",
    "* Has the printout of ``cars`` improved now?"
   ]
  },
  {
   "cell_type": "code",
   "execution_count": 14,
   "id": "70e09222",
   "metadata": {},
   "outputs": [
    {
     "name": "stdout",
     "output_type": "stream",
     "text": [
      "     cars_per_cap        country  drives_right\n",
      "US            809  United States          True\n",
      "AUS           731      Australia         False\n",
      "JAP           588          Japan         False\n",
      "IN             18          India         False\n",
      "RU            200         Russia          True\n",
      "MOR            70        Morocco          True\n",
      "EG             45          Egypt          True\n"
     ]
    }
   ],
   "source": [
    "# Import pandas as pd\n",
    "import pandas as pd\n",
    "\n",
    "# Fix import by including index_col\n",
    "cars = pd.read_csv('../datasets/cars.csv', index_col=0)\n",
    "\n",
    "# Print out cars\n",
    "print(cars)"
   ]
  },
  {
   "cell_type": "markdown",
   "id": "5d50ffc0",
   "metadata": {},
   "source": [
    "## 2.11 Square Brackets (1)\n",
    "\n",
    "### Description\n",
    "\n",
    "In the video, you saw that you can index and select Pandas DataFrames in many different ways. The simplest, but not the most powerful way, is to use square brackets.\n",
    "\n",
    "In the sample code, the same cars data is imported from a CSV files as a Pandas DataFrame. To select only the ``cars_per_cap`` column from ``cars``, you can use:\n",
    "\n",
    "```py\n",
    "cars['cars_per_cap']\n",
    "cars[['cars_per_cap']]\n",
    "```\n",
    "\n",
    "The single bracket version gives a Pandas Series, the double bracket version gives a Pandas DataFrame.\n",
    "\n",
    "### Instructions\n",
    "\n",
    "* Use single square brackets to print out the ``country`` column of ``cars`` as a Pandas Series.\n",
    "* Use double square brackets to print out the ``country`` column of ``cars`` as a Pandas DataFrame.\n",
    "* Use double square brackets to print out a DataFrame with both the ``country`` and ``drives_right`` columns of ``cars``, in this order."
   ]
  },
  {
   "cell_type": "code",
   "execution_count": 16,
   "id": "6981dbf8",
   "metadata": {},
   "outputs": [
    {
     "name": "stdout",
     "output_type": "stream",
     "text": [
      "US     United States\n",
      "AUS        Australia\n",
      "JAP            Japan\n",
      "IN             India\n",
      "RU            Russia\n",
      "MOR          Morocco\n",
      "EG             Egypt\n",
      "Name: country, dtype: object\n",
      "           country\n",
      "US   United States\n",
      "AUS      Australia\n",
      "JAP          Japan\n",
      "IN           India\n",
      "RU          Russia\n",
      "MOR        Morocco\n",
      "EG           Egypt\n",
      "           country  drives_right\n",
      "US   United States          True\n",
      "AUS      Australia         False\n",
      "JAP          Japan         False\n",
      "IN           India         False\n",
      "RU          Russia          True\n",
      "MOR        Morocco          True\n",
      "EG           Egypt          True\n"
     ]
    }
   ],
   "source": [
    "# Import cars data\n",
    "import pandas as pd\n",
    "cars = pd.read_csv('../datasets/cars.csv', index_col = 0)\n",
    "\n",
    "# Print out country column as Pandas Series\n",
    "print(cars[\"country\"]) # also, cars.country\n",
    "\n",
    "# Print out country column as Pandas DataFrame\n",
    "print(cars[[\"country\"]])\n",
    "\n",
    "# Print out DataFrame with country and drives_right columns\n",
    "print(cars[[\"country\", \"drives_right\"]])"
   ]
  },
  {
   "cell_type": "markdown",
   "id": "9805e656",
   "metadata": {},
   "source": [
    "## 2.12 Square Brackets (2)\n",
    "\n",
    "### Description\n",
    "\n",
    "Square brackets can do more than just selecting columns. You can also use them to get rows, or observations, from a DataFrame. The following call selects the first five rows from the ``cars`` DataFrame:\n",
    "\n",
    "```py\n",
    "cars[0:5]\n",
    "```\n",
    "\n",
    "The result is another DataFrame containing only the rows you specified.\n",
    "\n",
    "Pay attention: You can only select rows using square brackets if you specify a slice, like ``0:4``. Also, you're using the integer indexes of the rows here, not the row labels!\n",
    "\n",
    "### Instructions\n",
    "\n",
    "* Select the first 3 observations from ``cars`` and print them out.\n",
    "* Select the fourth, fifth and sixth observation, corresponding to row indexes 3, 4 and 5, and print them out."
   ]
  },
  {
   "cell_type": "code",
   "execution_count": 18,
   "id": "56f65fcd",
   "metadata": {},
   "outputs": [
    {
     "name": "stdout",
     "output_type": "stream",
     "text": [
      "     cars_per_cap        country  drives_right\n",
      "US            809  United States          True\n",
      "AUS           731      Australia         False\n",
      "JAP           588          Japan         False\n",
      "     cars_per_cap  country  drives_right\n",
      "IN             18    India         False\n",
      "RU            200   Russia          True\n",
      "MOR            70  Morocco          True\n"
     ]
    }
   ],
   "source": [
    "# Import cars data\n",
    "import pandas as pd\n",
    "cars = pd.read_csv('../datasets/cars.csv', index_col = 0)\n",
    "\n",
    "# Print out first 3 observations\n",
    "print(cars[0:3])\n",
    "\n",
    "# Print out fourth, fifth and sixth observation\n",
    "print(cars[3:6])"
   ]
  },
  {
   "cell_type": "markdown",
   "id": "76c6ad4c",
   "metadata": {},
   "source": [
    "## 2.13 loc and iloc (1)\n",
    "\n",
    "### Descriptions\n",
    "\n",
    "With ``loc`` and ``iloc`` you can do practically any data selection operation on DataFrames you can think of. ``loc`` is label-based, which means that you have to specify rows and columns based on their row and column labels. ``iloc`` is integer index based, so you have to specify rows and columns by their integer index like you did in the previous exercise.\n",
    "\n",
    "Try out the following commands to experiment with ``loc`` and ``iloc`` to select observations. Each pair of commands here gives the same result.\n",
    "\n",
    "```py\n",
    "cars.loc['RU']\n",
    "cars.iloc[4]\n",
    "\n",
    "cars.loc[['RU']]\n",
    "cars.iloc[[4]]\n",
    "\n",
    "cars.loc[['RU', 'AUS']]\n",
    "cars.iloc[[4, 1]]\n",
    "```\n",
    "\n",
    "As before, code is included that imports the cars data as a Pandas DataFrame.\n",
    "\n",
    "### Instructions\n",
    "\n",
    "* Use ``loc`` or ``iloc`` to select the observation corresponding to Japan as a Series. The label of this row is ``JPN``, the index is ``2``. Make sure to print the resulting Series.\n",
    "* Use ``loc`` or ``iloc`` to select the observations for Australia and Egypt as a DataFrame. You can find out about the labels/indexes of these rows by inspecting ``cars``. Make sure to print the resulting DataFrame."
   ]
  },
  {
   "cell_type": "code",
   "execution_count": 22,
   "id": "d0ea7b2d",
   "metadata": {},
   "outputs": [
    {
     "name": "stdout",
     "output_type": "stream",
     "text": [
      "cars_per_cap      588\n",
      "country         Japan\n",
      "drives_right    False\n",
      "Name: JAP, dtype: object\n",
      "     cars_per_cap    country  drives_right\n",
      "AUS           731  Australia         False\n",
      "EG             45      Egypt          True\n"
     ]
    }
   ],
   "source": [
    "# Import cars data\n",
    "import pandas as pd\n",
    "cars = pd.read_csv('../datasets/cars.csv', index_col = 0)\n",
    "\n",
    "# Print out observation for Japan\n",
    "print(cars.loc[\"JAP\"]) # also, cars.iloc[2]\n",
    "\n",
    "# Print out observations for Australia and Egypt\n",
    "print(cars.loc[[\"AUS\", \"EG\"]])"
   ]
  },
  {
   "cell_type": "markdown",
   "id": "c732763f",
   "metadata": {},
   "source": [
    "## 2.14 loc and iloc (2)\n",
    "\n",
    "### Description\n",
    "\n",
    "``loc`` and ``iloc`` also allow you to select both rows and columns from a DataFrame. To experiment, try out the following commands. Again, paired commands produce the same result.\n",
    "\n",
    "```py\n",
    "cars.loc['IN', 'cars_per_cap']\n",
    "cars.iloc[3, 0]\n",
    "\n",
    "cars.loc[['IN', 'RU'], 'cars_per_cap']\n",
    "cars.iloc[[3, 4], 0]\n",
    "\n",
    "cars.loc[['IN', 'RU'], ['cars_per_cap', 'country']]\n",
    "cars.iloc[[3, 4], [0, 1]]\n",
    "```\n",
    "\n",
    "### Instructions\n",
    "\n",
    "* Print out the ``drives_right`` value of the row corresponding to Morocco (its row label is ``MOR``)\n",
    "* Print out a sub-DataFrame, containing the observations for Russia and Morocco and the columns ``country`` and ``drives_right``."
   ]
  },
  {
   "cell_type": "code",
   "execution_count": 24,
   "id": "8add2341",
   "metadata": {},
   "outputs": [
    {
     "name": "stdout",
     "output_type": "stream",
     "text": [
      "True\n",
      "     country  drives_right\n",
      "RU    Russia          True\n",
      "MOR  Morocco          True\n"
     ]
    }
   ],
   "source": [
    "# Import cars data\n",
    "import pandas as pd\n",
    "cars = pd.read_csv('../datasets/cars.csv', index_col = 0)\n",
    "\n",
    "# Print out drives_right value of Morocco\n",
    "print(cars.loc[\"MOR\",\"drives_right\"])\n",
    "\n",
    "# Print sub-DataFrame\n",
    "print(cars.loc[[\"RU\", \"MOR\"], [\"country\", \"drives_right\"]])"
   ]
  },
  {
   "cell_type": "markdown",
   "id": "d2b03912",
   "metadata": {},
   "source": [
    "## 2.15 loc and iloc (3)\n",
    "\n",
    "### Decription\n",
    "\n",
    "It's also possible to select only columns with ``loc`` and ``iloc``. In both cases, you simply put a slice going from beginning to end in front of the comma:\n",
    "\n",
    "```py\n",
    "cars.loc[:, 'country']\n",
    "cars.iloc[:, 1]\n",
    "\n",
    "cars.loc[:, ['country','drives_right']]\n",
    "cars.iloc[:, [1, 2]]\n",
    "```\n",
    "\n",
    "### Instructions\n",
    "\n",
    "* Print out the ``drives_right`` column as a Series using ``loc`` or ``iloc``.\n",
    "* Print out the ``drives_right`` column as a DataFrame using ``loc`` or ``iloc``.\n",
    "* Print out both the ``cars_per_cap`` and ``drives_right`` column as a DataFrame using ``loc`` or ``iloc``."
   ]
  },
  {
   "cell_type": "code",
   "execution_count": 26,
   "id": "8eb02c42",
   "metadata": {},
   "outputs": [
    {
     "name": "stdout",
     "output_type": "stream",
     "text": [
      "US      True\n",
      "AUS    False\n",
      "JAP    False\n",
      "IN     False\n",
      "RU      True\n",
      "MOR     True\n",
      "EG      True\n",
      "Name: drives_right, dtype: bool\n",
      "     drives_right\n",
      "US           True\n",
      "AUS         False\n",
      "JAP         False\n",
      "IN          False\n",
      "RU           True\n",
      "MOR          True\n",
      "EG           True\n",
      "     cars_per_cap  drives_right\n",
      "US            809          True\n",
      "AUS           731         False\n",
      "JAP           588         False\n",
      "IN             18         False\n",
      "RU            200          True\n",
      "MOR            70          True\n",
      "EG             45          True\n"
     ]
    }
   ],
   "source": [
    "# Import cars data\n",
    "import pandas as pd\n",
    "cars = pd.read_csv('../datasets/cars.csv', index_col = 0)\n",
    "\n",
    "# Print out drives_right column as Series\n",
    "print(cars.loc[:, \"drives_right\"])\n",
    "\n",
    "# Print out drives_right column as DataFrame\n",
    "print(cars.loc[:, [\"drives_right\"]])\n",
    "\n",
    "# Print out cars_per_cap and drives_right as DataFrame\n",
    "print(cars.loc[:, [\"cars_per_cap\", \"drives_right\"]])"
   ]
  },
  {
   "cell_type": "markdown",
   "id": "0867e5a1",
   "metadata": {},
   "source": [
    "## 3. Quiz"
   ]
  },
  {
   "cell_type": "markdown",
   "id": "137b7d78",
   "metadata": {},
   "source": [
    "## 3.1 Following is a preview of the csv file located at the url dataset. Import it into Python to match the required output.\n",
    "\n",
    "```py\n",
    ",Product,Units, Cost\n",
    "X,A,10,20\n",
    "Y,A,12,22\n",
    "Z,A,10,25\n",
    "```\n",
    "\n",
    "Complete the code to return the output\n",
    "\n",
    "```py\n",
    "# Fill the below\n",
    "import pandas as pd\n",
    "\n",
    "df = pd.read_csv(dataset, index_col=0)\n",
    "print(df)\n",
    "```"
   ]
  },
  {
   "cell_type": "markdown",
   "id": "2ea329c1",
   "metadata": {},
   "source": [
    "## 3.2 Which function from the `pandas` package is used to import data from a `csv` file into Python ?\n",
    "\n",
    "* load()\n",
    "* read_csv() [X]\n",
    "* read()\n"
   ]
  },
  {
   "cell_type": "markdown",
   "id": "b3a66dfc",
   "metadata": {},
   "source": [
    "## 3.3 Following is a preview of the Dataframe `df`:\n",
    "\n",
    "```py\n",
    ",product,profit\n",
    "0,apples,20\n",
    "1,apples,10\n",
    "```\n",
    "\n",
    "Complete the code to return the output\n",
    "\n",
    "```py\n",
    "df[?] = [\"nov\", \"dec\"] # answer is .index\n",
    "print(df)\n",
    "```"
   ]
  },
  {
   "cell_type": "markdown",
   "id": "8428c6e1",
   "metadata": {},
   "source": [
    "## 3.4 Turn the dictionary `my_dict` into a DataFrame\n",
    "\n",
    "Complete teh code to return the output\n",
    "\n",
    "```py\n",
    "datacamp = [?].DataFrame(my_dict) # answer is pd\n",
    "datacamp.index = [\"P\", \"R\", \"S\"]\n",
    "print(datacamp)\n",
    "```"
   ]
  },
  {
   "cell_type": "markdown",
   "id": "0f62d42b",
   "metadata": {},
   "source": [
    "## 3.5 Following is a preview of the DataFrame `classes`:\n",
    "\n",
    "```py\n",
    ",ID,Enrolled,Passed\n",
    "A,1,20,17\n",
    "B,2,18,16\n",
    "C,3,22,19\n",
    "D,4,30,20\n",
    "E,5,25,18\n",
    "```\n",
    "\n",
    "What is the output of this code ?\n",
    "\n",
    "```py\n",
    "print(classes[1:4])\n",
    "```"
   ]
  }
 ],
 "metadata": {
  "kernelspec": {
   "display_name": "Python 3",
   "language": "python",
   "name": "python3"
  },
  "language_info": {
   "codemirror_mode": {
    "name": "ipython",
    "version": 3
   },
   "file_extension": ".py",
   "mimetype": "text/x-python",
   "name": "python",
   "nbconvert_exporter": "python",
   "pygments_lexer": "ipython3",
   "version": "3.12.2"
  }
 },
 "nbformat": 4,
 "nbformat_minor": 5
}
